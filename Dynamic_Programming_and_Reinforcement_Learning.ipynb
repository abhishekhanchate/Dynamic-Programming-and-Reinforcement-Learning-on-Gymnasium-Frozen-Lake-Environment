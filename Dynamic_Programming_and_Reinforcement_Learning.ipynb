{
  "nbformat": 4,
  "nbformat_minor": 0,
  "metadata": {
    "colab": {
      "provenance": []
    },
    "kernelspec": {
      "name": "python3",
      "display_name": "Python 3"
    },
    "language_info": {
      "name": "python"
    }
  },
  "cells": [
    {
      "cell_type": "code",
      "execution_count": 2,
      "metadata": {
        "id": "7Wpq31nl1rZL",
        "colab": {
          "base_uri": "https://localhost:8080/"
        },
        "outputId": "4d59c7cc-6092-484d-bc7f-5471a0ee16d0"
      },
      "outputs": [
        {
          "output_type": "stream",
          "name": "stdout",
          "text": [
            "Looking in indexes: https://pypi.org/simple, https://us-python.pkg.dev/colab-wheels/public/simple/\n",
            "Collecting gymnasium\n",
            "  Downloading gymnasium-0.27.1-py3-none-any.whl (883 kB)\n",
            "\u001b[2K     \u001b[90m━━━━━━━━━━━━━━━━━━━━━━━━━━━━━━━━━━━━━━\u001b[0m \u001b[32m883.7/883.7 KB\u001b[0m \u001b[31m13.3 MB/s\u001b[0m eta \u001b[36m0:00:00\u001b[0m\n",
            "\u001b[?25hRequirement already satisfied: numpy>=1.21.0 in /usr/local/lib/python3.9/dist-packages (from gymnasium) (1.22.4)\n",
            "Requirement already satisfied: importlib-metadata>=4.8.0 in /usr/local/lib/python3.9/dist-packages (from gymnasium) (6.0.0)\n",
            "Collecting gymnasium-notices>=0.0.1\n",
            "  Downloading gymnasium_notices-0.0.1-py3-none-any.whl (2.8 kB)\n",
            "Collecting jax-jumpy>=0.2.0\n",
            "  Downloading jax_jumpy-0.2.0-py3-none-any.whl (11 kB)\n",
            "Requirement already satisfied: typing-extensions>=4.3.0 in /usr/local/lib/python3.9/dist-packages (from gymnasium) (4.5.0)\n",
            "Requirement already satisfied: cloudpickle>=1.2.0 in /usr/local/lib/python3.9/dist-packages (from gymnasium) (2.2.1)\n",
            "Requirement already satisfied: zipp>=0.5 in /usr/local/lib/python3.9/dist-packages (from importlib-metadata>=4.8.0->gymnasium) (3.15.0)\n",
            "Installing collected packages: gymnasium-notices, jax-jumpy, gymnasium\n",
            "Successfully installed gymnasium-0.27.1 gymnasium-notices-0.0.1 jax-jumpy-0.2.0\n"
          ]
        }
      ],
      "source": [
        "!pip install gymnasium"
      ]
    },
    {
      "cell_type": "markdown",
      "source": [
        "### **Problem Description**\n",
        "Frozen lake involves crossing a frozen lake from start to goal without falling into any holes by walking over the frozen lake. The player may not always move in the intended direction due to the slippery nature of the frozen lake. The game starts with the player at location [0,0] of the frozen lake grid world with the goal located at far extent of the world e.g. [3,3] for the 4x4 environment. Holes in the ice are distributed in set locations using a pre-determined map, and the player makes moves until they reach the goal or fall in a hole. The map is given below for your reference"
      ],
      "metadata": {
        "id": "YI5WFlEv2B1b"
      }
    },
    {
      "cell_type": "markdown",
      "source": [
        "### **Example Map**\n",
        "    SFFF      S: starting point, safe\n",
        "    FHFH      F: frozen surface, safe\n",
        "    FFFH      H: hole, fall to your doom\n",
        "    HFFG      G: goal, where the frisbee is located"
      ],
      "metadata": {
        "id": "9HTDn21J2Sw1"
      }
    },
    {
      "cell_type": "markdown",
      "source": [
        "### **Action Space**\n",
        "The player/agent can take 4 discrete actions, in the range \n",
        "\n",
        "    {0,3}\n",
        "    0: Move left\n",
        "    1: Move down\n",
        "    2: Move right\n",
        "    4: Move up\n"
      ],
      "metadata": {
        "id": "H8SIjvpS2pcm"
      }
    },
    {
      "cell_type": "markdown",
      "source": [
        "### **State Space**\n",
        "The environment consists of 16 states. The state is a value representing the player’s current position as current_row * nrows + current_col (where both the row and col start at 0). For example, the goal position in the 4x4 map can be calculated as follows: \n",
        "\n",
        "    3 * 4 + 3 = 15."
      ],
      "metadata": {
        "id": "z3jsZsFu2pjI"
      }
    },
    {
      "cell_type": "markdown",
      "source": [
        "### **Starting State**\n",
        "The episode starts with the player in\n",
        "\n",
        "    state [0] (location [0, 0])"
      ],
      "metadata": {
        "id": "F7RZsS992poW"
      }
    },
    {
      "cell_type": "markdown",
      "source": [
        "###**Rewards**\n",
        "\n",
        "    Reach goal: +1\n",
        "    Reach hole: 0\n",
        "    Reach frozen: 0\n"
      ],
      "metadata": {
        "id": "J_lQo_wE3GUU"
      }
    },
    {
      "cell_type": "markdown",
      "source": [
        "### **Episode End**\n",
        "The episode ends if the following happens:\n",
        "#### **Termination**\n",
        "\n",
        "    - The player moves into a hole.\n",
        "    - The player reaches the goal at \n",
        "    max(nrow) * max(ncol) - 1 (location [max(nrow)-1, max(ncol)-1]).\n",
        "    \n",
        "#### **Truncation**\n",
        "\n",
        "    - The length of the episode is 100 for 4x4 environment.\n",
        "  \n",
        "#### **More Info**\n",
        "    - https://gymnasium.farama.org/environments/toy_text/frozen_lake/"
      ],
      "metadata": {
        "id": "EvMvVYqu3GX3"
      }
    },
    {
      "cell_type": "markdown",
      "source": [
        "### **Environment Parameters**\n",
        "\n",
        "    Use discount factor, Γ=0.9\n",
        "    The environment is slippery, ie., the transition kernel is stochastic.\n",
        "    The transition kernel P is a dictionary. \n",
        "    P[state][action] is tuples with (probability, nextstate, reward, terminal)"
      ],
      "metadata": {
        "id": "IK21_lpN3Gbj"
      }
    },
    {
      "cell_type": "markdown",
      "source": [
        "### **Starter Code Snippet**"
      ],
      "metadata": {
        "id": "UQKfLIJM4QCE"
      }
    },
    {
      "cell_type": "code",
      "source": [
        "import gymnasium as gym\n",
        "env = gym.make('FrozenLake-v1', desc=None, map_name=\"4x4\", is_slippery=True)\n",
        "gamma = 0.9"
      ],
      "metadata": {
        "id": "Y6sstu1_1w3k"
      },
      "execution_count": 3,
      "outputs": []
    },
    {
      "cell_type": "code",
      "source": [
        "#Obtaining environment details \n",
        "print('Number of Actions', env.action_space.n) \n",
        "print('Number of States ', env.observation_space.n)\n",
        "print('P[10,3]', env.P[10][3])"
      ],
      "metadata": {
        "colab": {
          "base_uri": "https://localhost:8080/"
        },
        "id": "rw9Zc3Zx1w6R",
        "outputId": "5bb72bd7-e6c0-4f9a-db7a-13981a1fe75b"
      },
      "execution_count": 4,
      "outputs": [
        {
          "output_type": "stream",
          "name": "stdout",
          "text": [
            "Number of Actions 4\n",
            "Number of States  16\n",
            "P[10,3] [(0.3333333333333333, 11, 0.0, True), (0.3333333333333333, 6, 0.0, False), (0.3333333333333333, 9, 0.0, False)]\n"
          ]
        }
      ]
    },
    {
      "cell_type": "code",
      "source": [
        "env.P"
      ],
      "metadata": {
        "id": "GF59JM3z1Qaq"
      },
      "execution_count": null,
      "outputs": []
    },
    {
      "cell_type": "markdown",
      "source": [
        "### **Generating a Heatmap**\n",
        "    Use the following function fancy_visual to obtain a heat map. The arguments to the function are the value function and its corresponding policy.\n",
        "    This function also prints the value function and policy. "
      ],
      "metadata": {
        "id": "S1FFUJ0j45uY"
      }
    },
    {
      "cell_type": "code",
      "source": [
        "%matplotlib inline\n",
        "import seaborn\n",
        "import matplotlib.pyplot as plt\n",
        "from matplotlib.colors import LogNorm\n",
        "import numpy as np\n",
        "def fancy_visual(value_func,policy_int):    \n",
        "    grid = 4    \n",
        "    f, ax = plt.subplots(figsize=(11, 9))\n",
        "    cmap = seaborn.diverging_palette(220, 10, as_cmap=True)\n",
        "    reshaped = np.reshape(value_func,(grid,grid))\n",
        "    seaborn.heatmap(reshaped, cmap=\"icefire\",vmax=1.1, robust = True,\n",
        "                square=True, xticklabels=grid+1, yticklabels=grid+1,\n",
        "                linewidths=.5, cbar_kws={\"shrink\": .5}, ax=ax, annot=True, fmt=\"f\")\n",
        "    counter = 0\n",
        "    for j in range(0, 4):\n",
        "        for i in range(0, 4):\n",
        "            if int(policy_int[counter]) == 1:\n",
        "                plt.text(i+0.5, j+0.7, u'\\u2193', fontsize=12)\n",
        "            elif int(policy_int[counter]) == 3:\n",
        "                plt.text(i+0.5, j+0.7, u'\\u2191', fontsize=12)\n",
        "            elif int(policy_int[counter]) == 0:\n",
        "                plt.text(i+0.5, j+0.7, u'\\u2190', fontsize=12)\n",
        "            else:\n",
        "                plt.text(i+0.5, j+0.7, u'\\u2192', fontsize=12)\n",
        "            counter=counter+1\n",
        "\n",
        "    plt.title('Heatmap of policy iteration with value function values and directions')\n",
        "    print('Value Function',value_func)\n",
        "    print('Policy',policy_int)\n",
        "    plt.show()"
      ],
      "metadata": {
        "id": "VTr6PJ4c1w9J"
      },
      "execution_count": 6,
      "outputs": []
    },
    {
      "cell_type": "code",
      "source": [
        "test_value = np.random.rand(16) #Random Value Function (only for plotting)\n",
        "test_policy = np.random.randint(0,3,16) #Random Policy (only for plotting)\n",
        "fancy_visual(test_value,test_policy)"
      ],
      "metadata": {
        "colab": {
          "base_uri": "https://localhost:8080/",
          "height": 624
        },
        "id": "eya-ZVoa8Pgi",
        "outputId": "80a04acf-7efc-4b4d-b0e9-20eb922d79d2"
      },
      "execution_count": null,
      "outputs": [
        {
          "output_type": "stream",
          "name": "stdout",
          "text": [
            "Value Function [0.28338501 0.31584838 0.3427377  0.62811032 0.42742707 0.79982812\n",
            " 0.46573067 0.51493406 0.44675504 0.09502649 0.84547531 0.20312827\n",
            " 0.12006335 0.49029487 0.14190896 0.22304667]\n",
            "Policy [2 2 1 0 1 1 1 2 2 0 2 2 2 0 1 0]\n"
          ]
        },
        {
          "output_type": "display_data",
          "data": {
            "text/plain": [
              "<Figure size 792x648 with 2 Axes>"
            ],
            "image/png": "[encoded data removed]"
          },
          "metadata": {
            "needs_background": "light"
          }
        }
      ]
    },
    {
      "cell_type": "markdown",
      "source": [
        "### **Q Learning**\n",
        "    Q learning is a model free approach, thus you will not use the transition kernel.\n",
        "    You can reset the environment using env.reset()\n",
        "    env.step(action) takes in action as an argument and gives next state,reward,terminal and info as the output"
      ],
      "metadata": {
        "id": "Pcg45Uhc5nuW"
      }
    },
    {
      "cell_type": "code",
      "source": [
        "state, info = env.reset() #Reset the env\n",
        "max_step = 20 \n",
        "for step in range(max_step):    \n",
        "    action = env.action_space.sample() #Random Action\n",
        "    n_state,reward,terminal,truncated,info = env.step(action) #Take a step \n",
        "    print(\"Time:\",step,'State:',state,'Action:',action,'Reward:',reward,'Next State:',n_state,'Terminal:',terminal)\n",
        "    state = n_state \n",
        "    if terminal or truncated: #Episode ends if the termination or truncation is true\n",
        "        break"
      ],
      "metadata": {
        "colab": {
          "base_uri": "https://localhost:8080/"
        },
        "id": "BO5iZN291w_p",
        "outputId": "bd96e368-682f-412b-84fd-612c5562abd2"
      },
      "execution_count": 7,
      "outputs": [
        {
          "output_type": "stream",
          "name": "stdout",
          "text": [
            "Time: 0 State: 0 Action: 2 Reward: 0.0 Next State: 1 Terminal: False\n",
            "Time: 1 State: 1 Action: 0 Reward: 0.0 Next State: 5 Terminal: True\n"
          ]
        }
      ]
    },
    {
      "cell_type": "markdown",
      "source": [
        "###**Planning Question 1 - Q-Value Iteration (QVI): Implement Q-value iteration on the frozen lake environment.**"
      ],
      "metadata": {
        "id": "dtv7zvGU8jPO"
      }
    },
    {
      "cell_type": "markdown",
      "source": [
        "https://github.com/sudharsan13296/Deep-Reinforcement-Learning-With-Python/blob/master/03.%20Bellman%20Equation%20and%20Dynamic%20Programming/3.06.%20Solving%20the%20Frozen%20Lake%20Problem%20with%20Value%20Iteration.ipynb"
      ],
      "metadata": {
        "id": "3H5Me55c9BIb"
      }
    },
    {
      "cell_type": "code",
      "source": [
        "import gymnasium as gym\n",
        "env = gym.make('FrozenLake-v1', desc=None, map_name=\"4x4\", is_slippery=True)\n",
        "gamma = 0.9"
      ],
      "metadata": {
        "id": "gq1q52Ch1xCS"
      },
      "execution_count": 8,
      "outputs": []
    },
    {
      "cell_type": "code",
      "source": [
        "#Obtaining environment details \n",
        "print('Number of Actions', env.action_space.n) \n",
        "print('Number of States ', env.observation_space.n)\n",
        "print('P[10,3]', env.P[10][3])"
      ],
      "metadata": {
        "colab": {
          "base_uri": "https://localhost:8080/"
        },
        "id": "4mB9z9Er8rzR",
        "outputId": "b240830f-e91d-481b-d094-5ffe8ba73dac"
      },
      "execution_count": 9,
      "outputs": [
        {
          "output_type": "stream",
          "name": "stdout",
          "text": [
            "Number of Actions 4\n",
            "Number of States  16\n",
            "P[10,3] [(0.3333333333333333, 11, 0.0, True), (0.3333333333333333, 6, 0.0, False), (0.3333333333333333, 9, 0.0, False)]\n"
          ]
        }
      ]
    },
    {
      "cell_type": "code",
      "source": [
        "def value_iteration(env):\n",
        "    # The Length of the Episode is 100 for 4x4 Environment - Truncation\n",
        "    num_episodes = 100\n",
        "    # Threshold for Convergence\n",
        "    threshold = 1e-20\n",
        "    # Use Discount Factor, Γ=0.9\n",
        "    gamma = 0.9\n",
        "    value_table = np.zeros(env.observation_space.n)\n",
        "    for i in range(num_episodes):\n",
        "        updated_value_table = np.copy(value_table)  \n",
        "        for s in range(env.observation_space.n): \n",
        "            Q_values = [sum([prob*(r + gamma * updated_value_table[s_])\n",
        "                             for prob, s_, r, _ in env.P[s][a]]) \n",
        "                                   for a in range(env.action_space.n)]                           \n",
        "            value_table[s] = max(Q_values)                \n",
        "        if (np.sum(np.fabs(updated_value_table - value_table)) <= threshold):\n",
        "            print ('QVI converged at episode# %d.' %(i+1))\n",
        "            break\n",
        "    return value_table\n",
        "\n",
        "def extract_policy(value_table):\n",
        "    # Use discount factor, Γ=0.9\n",
        "    gamma = 0.9  \n",
        "    policy = np.zeros(env.observation_space.n) \n",
        "    for s in range(env.observation_space.n):\n",
        "        Q_values = [sum([prob*(r + gamma * value_table[s_])\n",
        "                             for prob, s_, r, _ in env.P[s][a]]) \n",
        "                                   for a in range(env.action_space.n)]      \n",
        "        policy[s] = np.argmax(np.array(Q_values))        \n",
        "    return policy"
      ],
      "metadata": {
        "id": "m4J_st0G3Hpa"
      },
      "execution_count": 45,
      "outputs": []
    },
    {
      "cell_type": "code",
      "source": [
        "optimal_value_function = value_iteration(env=env)"
      ],
      "metadata": {
        "id": "pGPX3F543HsK"
      },
      "execution_count": 46,
      "outputs": []
    },
    {
      "cell_type": "code",
      "source": [
        "optimal_value_function"
      ],
      "metadata": {
        "colab": {
          "base_uri": "https://localhost:8080/"
        },
        "id": "3TV06hHlnAV3",
        "outputId": "6d739335-a490-47be-e172-4fc99895b4d5"
      },
      "execution_count": 47,
      "outputs": [
        {
          "output_type": "execute_result",
          "data": {
            "text/plain": [
              "array([0.06889059, 0.06141431, 0.07440957, 0.05580711, 0.09185426,\n",
              "       0.        , 0.1122081 , 0.        , 0.14543612, 0.2474968 ,\n",
              "       0.29961748, 0.        , 0.        , 0.37993579, 0.63902009,\n",
              "       0.        ])"
            ]
          },
          "metadata": {},
          "execution_count": 47
        }
      ]
    },
    {
      "cell_type": "code",
      "source": [
        "optimal_value_function[0]"
      ],
      "metadata": {
        "colab": {
          "base_uri": "https://localhost:8080/"
        },
        "id": "4QO6Vbyh9UpK",
        "outputId": "437220c2-9570-4b7f-fc11-469147f42a77"
      },
      "execution_count": 48,
      "outputs": [
        {
          "output_type": "execute_result",
          "data": {
            "text/plain": [
              "0.06889059214242592"
            ]
          },
          "metadata": {},
          "execution_count": 48
        }
      ]
    },
    {
      "cell_type": "code",
      "source": [
        "optimal_policy = extract_policy(optimal_value_function)"
      ],
      "metadata": {
        "id": "fv-Neo373HvZ"
      },
      "execution_count": 49,
      "outputs": []
    },
    {
      "cell_type": "markdown",
      "source": [
        "#### **(a) What is the optimal policy and value function?**"
      ],
      "metadata": {
        "id": "fvlZk3OZR_nm"
      }
    },
    {
      "cell_type": "code",
      "source": [
        "print(optimal_value_function)"
      ],
      "metadata": {
        "colab": {
          "base_uri": "https://localhost:8080/"
        },
        "id": "zbCuOXlB8Y0U",
        "outputId": "1fb9417c-afc0-47c3-9695-e681af633af4"
      },
      "execution_count": 50,
      "outputs": [
        {
          "output_type": "stream",
          "name": "stdout",
          "text": [
            "[0.06889059 0.06141431 0.07440957 0.05580711 0.09185426 0.\n",
            " 0.1122081  0.         0.14543612 0.2474968  0.29961748 0.\n",
            " 0.         0.37993579 0.63902009 0.        ]\n"
          ]
        }
      ]
    },
    {
      "cell_type": "code",
      "source": [
        "print(optimal_policy)"
      ],
      "metadata": {
        "colab": {
          "base_uri": "https://localhost:8080/"
        },
        "id": "jtZ2W-In3HzL",
        "outputId": "b397148a-5eec-4573-ebf0-a2eb0b880ef5"
      },
      "execution_count": 51,
      "outputs": [
        {
          "output_type": "stream",
          "name": "stdout",
          "text": [
            "[0. 3. 0. 3. 0. 0. 0. 0. 3. 1. 0. 0. 0. 2. 1. 0.]\n"
          ]
        }
      ]
    },
    {
      "cell_type": "code",
      "source": [
        "Qstar = optimal_value_function # Optimal Q-values obtained from value iteration"
      ],
      "metadata": {
        "id": "BKQcBURoF_DH"
      },
      "execution_count": 52,
      "outputs": []
    },
    {
      "cell_type": "markdown",
      "source": [
        "#### **(b) Plot Uk = ||Qk − Qk−1||, where Qk is the Q-value during the kth iteration.**"
      ],
      "metadata": {
        "id": "6HJq5HGfSEzV"
      }
    },
    {
      "cell_type": "code",
      "source": [
        "# Function to compute Euclidean norm of the difference between Qk and Q*\n",
        "def compute_euclidean_norm(Qk, Qstar):\n",
        "    return np.linalg.norm(Qk - Qstar)\n",
        "\n",
        "# Function to compute Infinity norm of the difference between Qk and Q*\n",
        "def compute_infinity_norm(Qk, Qstar):\n",
        "    return np.max(np.abs(Qk - Qstar))"
      ],
      "metadata": {
        "id": "HLkwYVP9SKNc"
      },
      "execution_count": 17,
      "outputs": []
    },
    {
      "cell_type": "code",
      "source": [
        "def value_iteration(env):\n",
        "    # The Length of the Episode is 100 for 4x4 Environment - Truncation\n",
        "    num_episodes = 100\n",
        "    # Threshold for Convergence\n",
        "    threshold = 1e-20\n",
        "    # Use Discount Factor, Γ=0.9\n",
        "    gamma = 0.9\n",
        "    # Qk\n",
        "    Qks = []\n",
        "    value_table = np.zeros(env.observation_space.n)\n",
        "    for i in range(num_episodes):\n",
        "        updated_value_table = np.copy(value_table)  \n",
        "        for s in range(env.observation_space.n): \n",
        "            Q_values = [sum([prob*(r + gamma * updated_value_table[s_])\n",
        "                             for prob, s_, r, _ in env.P[s][a]]) \n",
        "                                   for a in range(env.action_space.n)] \n",
        "            Qks.append(Q_values)                          \n",
        "            value_table[s] = max(Q_values)                \n",
        "        if (np.sum(np.fabs(updated_value_table - value_table)) <= threshold):\n",
        "            print ('QVI converged at episode# %d.' %(i+1))\n",
        "            #Qks.append(Q_values)\n",
        "            break\n",
        "    return Qks\n",
        "\n",
        "def extract_policy(value_table):\n",
        "    # Use discount factor, Γ=0.9\n",
        "    gamma = 0.9  \n",
        "    policy = np.zeros(env.observation_space.n) \n",
        "    for s in range(env.observation_space.n):\n",
        "        Q_values = [sum([prob*(r + gamma * value_table[s_])\n",
        "                             for prob, s_, r, _ in env.P[s][a]]) \n",
        "                                   for a in range(env.action_space.n)]      \n",
        "        policy[s] = np.argmax(np.array(Q_values))        \n",
        "    return policy"
      ],
      "metadata": {
        "id": "AW1nuBH3Ddo7"
      },
      "execution_count": 57,
      "outputs": []
    },
    {
      "cell_type": "code",
      "source": [
        "optimal_value_function = value_iteration(env=env)"
      ],
      "metadata": {
        "id": "nKnFhLAoDdso"
      },
      "execution_count": 58,
      "outputs": []
    },
    {
      "cell_type": "code",
      "source": [
        "print(optimal_value_function)"
      ],
      "metadata": {
        "colab": {
          "base_uri": "https://localhost:8080/"
        },
        "id": "aa4cZfdYDdwt",
        "outputId": "06aec0e7-3c1b-4b67-c3de-0bf1b0de1a3e"
      },
      "execution_count": 59,
      "outputs": [
        {
          "output_type": "stream",
          "name": "stdout",
          "text": [
            "[[0.0, 0.0, 0.0, 0.0], [0.0, 0.0, 0.0, 0.0], [0.0, 0.0, 0.0, 0.0], [0.0, 0.0, 0.0, 0.0], [0.0, 0.0, 0.0, 0.0], [0.0, 0.0, 0.0, 0.0], [0.0, 0.0, 0.0, 0.0], [0.0, 0.0, 0.0, 0.0], [0.0, 0.0, 0.0, 0.0], [0.0, 0.0, 0.0, 0.0], [0.0, 0.0, 0.0, 0.0], [0.0, 0.0, 0.0, 0.0], [0.0, 0.0, 0.0, 0.0], [0.0, 0.0, 0.0, 0.0], [0.0, 0.3333333333333333, 0.3333333333333333, 0.3333333333333333], [0.0, 0.0, 0.0, 0.0], [0.0, 0.0, 0.0, 0.0], [0.0, 0.0, 0.0, 0.0], [0.0, 0.0, 0.0, 0.0], [0.0, 0.0, 0.0, 0.0], [0.0, 0.0, 0.0, 0.0], [0.0, 0.0, 0.0, 0.0], [0.0, 0.0, 0.0, 0.0], [0.0, 0.0, 0.0, 0.0], [0.0, 0.0, 0.0, 0.0], [0.0, 0.0, 0.0, 0.0], [0.09999999999999999, 0.09999999999999999, 0.09999999999999999, 0.0], [0.0, 0.0, 0.0, 0.0], [0.0, 0.0, 0.0, 0.0], [0.0, 0.09999999999999999, 0.09999999999999999, 0.09999999999999999], [0.09999999999999999, 0.4333333333333333, 0.4333333333333333, 0.3333333333333333], [0.0, 0.0, 0.0, 0.0], [0.0, 0.0, 0.0, 0.0], [0.0, 0.0, 0.0, 0.0], [0.0, 0.0, 0.0, 0.0], [0.0, 0.0, 0.0, 0.0], [0.0, 0.0, 0.0, 0.0], [0.0, 0.0, 0.0, 0.0], [0.03, 0.03, 0.03, 0.0], [0.0, 0.0, 0.0, 0.0], [0.0, 0.0, 0.0, 0.0], [0.03, 0.06, 0.06, 0.03], [0.12999999999999998, 0.12999999999999998, 0.12999999999999998, 0.0], [0.0, 0.0, 0.0, 0.0], [0.0, 0.0, 0.0, 0.0], [0.03, 0.15999999999999998, 0.15999999999999998, 0.12999999999999998], [0.18999999999999997, 0.4933333333333333, 0.4933333333333333, 0.3933333333333333], [0.0, 0.0, 0.0, 0.0], [0.0, 0.0, 0.0, 0.0], [0.0, 0.0, 0.0, 0.0], [0.009, 0.009, 0.009, 0.0], [0.0, 0.0, 0.0, 0.0], [0.0, 0.0, 0.0, 0.0], [0.0, 0.0, 0.0, 0.0], [0.03899999999999999, 0.03899999999999999, 0.03899999999999999, 0.0], [0.0, 0.0, 0.0, 0.0], [0.0, 0.018, 0.018, 0.018], [0.047999999999999994, 0.087, 0.087, 0.03899999999999999], [0.17499999999999996, 0.16599999999999995, 0.15699999999999997, 0.026999999999999996], [0.0, 0.0, 0.0, 0.0], [0.0, 0.0, 0.0, 0.0], [0.06599999999999999, 0.19599999999999995, 0.21399999999999994, 0.16599999999999995], [0.23499999999999996, 0.5293333333333332, 0.5203333333333333, 0.4203333333333333], [0.0, 0.0, 0.0, 0.0], [0.0, 0.0, 0.0, 0.0], [0.0, 0.0026999999999999997, 0.0026999999999999997, 0.0026999999999999997], [0.014399999999999996, 0.011699999999999997, 0.014399999999999996, 0.0026999999999999997], [0.0026999999999999997, 0.0026999999999999997, 0.0, 0.0026999999999999997], [0.005399999999999999, 0.005399999999999999, 0.005399999999999999, 0.0], [0.0, 0.0, 0.0, 0.0], [0.05519999999999999, 0.05249999999999999, 0.05519999999999999, 0.0026999999999999997], [0.0, 0.0, 0.0, 0.0], [0.005399999999999999, 0.0315, 0.026099999999999998, 0.0315], [0.06959999999999998, 0.12209999999999997, 0.11669999999999997, 0.05789999999999999], [0.19659999999999994, 0.18489999999999995, 0.17049999999999993, 0.03779999999999999], [0.0, 0.0, 0.0, 0.0], [0.0, 0.0, 0.0, 0.0], [0.09029999999999998, 0.22299999999999992, 0.24909999999999993, 0.18489999999999995], [0.2754999999999999, 0.5563333333333332, 0.5446333333333333, 0.4500333333333333], [0.0, 0.0, 0.0, 0.0], [0.00162, 0.00243, 0.00243, 0.00081], [0.00081, 0.004319999999999999, 0.005129999999999999, 0.005129999999999999], [0.021689999999999997, 0.018179999999999995, 0.021689999999999994, 0.005939999999999999], [0.005129999999999999, 0.005129999999999999, 0.00162, 0.005939999999999999], [0.01107, 0.01107, 0.00945, 0.00162], [0.0, 0.0, 0.0, 0.0], [0.06329999999999998, 0.058979999999999984, 0.06329999999999998, 0.004319999999999999], [0.0, 0.0, 0.0, 0.0], [0.01107, 0.04607999999999999, 0.03824999999999999, 0.04769999999999999], [0.08417999999999998, 0.14315999999999995, 0.13370999999999997, 0.06842999999999999], [0.22008999999999995, 0.20352999999999996, 0.18345999999999996, 0.05318999999999999], [0.0, 0.0, 0.0, 0.0], [0.0, 0.0, 0.0, 0.0], [0.11135999999999996, 0.24162999999999996, 0.27825999999999995, 0.20352999999999996], [0.30060999999999993, 0.5749633333333333, 0.5592133333333333, 0.46704333333333325], [0.0, 0.0, 0.0, 0.0], [0.004779, 0.005588999999999999, 0.005589, 0.002997], [0.002268, 0.007235999999999999, 0.008046, 0.008775], [0.02703599999999999, 0.02231099999999999, 0.02727899999999999, 0.009827999999999998], [0.008288999999999998, 0.008288999999999998, 0.0035639999999999995, 0.010070999999999998], [0.018359999999999998, 0.017630999999999997, 0.015038999999999999, 0.00405], [0.0, 0.0, 0.0, 0.0], [0.07253399999999997, 0.06602699999999997, 0.07253399999999997, 0.006506999999999999], [0.0, 0.0, 0.0, 0.0], [0.017630999999999997, 0.05725799999999998, 0.046268999999999984, 0.06057899999999998], [0.097788, 0.163815, 0.14950499999999997, 0.08033699999999998], [0.234427, 0.215437, 0.191479, 0.06193799999999998], [0.0, 0.0, 0.0, 0.0], [0.0, 0.0, 0.0, 0.0], [0.12642599999999998, 0.255967, 0.298915, 0.215437], [0.321994, 0.5893003333333333, 0.5718493333333333, 0.4828383333333333], [0.0, 0.0, 0.0, 0.0], [0.008861399999999998, 0.009817199999999998, 0.009817199999999998, 0.0059859], [0.0043092, 0.009860399999999997, 0.010816199999999996, 0.012492899999999996], [0.03257639999999999, 0.027413999999999994, 0.032965199999999986, 0.013837499999999996], [0.011204999999999996, 0.011204999999999996, 0.006042599999999999, 0.014226299999999996], [0.025358399999999993, 0.023681699999999993, 0.019850399999999994, 0.007184699999999999], [0.0, 0.0, 0.0, 0.0], [0.0785118, 0.0703281, 0.0785118, 0.008183699999999997], [0.0, 0.0, 0.0, 0.0], [0.023681699999999993, 0.0673182, 0.05465249999999999, 0.07282619999999998], [0.10784819999999998, 0.17817629999999998, 0.1600026, 0.08850179999999999], [0.24769479999999997, 0.22593459999999999, 0.19855029999999996, 0.07090469999999999], [0.0, 0.0, 0.0, 0.0], [0.0, 0.0, 0.0, 0.0], [0.13881899999999997, 0.26646459999999994, 0.3156090999999999, 0.22593459999999999], [0.33679269999999994, 0.5997979333333332, 0.5804515333333333, 0.4933359333333333], [0.0, 0.0, 0.0, 0.0], [0.013497839999999997, 0.014300549999999995, 0.014300549999999995, 0.009638189999999996], [0.006693029999999997, 0.012834719999999994, 0.013637429999999994, 0.016582589999999994], [0.03719097, 0.031569299999999995, 0.03771099, 0.017905319999999992], [0.014157449999999993, 0.014157449999999993, 0.008535779999999996, 0.01842533999999999], [0.03240053999999999, 0.029455379999999996, 0.024793019999999995, 0.010552679999999997], [0.0, 0.0, 0.0, 0.0], [0.08419799999999998, 0.07430843999999999, 0.08419799999999998, 0.009889559999999995], [0.0, 0.0, 0.0, 0.0], [0.029455379999999996, 0.07530074999999999, 0.06106040999999999, 0.08290826999999998], [0.11653058999999996, 0.19083902999999997, 0.16899116999999997, 0.09615629999999999], [0.25694580999999994, 0.23339226999999996, 0.20349292, 0.07700642999999999], [0.0, 0.0, 0.0, 0.0], [0.0, 0.0, 0.0, 0.0], [0.14813561999999997, 0.2746221099999999, 0.3280749999999999, 0.23339226999999996], [0.34893054999999995, 0.6079554433333332, 0.5875811533333333, 0.5023245033333332], [0.0, 0.0, 0.0, 0.0], [0.018300491999999995, 0.018985103999999996, 0.018985103999999996, 0.013555106999999995], [0.009264941999999996, 0.015603461999999998, 0.016288074, 0.020578238999999998], [0.041547473999999994, 0.035761778999999994, 0.042100298999999994, 0.021815675999999992], [0.016840898999999996, 0.016840898999999996, 0.011055203999999994, 0.022368500999999992], [0.03888280799999999, 0.03459264299999999, 0.02916264599999999, 0.014010326999999996], [0.0, 0.0, 0.0, 0.0], [0.08839703999999998, 0.07708374299999998, 0.08839703999999998, 0.011313297], [0.0, 0.0, 0.0, 0.0], [0.03459264299999999, 0.08212418999999999, 0.06697187099999999, 0.09184435199999998], [0.12329498099999996, 0.20037872399999995, 0.17550624299999995, 0.10195622399999997], [0.26489774199999994, 0.23963834199999992, 0.20764603299999992, 0.08251110899999999], [0.0, 0.0, 0.0, 0.0], [0.0, 0.0, 0.0, 0.0], [0.15567420899999995, 0.2808091329999999, 0.33806084199999986, 0.23963834199999992], [0.35789287599999986, 0.6141424663333332, 0.5928037093333333, 0.5088395763333333], [0.0, 0.0, 0.0, 0.0], [0.023055904799999995, 0.023533845299999995, 0.023533845299999995, 0.017564534099999998], [0.011869002899999998, 0.0183256209, 0.0188035614, 0.024499092599999998], [0.0453226734, 0.039403134, 0.045859752, 0.025514111699999995], [0.019340639999999996, 0.019340639999999996, 0.013421100599999994, 0.026051190299999992], [0.04491367919999999, 0.039218147999999994, 0.033248836799999994, 0.017360373599999996], [0.0, 0.0, 0.0, 0.0], [0.09209941229999997, 0.07946932259999998, 0.09209941229999997, 0.0126300897], [0.0, 0.0, 0.0, 0.0], [0.039218147999999994, 0.08766692279999998, 0.07177845959999998, 0.09933176519999998], [0.12897155819999995, 0.20844088079999992, 0.18088757519999993, 0.10702262819999997], [0.27087546909999993, 0.24435635709999998, 0.21076185189999996, 0.08663272919999998], [0.0, 0.0, 0.0, 0.0], [0.0, 0.0, 0.0, 0.0], [0.16153186979999995, 0.28566099249999993, 0.3457746096999999, 0.24435635709999998], [0.36513031509999994, 0.6189943258333332, 0.5970453958333333, 0.5142209085333332], [0.0, 0.0, 0.0, 0.0], [0.027594410939999994, 0.027883985129999993, 0.027883985129999997, 0.021470034959999995], [0.014409881369999997, 0.020818079189999998, 0.021107653379999997, 0.028167806969999994], [0.04873747706999999, 0.04279490855999999, 0.049203106379999986, 0.028923010469999993], [0.021573282689999994, 0.021573282689999994, 0.015630714179999994, 0.029388639779999993], [0.05033378690999999, 0.04327363331999999, 0.036859683149999996, 0.020534257349999994], [0.0, 0.0, 0.0, 0.0], [0.09502056632999997, 0.08126264072999997, 0.09502056632999997, 0.013757925599999998], [0.0, 0.0, 0.0, 0.0], [0.04327363331999999, 0.09233179379999996, 0.07600636799999996, 0.10580589755999996], [0.13353191246999996, 0.21479455319999993, 0.18499502363999995, 0.11106217028999997], [0.27586038567999993, 0.24823056198999993, 0.21332812143999996, 0.09016208792999997], [0.0, 0.0, 0.0, 0.0], [0.0, 0.0, 0.0, 0.0], [0.16626464714999994, 0.28943068065999994, 0.3519629448999999, 0.24823056198999993], [0.3706933213899999, 0.6227640139933333, 0.6002942718133333, 0.5183283569733332], [0.0, 0.0, 0.0, 0.0], [0.031830527150999995, 0.031915673703, 0.031915673703, 0.025180733169], [0.01681553763, 0.023126127452999995, 0.023211274004999994, 0.031576469543999994], [0.05171744390399999, 0.04577310392399998, 0.052083693746999976, 0.03202786593899999], [0.023577523847999993, 0.023577523847999993, 0.017633183867999995, 0.032394115781999994], [0.055207100879999985, 0.04684190534099998, 0.04010696480699999, 0.023465331612], [0.0, 0.0, 0.0, 0.0], [0.09751904761799997, 0.08275811570399998, 0.09751904761799997, 0.014760931913999995], [0.0, 0.0, 0.0, 0.0], [0.04684190534099998, 0.09618013522799997, 0.07953850203299997, 0.11128027130099996], [0.13733065273799994, 0.22008876844199993, 0.18834699917399994, 0.11449988497199996], [0.27977374005699995, 0.25126757015799994, 0.21533537409699996, 0.09294453585899998], [0.0, 0.0, 0.0, 0.0], [0.0, 0.0, 0.0, 0.0], [0.17002724942999994, 0.2924180876679999, 0.3568564536279999, 0.25126757015799994], [0.3751762033719999, 0.6257514210013333, 0.6029206532353332, 0.5216803325073333], [0.0, 0.0, 0.0, 0.0], [0.035711534485799994, 0.035609773238099995, 0.035609773238099995, 0.028622345084999994], [0.019047642974099995, 0.02519981023499999, 0.02509804898729999, 0.03467275109819999], [0.05435376327269998, 0.048446889883199985, 0.05459905714409998, 0.03481628372189999], [0.02534334285869999, 0.02534334285869999, 0.019436469469199996, 0.03506157759329999], [0.05952091376519998, 0.04994621165429998, 0.042958783501199985, 0.026136832374899995], [0.0, 0.0, 0.0, 0.0], [0.09955723014119998, 0.08393212201709999, 0.09955723014119998, 0.015625108124099993], [0.0, 0.0, 0.0, 0.0], [0.04994621165429998, 0.09941071192289995, 0.08258876079659996, 0.11597284218689995], [0.14044101747869994, 0.22437313949579993, 0.19098905810549993, 0.11731620340739997], [0.2830077711184, 0.25375205683299995, 0.2169811405858, 0.09528234481799996], [0.0, 0.0, 0.0, 0.0], [0.0, 0.0, 0.0, 0.0], [0.17308356662099994, 0.29478236238879996, 0.3608089929213999, 0.25375205683299995], [0.37871448440589994, 0.6281156957221332, 0.6049908816508333, 0.5243223914388333], [0.0, 0.0, 0.0, 0.0], [0.039283194821039986, 0.038971559804759984, 0.038971559804759984, 0.03182874602093999], [0.021115285675199994, 0.02709317748896999, 0.02678154247268999, 0.03749500281842999], [0.05664871151504998, 0.050787467649809986, 0.05676535946357998, 0.03730001575067998], [0.02689819042121999, 0.02689819042121999, 0.021036946555979992, 0.037416663699209984], [0.06336158713136997, 0.052648126785629974, 0.045505313001809974, 0.02856973447529999], [0.0, 0.0, 0.0, 0.0], [0.10128204847875, 0.08490233133552, 0.10128204847875, 0.016379717143229992], [0.0, 0.0, 0.0, 0.0], [0.052648126785629974, 0.10210379450480997, 0.08516821597829997, 0.11996006863436995], [0.14303455053248995, 0.22793688186800995, 0.19314502921193996, 0.11969418399158999], [0.2856138196077399, 0.25574665056537993, 0.21830187775899995, 0.09717911089109997], [0.0, 0.0, 0.0, 0.0], [0.0, 0.0, 0.0, 0.0], [0.17555463972515994, 0.2966774065930599, 0.36398934844179986, 0.25574665056537993], [0.3815797379285799, 0.6300107399263932, 0.6066703733854932, 0.5264783625452732], [0.0, 0.0, 0.0, 0.0], [0.04257839303203498, 0.04204193543125198, 0.04204193543125198, 0.03481841773815299], [0.023033459291840995, 0.02881456628538599, 0.02827810868460299, 0.04006306713091498], [0.05866272322822799, 0.052858114498916996, 0.05863922149246199, 0.039503107794365985], [0.02825460694883699, 0.02825460694883699, 0.022449998219525993, 0.039479606058599986], [0.06678145517603397, 0.05499649672972197, 0.047772979036622976, 0.030793434585722985], [0.0, 0.0, 0.0, 0.0], [0.10271375372139598, 0.08568414588232198, 0.10271375372139598, 0.017029607839073993], [0.0, 0.0, 0.0, 0.0], [0.05499649672972197, 0.10436908515071397, 0.08738954069981397, 0.12337756129012495], [0.14518482512285094, 0.23086897100517292, 0.19488095041486192, 0.12167216647263296], [0.28776890108194597, 0.25738428653832096, 0.21938783652154298, 0.09876567910402798], [0.0, 0.0, 0.0, 0.0], [0.0, 0.0, 0.0, 0.0], [0.17757786909294293, 0.2982000265104579, 0.3665810910708609, 0.25738428653832096], [0.3838841723927799, 0.6315333598437912, 0.6080207011935733, 0.5282142837481952], [0.0, 0.0, 0.0, 0.0], [0.045581472372031175, 0.04482687460169518, 0.04482687460169518, 0.037565955958495476], [0.024792438048884986, 0.03037233487807889, 0.029617737107742893, 0.042391255017353385], [0.060431863224161685, 0.05467692807327328, 0.06025682490246719, 0.04146161892532289], [0.029442698786048396, 0.029442698786048396, 0.023687763635159995, 0.041286580603628394], [0.06982122284945817, 0.05704770493984768, 0.049786786296647983, 0.032807954462420685], [0.0, 0.0, 0.0, 0.0], [0.10392948729305221, 0.0863306703245838, 0.10392948729305221, 0.0175988169684684], [0.0, 0.0, 0.0, 0.0], [0.05704770493984768, 0.10627395968858937, 0.08929512785436207, 0.12630839624139956], [0.14698759570829578, 0.23331826603287958, 0.19630499764584208, 0.12334393871162129], [0.28953482537110803, 0.2587206992546892, 0.22027413406955615, 0.10007481741797067], [0.0, 0.0, 0.0, 0.0], [0.0, 0.0, 0.0, 0.0], [0.17923501862281016, 0.29943433527439567, 0.36869502657594755, 0.2587206992546892], [0.3857650055989794, 0.632767668607729, 0.6091240116110546, 0.5296383309791755], [0.0, 0.0, 0.0, 0.0], [0.04829525027805616, 0.047338185071652814, 0.047338185071652814, 0.04006625992842472], [0.02639181821681537, 0.03180400067885786, 0.03084693547245452, 0.04452137718406387], [0.062025781660370184, 0.0562821968742102, 0.061694379336252686, 0.04323290965354304], [0.03051553314833702, 0.03051553314833702, 0.024771948362177033, 0.042901507329425534], [0.07251332743886667, 0.05883888572725732, 0.051566960584029216, 0.0346208085664468], [0.0, 0.0, 0.0, 0.0], [0.10499000657858092, 0.08686044761133241, 0.10499000657858092, 0.018129558967248504], [0.0, 0.0, 0.0, 0.0], [0.05883888572725732, 0.10788799868228374, 0.09094184666470131, 0.1288343655371212], [0.14850102684520414, 0.23536147445653655, 0.19746895558411667, 0.12475296648375228], [0.29100462658009824, 0.25982578039218257, 0.22100914677023437, 0.10117432599777954], [0.0, 0.0, 0.0, 0.0], [0.0, 0.0, 0.0, 0.0], [0.18060398778264813, 0.30043880855510297, 0.37043428836496683, 0.25982578039218257], [0.38729925616643535, 0.6337721418884363, 0.6100240815269844, 0.53080228891745], [0.0, 0.0, 0.0, 0.0], [0.0507311483984937, 0.04959898647029601, 0.04959898647029601, 0.042333563322052854], [0.027844988238636008, 0.0330963095815279, 0.031964147653330215, 0.04645272273674706], [0.0634611496269045, 0.057723867327621095, 0.062975188670513, 0.044834599852157875], [0.03147818669693871, 0.03147818669693871, 0.02574090439765532, 0.044348638895766374], [0.0748928829762132, 0.060404307892796355, 0.0531388847445532, 0.03624257331507685], [0.0, 0.0, 0.0, 0.0], [0.10590912247214053, 0.08730138797402948, 0.10590912247214053, 0.018607734498111053], [0.0, 0.0, 0.0, 0.0], [0.060404307892796355, 0.10925875199809731, 0.09236244056862095, 0.1310127502297573], [0.1497805961706264, 0.23708198414465587, 0.1984316744835195, 0.12595169763516584], [0.2922370868770662, 0.2607400849034919, 0.2216286445401052, 0.10210544431053523], [0.0, 0.0, 0.0, 0.0], [0.0, 0.0, 0.0, 0.0], [0.18173872884645098, 0.30126192907602095, 0.3718703714129819, 0.2607400849034919], [0.3885633170500504, 0.6345952624093543, 0.6107663638738936, 0.5317650078168529], [0.0, 0.0, 0.0, 0.0], [0.052906553931960185, 0.05162302623343619, 0.05162302623343619, 0.04437450586012034], [0.02915516134057223, 0.03425768940761946, 0.032974161709095465, 0.04819350622864357], [0.06474689845073762, 0.05901314523139618, 0.06411567329844342, 0.046278753377825374], [0.03234293655680126, 0.03234293655680126, 0.026609183337459822, 0.04564752822553117], [0.07699103448133926, 0.06177168996179115, 0.0545231695884753, 0.03768720941241207], [0.0, 0.0, 0.0, 0.0], [0.1067094709511912, 0.08767112606311984, 0.1067094709511912, 0.019038344888071348], [0.0, 0.0, 0.0, 0.0], [0.06177168996179115, 0.11042842031232394, 0.09359246013626071, 0.1328962852051879], [0.15086493649282176, 0.23853606255594162, 0.1992322374870144, 0.12697495113204704], [0.2932759107078452, 0.26150317396620304, 0.22215131546444844, 0.10289733198503892], [0.0, 0.0, 0.0, 0.0], [0.0, 0.0, 0.0, 0.0], [0.18268570666729134, 0.30193969014670086, 0.3730642853900976, 0.26150317396620304], [0.3896108162098207, 0.6352730234800341, 0.6113830381192594, 0.5325655708203477], [0.0, 0.0, 0.0, 0.0], [0.05484124270357789, 0.05342732839258291, 0.05342732839258291, 0.04620198422776918], [0.030330018048181126, 0.03529603571480934, 0.03388212140381436, 0.04975408758340241], [0.06589496268917172, 0.06016515162160978, 0.06513116928823799, 0.04757637987147371], [0.033118328002880636, 0.033118328002880636, 0.027388516935318703, 0.046812586470539985], [0.0788381620855462, 0.06296619590595814, 0.05574085174114442, 0.038969276523989835], [0.0, 0.0, 0.0, 0.0], [0.10740684274757484, 0.08798277321235355, 0.10740684274757484, 0.019424069535221286], [0.0, 0.0, 0.0, 0.0], [0.06296619590595814, 0.11142970432833885, 0.09465812911118426, 0.13452701467274064], [0.15178817117858567, 0.2397709443909392, 0.19990205882938283, 0.12785165877390992], [0.2941555670961501, 0.26214272581079273, 0.2225947483293676, 0.10357366005213983], [0.0, 0.0, 0.0, 0.0], [0.0, 0.0, 0.0, 0.0], [0.1834801043838118, 0.30250119266103953, 0.374062011427822, 0.26214272581079273], [0.39048396587339307, 0.6358345259943728, 0.6118980135896971, 0.5332353921627162], [0.0, 0.0, 0.0, 0.0], [0.056556194247810596, 0.05503004771175795, 0.05503004771175795, 0.04783097189716746], [0.03137859908609409, 0.03622086161782488, 0.034694715081772236, 0.051147087892845604], [0.06691676790604469, 0.06119205504045517, 0.06603431757218596, 0.04873849102293423], [0.03381226474791351, 0.03381226474791351, 0.028087551882323994, 0.04785604068907551], [0.08046192583855942, 0.06400955302748605, 0.05681047721289556, 0.04010382143673723], [0.0, 0.0, 0.0, 0.0], [0.10801515893559654, 0.08824667012884503, 0.10801515893559654, 0.019768488806751514], [0.0, 0.0, 0.0, 0.0], [0.06400955302748605, 0.11228938771910396, 0.09558273194294563, 0.13594083634476783], [0.1525767078301688, 0.24082337795901382, 0.20046527355719163, 0.1286047745306672], [0.29490369393986604, 0.2626816411155936, 0.2229724106225843, 0.10415333614155423], [0.0, 0.0, 0.0, 0.0], [0.0, 0.0, 0.0, 0.0], [0.18414988674562838, 0.30296896122665845, 0.3749002445439402, 0.2626816411155936], [0.39121563135550347, 0.6363022945599918, 0.6123303612604901, 0.5337986068905249], [0.0, 0.0, 0.0, 0.0], [0.05807229430025418, 0.05644956239376468, 0.05644956239376468, 0.04927784291654004], [0.03231098464219686, 0.03704188864615658, 0.035419156739667085, 0.05238601501401026], [0.06782370442034605, 0.06210548625525529, 0.06683639025921502, 0.049775968946389734], [0.03443184257853606, 0.03443184257853606, 0.028713624413445302, 0.048788654785258706], [0.08188768692934136, 0.06492082865499818, 0.057749109177773525, 0.041105436025911005], [0.0, 0.0, 0.0, 0.0], [0.10854613855377322, 0.08847110818195981, 0.10854613855377322, 0.020075030371813407], [0.0, 0.0, 0.0, 0.0], [0.06492082865499818, 0.1130292642911345, 0.09638559113927198, 0.13716784204270233], [0.1532523242666124, 0.2417234324485722, 0.20094118154514187, 0.12925335908539015], [0.29554224943638063, 0.26313770175570167, 0.2232952360486765, 0.10465156106838311], [0.0, 0.0, 0.0, 0.0], [0.0, 0.0, 0.0, 0.0], [0.18471708675088622, 0.3033607617311796, 0.37560777511888377, 0.26313770175570167], [0.3918318699131394, 0.6366940950645129, 0.6126951298832907, 0.5342745148784752], [0.0, 0.0, 0.0, 0.0], [0.05940968265895491, 0.05770379887308173, 0.05770379887308173, 0.05055918108435558], [0.03313749279427933, 0.037768799616180064, 0.03606291583030689, 0.05348460412038314], [0.06862675739643885, 0.06291624250591266, 0.06754754932781339, 0.0506995122658845], [0.03498370776168142, 0.03498370776168142, 0.029273192871155224, 0.04962030419725903], [0.08313834698168934, 0.0657166586916131, 0.058572040902886945, 0.04198799436887866], [0.0, 0.0, 0.0, 0.0], [0.109009786157018, 0.08866267483091418, 0.109009786157018, 0.02034711132610381], [0.0, 0.0, 0.0, 0.0], [0.0657166586916131, 0.11366738234738236, 0.09708333581337407, 0.13823368842618478], [0.1538326851484758, 0.24249535997938998, 0.20134500736657931, 0.12981302744372486], [0.2960890998200575, 0.26352525825392553, 0.22357207008548582, 0.10508087130070362], [0.0, 0.0, 0.0, 0.0], [0.0, 0.0, 0.0, 0.0], [0.1851993622702368, 0.303690561055019, 0.37620759078959065, 0.26352525825392553], [0.3923532358859332, 0.6370238943883524, 0.6130042366836014, 0.5346783406999126], [0.0, 0.0, 0.0, 0.0], [0.06058731368987975, 0.05880979012830821, 0.05880979012830821, 0.05169119083148789], [0.03386828603380142, 0.038410932016618125, 0.03663340845504659, 0.05445631325273306], [0.06933634430215199, 0.06363440834239804, 0.06817705432521476, 0.0515194997142243], [0.035474118478109364, 0.035474118478109364, 0.029772182518355422, 0.050360209737287075], [0.0842345154200487, 0.06641161062236223, 0.059293011325541906, 0.042764408892193274], [0.0, 0.0, 0.0, 0.0], [0.10941475716494892, 0.08882672994601726, 0.10941475716494892, 0.020588027218931652], [0.0, 0.0, 0.0, 0.0], [0.06641161062236223, 0.11421871452167243, 0.09769011208832379, 0.13916021861617922], [0.15433238376473263, 0.24315911371074989, 0.20168900718289445, 0.1302968364738727], [0.29655871215742813, 0.2638557763103227, 0.2238101041636111, 0.1054515438409224], [0.0, 0.0, 0.0, 0.0], [0.0, 0.0, 0.0, 0.0], [0.1856108852306942, 0.3039694455533829, 0.3767180535471999, 0.2638557763103227], [0.39279617549940016, 0.6373027788867163, 0.6132672315958563, 0.5350223405162278], [0.0, 0.0, 0.0, 0.0], [0.06162274283994246, 0.05978344270879845, 0.05978344270879845, 0.05268928218974776], [0.03451308808278384, 0.03897709739760952, 0.037137797266465516, 0.05531399137342944], [0.0699622244159502, 0.06426938404649071, 0.0687333933613164, 0.052245860187651635], [0.03590896621183172, 0.03590896621183172, 0.030216125842372245, 0.05101702913301784], [0.08519461431783229, 0.06701842021086837, 0.05992425969181769, 0.043446548732978534], [0.0, 0.0, 0.0, 0.0], [0.10976851693787404, 0.08896761364722844, 0.10976851693787404, 0.020800903290645597], [0.0, 0.0, 0.0, 0.0], [0.06701842021086837, 0.11469579969807873, 0.09821808873923958, 0.13996615432409334], [0.1547634816490137, 0.24373109529624215, 0.2019830297113884, 0.13071567923208222], [0.2969629949287245, 0.26413856777923983, 0.22401526081549955, 0.10577216126270965], [0.0, 0.0, 0.0, 0.0], [0.0, 0.0, 0.0, 0.0], [0.18596315017738493, 0.30420624973017485, 0.3771539838433998, 0.26413856777923983], [0.3931738633774033, 0.6375395830635082, 0.6134917806465767, 0.5353163630447217], [0.0, 0.0, 0.0, 0.0], [0.06253202999931515, 0.06063940455936125, 0.06063940455936125, 0.0535678431159943], [0.03508102026401157, 0.03947549017676779, 0.03758286473681389, 0.05606968758879662], [0.0705134198181761, 0.0648298612332964, 0.06922433114605261, 0.05288797347671924], [0.036293776064690406, 0.036293776064690406, 0.030610217479810704, 0.05159888480459576], [0.08603505344456042, 0.0675482305925777, 0.06047666914921074, 0.04404520714733242], [0.0, 0.0, 0.0, 0.0], [0.11007756580340242, 0.08908889847861735, 0.11007756580340242, 0.020988667324785056], [0.0, 0.0, 0.0, 0.0], [0.0675482305925777, 0.11510917488610065, 0.09867771288422233, 0.14066755918145035], [0.15513604145024795, 0.2442249399288653, 0.2022350936316373, 0.13107874477584536], [0.2973117585892873, 0.2643812035079251, 0.22419243000041467, 0.10604988367023485], [0.0, 0.0, 0.0, 0.0], [0.0, 0.0, 0.0, 0.0], [0.1862655237418926, 0.30440807007207243, 0.3775273986609451, 0.2643812035079251], [0.3934969685506898, 0.6377414034054057, 0.6136841067310032, 0.5355684269649706], [0.0, 0.0, 0.0, 0.0], [0.0633297340329572, 0.061391031309801655, 0.06139103130980165, 0.05434012427622807], [0.03558051527643353, 0.03991363494524738, 0.03797493222209182, 0.05673454122188636], [0.07099820196311254, 0.06532384145903844, 0.06965696112785229, 0.05345459766347055], [0.03663369138683156, 0.03663369138683156, 0.030959330882757458, 0.05211335682821029], [0.08677039278759778, 0.06801078378780323, 0.060959876754229654, 0.04457012503316267], [0.0, 0.0, 0.0, 0.0], [0.11034755352223903, 0.0891935275767862, 0.11034755352223903, 0.021154025945452834], [0.0, 0.0, 0.0, 0.0], [0.06801078378780323, 0.1154677497330947, 0.09907799801202771, 0.14127826576646282], [0.15545848735271864, 0.24465201492950484, 0.20245174717506972, 0.1313937953312213], [0.29761317274130206, 0.2645899030002813, 0.22434569076264244, 0.10629075171968032], [0.0, 0.0, 0.0, 0.0], [0.0, 0.0, 0.0, 0.0], [0.18652570157694312, 0.30458064061990525, 0.3778481225985648, 0.2645899030002813], [0.3937741681966914, 0.6379139739532386, 0.6138492819317413, 0.535785080508403], [0.0, 0.0, 0.0, 0.0], [0.06402895825605365, 0.0620504004127324, 0.0620504004127324, 0.055018202786340224], [0.036019282576453066, 0.04029838079882092, 0.03831982295549967, 0.05731874316538683], [0.07142408901217137, 0.0657586354717007, 0.07003773369406856, 0.053953830003962755], [0.03693346763739685, 0.03693346763739685, 0.03126801409692617, 0.052567474685859934], [0.08741351777610534, 0.06841459756621818, 0.061382399939826006, 0.045030038046166496], [0.0, 0.0, 0.0, 0.0], [0.11058341241132438, 0.08928395182239063, 0.11058341241132438, 0.021299460588933762], [0.0, 0.0, 0.0, 0.0], [0.06841459756621818, 0.1157790842087903, 0.09942672231513078, 0.1418102020450696], [0.1557379165095083, 0.24502186833189893, 0.20263838860196007, 0.13166743155232946], [0.29787406272149475, 0.26476979666482303, 0.2244784582426433, 0.10649987053552315], [0.0, 0.0, 0.0, 0.0], [0.0, 0.0, 0.0, 0.0], [0.18675004125842087, 0.304728628965541, 0.37812423344439244, 0.26476979666482303], [0.39401258078793167, 0.6380619622988744, 0.6139914773416955, 0.5359717219352934], [0.0, 0.0, 0.0, 0.0], [0.0646414302864638, 0.06262836575926375, 0.06262836575926375, 0.05561299790324824], [0.03640431042643214, 0.04063591418046751, 0.038622849653267455, 0.05783153713008355], [0.07179787337666477, 0.06614088907877133, 0.07037249283280671, 0.05439309205902544], [0.037197469109409395, 0.037197469109409395, 0.03154048481151596, 0.05296771151516737], [0.08797580342316857, 0.06876711594635249, 0.061751748090336976, 0.0454327428096477], [0.0, 0.0, 0.0, 0.0], [0.11078944552009982, 0.08936221881644842, 0.11078944552009982, 0.021427226703651412], [0.0, 0.0, 0.0, 0.0], [0.06876711594635249, 0.11604962111309056, 0.09973061583240128, 0.14227367644592215], [0.1559803306468386, 0.24534254946328704, 0.20279948884976615, 0.1319052794299693], [0.2981001729126293, 0.264925149189232, 0.22459361241305964, 0.10668158422296699], [0.0, 0.0, 0.0, 0.0], [0.0, 0.0, 0.0, 0.0], [0.1869438305328874, 0.30485585872298004, 0.3783624192225497, 0.264925149189232], [0.3942180775394285, 0.6381891920563134, 0.6141141408394442, 0.5361328221830994], [0.0, 0.0, 0.0, 0.0], [0.06517759919882885, 0.06313463125191478, 0.06313463125191478, 0.05613431931090335], [0.036741890224964206, 0.040931791098938575, 0.03888882315202449, 0.058281252237963634], [0.07212565680805444, 0.06647660824960522, 0.07066650912357958, 0.054779136606574706], [0.03742967546754964, 0.03742967546754964, 0.03178062690910042, 0.053319988922099854], [0.08846727304666635, 0.06907484396072722, 0.062074532019715786, 0.04578517011288971], [0.0, 0.0, 0.0, 0.0], [0.11096941388678822, 0.08943005187378879, 0.11096941388678822, 0.02153936201299943], [0.0, 0.0, 0.0, 0.0], [0.06907484396072722, 0.11628486777276276, 0.0999955058659367, 0.14267760879971333], [0.15619082870054155, 0.24562088057433035, 0.20293877764055368, 0.13211215480756544], [0.2982963561119101, 0.26505952245588016, 0.22469359127292396, 0.10683959849501606], [0.0, 0.0, 0.0, 0.0], [0.0, 0.0, 0.0, 0.0], [0.18711149060575102, 0.3049654833836589, 0.378568248222645, 0.26505952245588016], [0.3943955352574477, 0.6382988167169923, 0.6142201428240162, 0.536272110973887], [0.0, 0.0, 0.0, 0.0], [0.06564674143329721, 0.06357783734503765, 0.06357783734503765, 0.05659093519068639], [0.03703765543103774, 0.04119097680206499, 0.039122072713805425, 0.05867535247345408], [0.07241289687984188, 0.06677119651405551, 0.07092451788508275, 0.055118069390435384], [0.03763369371904629, 0.03763369371904629, 0.03199199335325991, 0.05362969039567624], [0.08889674431356255, 0.0693434645539139, 0.06235656239956265, 0.046093461673648556], [0.0, 0.0, 0.0, 0.0], [0.11112660387598935, 0.08948890683357302, 0.11112660387598935, 0.021637697042416332], [0.0, 0.0, 0.0, 0.0], [0.0693434645539139, 0.11648954681221309, 0.10022644608629899, 0.143029728726213], [0.15637375710670748, 0.2458626639402805, 0.20305938130036652, 0.13229218947348703], [0.2984667333534332, 0.26517590918739675, 0.22478046918113415, 0.10697708833833555], [0.0, 0.0, 0.0, 0.0], [0.0, 0.0, 0.0, 0.0], [0.1872567386390926, 0.30506011948189116, 0.3787463836541902, 0.26517590918739675], [0.3945490263154642, 0.6383934528152244, 0.6143118851820041, 0.5363927146336999], [0.0, 0.0, 0.0, 0.0], [0.06605706815404708, 0.06396565146609415, 0.06396565146609415, 0.056990650602014546], [0.037296628172025385, 0.041417891493941726, 0.03932647480598879, 0.05902049723597795], [0.0726644559687856, 0.0670294940235359, 0.07115075734545225, 0.05541538192469166], [0.03781277618265544, 0.03781277618265544, 0.03217781423740575, 0.05390168330135831], [0.08927196434192182, 0.06957794191193266, 0.06260294104785305, 0.04636304572405792], [0.0, 0.0, 0.0, 0.0], [0.11126388906998252, 0.08954002000602997, 0.11126388906998252, 0.021723869063952565], [0.0, 0.0, 0.0, 0.0], [0.06957794191193266, 0.11666771779994803, 0.1004278224761529, 0.14333674109401678], [0.15653283371412097, 0.24607285372015092, 0.20316393510228703, 0.13244893862389387], [0.29861481618944824, 0.26527683502665145, 0.22485601700736413, 0.10709678034488095], [0.0, 0.0, 0.0, 0.0], [0.0, 0.0, 0.0, 0.0], [0.18738271427834122, 0.3051419509408244, 0.3789007501229086, 0.26527683502665145], [0.3946819709468543, 0.6384752842741577, 0.6143913891839307, 0.5364972684356204], [0.0, 0.0, 0.0, 0.0], [0.06641583019500479, 0.06430485891958405, 0.06430485891958404, 0.05734039006322163], [0.037523269617007506, 0.0416164572368498, 0.03950548596142906, 0.05932260640764318], [0.0728846526824238, 0.06725582088219563, 0.07134900850203793, 0.055675990951836556], [0.03796984178104317, 0.03796984178104317, 0.03234100998081499, 0.054140346771450666], [0.0895997320769957, 0.06978261163078157, 0.06281814277441916, 0.04659870974879067], [0.0, 0.0, 0.0, 0.0], [0.11138378164747015, 0.08958444485683448, 0.11138378164747015, 0.021799336790635677], [0.0, 0.0, 0.0, 0.0], [0.06978261163078157, 0.11682287844425031, 0.10060344541862182, 0.14360446774682684], [0.1566712473650776, 0.24625569222191207, 0.20325466989370705, 0.1325854671850395], [0.29874360811928735, 0.2653644413982926, 0.22492175200324208, 0.10720102283704003], [0.0, 0.0, 0.0, 0.0], [0.0, 0.0, 0.0, 0.0], [0.18749208115291785, 0.3052128103191199, 0.37903466643516515, 0.2653644413982926], [0.3947972551759544, 0.6385461436524532, 0.6144603634724152, 0.5365880032270404], [0.0, 0.0, 0.0, 0.0], [0.06672941774010158, 0.0646014506038931, 0.0646014506038931, 0.057646280039295825], [0.03772153098079439, 0.04179014486322857, 0.0396621777270201, 0.059586926785521535], [0.07307731222126114, 0.06745402044796919, 0.07152263433040339, 0.05590428175845529], [0.03810749983616234, 0.03810749983616234, 0.0324842080628704, 0.05434960386759754], [0.0898860090056482, 0.06996125994714676, 0.06300608938254948, 0.046804668681600145], [0.0, 0.0, 0.0, 0.0], [0.11148847824051335, 0.0896230824357862, 0.11148847824051335, 0.021865395804727142], [0.0, 0.0, 0.0, 0.0], [0.06996125994714676, 0.11695804799062166, 0.10075662728967233, 0.14383796761372036], [0.15679174025459758, 0.24641482269038378, 0.20333348236633575, 0.13270442275983424], [0.2988556852565506, 0.26544055076230955, 0.224978977589977, 0.10729184216081467], [0.0, 0.0, 0.0, 0.0], [0.0, 0.0, 0.0, 0.0], [0.18758710759712316, 0.3052742430262855, 0.3791509506928591, 0.26544055076230955], [0.3948973254620717, 0.6386075763596188, 0.6145202588648555, 0.536666815699669], [0.0, 0.0, 0.0, 0.0], [0.0670034533457554, 0.06486070605938138, 0.06486070605938139, 0.057913728679717405], [0.03789490335768693, 0.04194201898840881, 0.0397992717020348, 0.05981809702406528], [0.07324581517418881, 0.06762750266808973, 0.07167461829881161, 0.056104152862314065], [0.038228074826657604, 0.038228074826657604, 0.032609762320558525, 0.05453295598693687], [0.09013601830784104, 0.07011719298581057, 0.06317021560614658, 0.046984628023724925], [0.0, 0.0, 0.0, 0.0], [0.11157989924334352, 0.08965670557696517, 0.11157989924334352, 0.021923193666378342], [0.0, 0.0, 0.0, 0.0], [0.07011719298581057, 0.11707583709123123, 0.10089024950880959, 0.1440416397929257], [0.15689667549197384, 0.246553381068939, 0.2034019907848229, 0.13280809586108128], [0.29895326318715476, 0.2655067197150008, 0.22502881638003966, 0.10737099027926914], [0.0, 0.0, 0.0, 0.0], [0.0, 0.0, 0.0, 0.0], [0.18766973201497283, 0.30532755811574336, 0.3792520049228585, 0.2655067197150008], [0.39498426369270856, 0.6386608914490767, 0.6145723118181842, 0.5367353241181563], [0.0, 0.0, 0.0, 0.0], [0.06724287749980555, 0.06508727060329851, 0.06508727060329851, 0.05814750111467282], [0.0380464651109462, 0.04207478055598326, 0.039919173659476226, 0.060020209663202845], [0.07339314343247928, 0.0677792856763037, 0.07180760112134076, 0.05627906045555728], [0.0383336313483377, 0.0383336313483377, 0.03271977359216212, 0.05469351814441876], [0.09035433343395664, 0.07025329743023002, 0.06331352794160433, 0.04714184149607893], [0.0, 0.0, 0.0, 0.0], [0.11165972350840309, 0.08968597895614644, 0.11165972350840309, 0.02197374455225664], [0.0, 0.0, 0.0, 0.0], [0.07025329743023002, 0.11717850625855941, 0.10100681981303401, 0.14421931175091174], [0.15698809341473527, 0.2466740723708817, 0.203461580433004, 0.13289847089402415], [0.29903825152840774, 0.2655642817554047, 0.22507223720772607, 0.10743998409368476], [0.0, 0.0, 0.0, 0.0], [0.0, 0.0, 0.0, 0.0], [0.18774161579753926, 0.3053738689115806, 0.3793398832322623, 0.2655642817554047], [0.39505984786772697, 0.6387072022449138, 0.6146175797242028, 0.5367949137663373], [0.0, 0.0, 0.0, 0.0], [0.06745202653007032, 0.06528522617908951, 0.06528522617908951, 0.05835178939884418], [0.03817892614890252, 0.042190806279685446, 0.040024005928704635, 0.0601968691786463], [0.07352192298122556, 0.0679120353948074, 0.07192391552559033, 0.05643206137203026], [0.038425998473069406, 0.038425998473069406, 0.032816110886651255, 0.05483405391639504], [0.09054495680540217, 0.07037209355546051, 0.06343865677521518, 0.047279163280128655], [0.0, 0.0, 0.0, 0.0], [0.11172941848826609, 0.08971147545852232, 0.11172941848826609, 0.022017943029743782], [0.0, 0.0, 0.0, 0.0], [0.07037209355546051, 0.11726801523653804, 0.1011085217414515, 0.14437431526672503], [0.15706775849495222, 0.24677923395347454, 0.20351344042820102, 0.13297726898379583], [0.2991122994372596, 0.26561438238473867, 0.22511007772599506, 0.10750013876378543], [0.0, 0.0, 0.0, 0.0], [0.0, 0.0, 0.0, 0.0], [0.18780418668094323, 0.30541412564315285, 0.37941634735441737, 0.26561438238473867], [0.39512560110167516, 0.6387474589764861, 0.6146569694653298, 0.5368467737615343], [0.0, 0.0, 0.0, 0.0], [0.06763470295966284, 0.06545815575423564, 0.06545815575423564, 0.05853027667163608], [0.038294668712614985, 0.042292184853388766, 0.04011563764796156, 0.060351245606982656], [0.07363446319444139, 0.06802810247499222, 0.07202561861576601, 0.056565853822880076], [0.038506793069286185, 0.038506793069286185, 0.03290043234983702, 0.05495700924420469], [0.09071138958065925, 0.07047578162163816, 0.06354790253903861, 0.047399095000641746], [0.0, 0.0, 0.0, 0.0], [0.11179026672554554, 0.08973368983117787, 0.11179026672554554, 0.02205657689436767], [0.0, 0.0, 0.0, 0.0], [0.07047578162163816, 0.11734606476605987, 0.10119725722766301, 0.14450955180768052], [0.15713719878634272, 0.2468708886175206, 0.2035585940375031, 0.13304598441119536], [0.29917683342546797, 0.2656580078789882, 0.22514306323942562, 0.10755259573252218], [0.0, 0.0, 0.0, 0.0], [0.0, 0.0, 0.0, 0.0], [0.1878586743923676, 0.305449141899271, 0.3794829120853134, 0.2656580078789882], [0.3951828317304489, 0.6387824752326043, 0.6146912608574571, 0.5368919273708364], [0.0, 0.0, 0.0, 0.0], [0.06779423864999548, 0.06560920144419143, 0.06560920144419143, 0.058686195457892505], [0.03839578456999365, 0.042380749846231275, 0.04019571264042722, 0.06048612352832607], [0.07373279265809088, 0.06812955647301987, 0.07211452174925748, 0.05668281541368862], [0.038577441731593824, 0.038577441731593824, 0.03297420554652281, 0.055064544504855234], [0.09085669330440077, 0.07056628241650192, 0.06364327643020301, 0.04750382776209663], [0.0, 0.0, 0.0, 0.0], [0.1118433889859728, 0.08975305002764039, 0.1118433889859728, 0.022090338958332418], [0.0, 0.0, 0.0, 0.0], [0.07056628241650192, 0.11741413212756033, 0.10127468345945395, 0.14462754900175812], [0.15719773916789814, 0.24695078919553853, 0.2035979236532344, 0.13310591556994456], [0.29923308917270114, 0.2656960091550375, 0.22517182258744495, 0.10759834660291984], [0.0, 0.0, 0.0, 0.0], [0.0, 0.0, 0.0, 0.0], [0.18790614021085017, 0.30547961619537534, 0.3795408827806315, 0.2656960091550375], [0.39523266622301567, 0.6388129495287087, 0.614721125930755, 0.5369312569865677], [0.0, 0.0, 0.0, 0.0], [0.06793355118131753, 0.0657411166448167, 0.0657411166448167, 0.058822380248495114], [0.03848410865349647, 0.04245810939242591, 0.04026567485592509, 0.060603946450923735], [0.07381869155171693, 0.06821821710574623, 0.07219221784467567, 0.056785038207381656], [0.038639201148883834, 0.038639201148883834, 0.033038726702913135, 0.0551585645003404], [0.09098354428684631, 0.07064527269184767, 0.06372653629552608, 0.04759527958631888], [0.0, 0.0, 0.0, 0.0], [0.1118897645492376, 0.08976992675181034, 0.1118897645492376, 0.022119837797427266], [0.0, 0.0, 0.0, 0.0], [0.07064527269184767, 0.11747350145918897, 0.10134224474998178, 0.14473050945050922], [0.15725052953471688, 0.24702045628652722, 0.2036321915859998, 0.13315819145233776], [0.299282138313066, 0.26572912161727413, 0.22519690155440444, 0.10763825345445338], [0.0, 0.0, 0.0, 0.0], [0.0, 0.0, 0.0, 0.0], [0.187947501592851, 0.3055061496928021, 0.3795913864514636, 0.26572912161727413], [0.3952760764446124, 0.6388394830261355, 0.6147471449437563, 0.5369655249193331], [0.0, 0.0, 0.0, 0.0], [0.06805519399484442, 0.06585631257572627, 0.06585631257572627, 0.058941314644067634], [0.038561249289672375, 0.042525672819910335, 0.04032679140079219, 0.06070685675518745], [0.07389372076556347, 0.06829568265015051, 0.07226010618038847, 0.05687436075089432], [0.038693176815617195, 0.038693176815617195, 0.03309513870020424, 0.055240746165719314], [0.09109428147560192, 0.07071421612120665, 0.06379921818954803, 0.04767512864044915], [0.0, 0.0, 0.0, 0.0], [0.11193024895943487, 0.08978464149391979, 0.11193024895943487, 0.022145607465515076], [0.0, 0.0, 0.0, 0.0], [0.07071421612120665, 0.11752528972111093, 0.10140120017201204, 0.1448203530071648], [0.15729656877059187, 0.24708121026451166, 0.2036620574293589, 0.13320379432907256], [0.2993249111585701, 0.2657579817937988, 0.2252187742726119, 0.10767306625072944], [0.0, 0.0, 0.0, 0.0], [0.0, 0.0, 0.0, 0.0], [0.18798355282139725, 0.3055292608432797, 0.3796353977292378, 0.2657579817937988], [0.39531390233719954, 0.6388625941766131, 0.6147698197350937, 0.5369953907626922], [0.0, 0.0, 0.0, 0.0], [0.06816140083958722, 0.06595689966769014, 0.06595689966769014, 0.05904517342346288], [0.03862861522500956, 0.04258467442812236, 0.04038017325622527, 0.06079673145467859], [0.07395924794405573, 0.06836335556410249, 0.07231941476721529, 0.05695239710594106], [0.03874034007938483, 0.03874034007938483, 0.03314444769943159, 0.055312563929100625], [0.09119094854328333, 0.07077439034483002, 0.06386266410060276, 0.0477448426411339], [0.0, 0.0, 0.0, 0.0], [0.11196558957724005, 0.08979747334757102, 0.11196558957724005, 0.02216811622966904], [0.0, 0.0, 0.0, 0.0], [0.07077439034483002, 0.11757046898150293, 0.10145264752203406, 0.1448987534241835], [0.1573367252209208, 0.2471341985684918, 0.20368809266634236, 0.13324357924972047], [0.2993622160201679, 0.26578314133233744, 0.2252378529408144, 0.10770343776718395], [0.0, 0.0, 0.0, 0.0], [0.0, 0.0, 0.0, 0.0], [0.18801498239812484, 0.30554939757175525, 0.37967376065110875, 0.26578314133233744], [0.3953468709193263, 0.6388827309050886, 0.6147895849338882, 0.5370214259996756], [0.0, 0.0, 0.0, 0.0], [0.06825412506673734, 0.06604472425126474, 0.06604472425126474, 0.05913585994015591], [0.03868743968827974, 0.04263619463509288, 0.04042679381962029, 0.06087521407149646], [0.0740164706927923, 0.06842246548830577, 0.07237122043511891, 0.05702056299835048], [0.03878154356194691, 0.03878154356194691, 0.03318753835746037, 0.055375312740677085], [0.09127533084211623, 0.07082691059024004, 0.06391804627913121, 0.04780570481486117], [0.0, 0.0, 0.0, 0.0], [0.11199643918926709, 0.08980866480605038, 0.11199643918926709, 0.02218777438321672], [0.0, 0.0, 0.0, 0.0], [0.07082691059024004, 0.11760988559780258, 0.10149754413353254, 0.14496717016078758], [0.15737175422258767, 0.24718041902863805, 0.203710793001383, 0.13327829083330542], [0.29939475571524615, 0.26580507884207416, 0.2252544961446986, 0.10772993644371956], [0.0, 0.0, 0.0, 0.0], [0.0, 0.0, 0.0, 0.0], [0.18804238776588017, 0.3055669474668592, 0.37970720703740674, 0.26580507884207416], [0.3953756122729096, 0.6389002808001925, 0.6148068174109103, 0.5370441263347163], [0.0, 0.0, 0.0, 0.0], [0.06833507429267727, 0.066121400994105, 0.066121400994105, 0.05921503926149134], [0.03873880174147014, 0.042681178727858884, 0.04046750542928662, 0.06094374294930782], [0.07406643718606674, 0.06847408980043218, 0.07241646678682094, 0.057080099251489755], [0.03881753503004082, 0.03881753503004082, 0.033225187644406254, 0.05543012885224394], [0.09134898782089235, 0.07087275030087115, 0.06396638856825748, 0.047858836772656066], [0.0, 0.0, 0.0, 0.0], [0.11202336792241153, 0.08981842671457385, 0.11202336792241153, 0.022204941207837687], [0.0, 0.0, 0.0, 0.0], [0.07087275030087115, 0.11764427675682769, 0.10153672496122627, 0.14502687600946257], [0.1574023131594583, 0.24722073987403215, 0.20373058882579587, 0.13330857776281013], [0.2994231417054293, 0.26582420994864914, 0.22526901599683785, 0.10775305746537153], [0.0, 0.0, 0.0, 0.0], [0.0, 0.0, 0.0, 0.0], [0.18806628781981344, 0.30558224635127973, 0.37973637205987115, 0.26582420994864914], [0.3954006730658536, 0.6389155796846131, 0.6148218442879649, 0.5370639221591291], [0.0, 0.0, 0.0, 0.0], [0.06840574092187406, 0.06618834151886323, 0.06618834151886323, 0.059284167460398704], [0.03878364517259553, 0.0427204534436232, 0.04050305404061237, 0.06100357632841555], [0.07411006441733584, 0.06851917191718898, 0.07245598018821667, 0.05713209269628555], [0.0388489698114932, 0.0388489698114932, 0.03325807731134636, 0.055478008467166384], [0.09141328143690965, 0.07091275914910647, 0.06400858509064195, 0.04790521863407088], [0.0, 0.0, 0.0, 0.0], [0.1120468736674488, 0.08982694251162877, 0.1120468736674488, 0.022219931155820022], [0.0, 0.0, 0.0, 0.0], [0.07091275914910647, 0.11767428476504842, 0.10157091830847735, 0.14507898111131612], [0.15742897442080012, 0.24725591693242888, 0.20374785412959012, 0.13333500531446754], [0.29944790624431705, 0.26584089586759363, 0.2252816842821074, 0.1077732323389331], [0.0, 0.0, 0.0, 0.0], [0.0, 0.0, 0.0, 0.0], [0.18808713358017098, 0.3055955855233453, 0.379761807485555, 0.26584089586759363], [0.3954225280349741, 0.6389289188566787, 0.6148349497503461, 0.5370811874629234], [0.0, 0.0, 0.0, 0.0], [0.06846742898419733, 0.06624677960615977, 0.06624677960615977, 0.0593445174516491], [0.03882279517508688, 0.04275474160176297, 0.04053409222372542, 0.06105581450028764], [0.07414815432396006, 0.06855853753890923, 0.0724904839655853, 0.057177494763875326], [0.03887642186535066, 0.03887642186535066, 0.033286805080299825, 0.05551982440550057], [0.09146940104102995, 0.07094767876446773, 0.06404541660995705, 0.04794570670763511], [0.0, 0.0, 0.0, 0.0], [0.11206739119849587, 0.08983437187329513, 0.11206739119849587, 0.02223301932520075], [0.0, 0.0, 0.0, 0.0], [0.07094767876446773, 0.11770046941312351, 0.10160075951080155, 0.1451244538441964], [0.15745223657906135, 0.24728660845235648, 0.20376291411896164, 0.13335806620668997], [0.29946951283696693, 0.2658554507367323, 0.22529273775723824, 0.10779083717996331], [0.0, 0.0, 0.0, 0.0], [0.0, 0.0, 0.0, 0.0], [0.18810531732539518, 0.3056072179026701, 0.37978399298239873, 0.2658554507367323], [0.3954415897759652, 0.6389405512360034, 0.6148463808636321, 0.5370962474522949], [0.0, 0.0, 0.0, 0.0], [0.06852127770282737, 0.06629779335765447, 0.06629779335765447, 0.059397201740604685], [0.03885697304534549, 0.042784674992447216, 0.04056119064727431, 0.061101419342533506], [0.07418140800682307, 0.06859290903128522, 0.07252061097838694, 0.05721713796892448], [0.03890039361883819, 0.03890039361883819, 0.03331189464330034, 0.055556340940488357], [0.0915183851608271, 0.0709781564655679, 0.06407756484851812, 0.04798104900756818], [0.0, 0.0, 0.0, 0.0], [0.11208530014827811, 0.08984085385109009, 0.11208530014827811, 0.02224444629718802], [0.0, 0.0, 0.0, 0.0], [0.0709781564655679, 0.11772331868896585, 0.10162680284801592, 0.14516413900127484], [0.15747253404797854, 0.24731338789906862, 0.2037760517458097, 0.133378190004349], [0.2994883652660567, 0.2658681479065079, 0.22530238273034975, 0.1078061998952557], [0.0, 0.0, 0.0, 0.0], [0.0, 0.0, 0.0, 0.0], [0.18812118043042655, 0.3056173632655206, 0.37980334580122754, 0.2658681479065079], [0.39545821711661067, 0.6389506965988538, 0.6148563525552244, 0.5371093850791431], [0.0, 0.0, 0.0, 0.0], [0.06856828216994455, 0.06634232466185638, 0.06634232466185638, 0.059443192424456476], [0.03888680911360826, 0.04281080571289514, 0.04058484820480697, 0.06114123151565518], [0.0742104382492904, 0.06862291812938998, 0.07254691472867686, 0.05725175048695348], [0.03892132468419343, 0.03892132468419343, 0.03333380456429301, 0.05558822696633993], [0.09156114055947878, 0.07100475724863058, 0.06410562501123065, 0.04801189885909634], [0.0, 0.0, 0.0, 0.0], [0.11210093198186392, 0.089846509579817, 0.11210093198186392, 0.022254422402046923], [0.0, 0.0, 0.0, 0.0], [0.07100475724863058, 0.11774325807010304, 0.10164953191796872, 0.14519877361835115], [0.15749024544075071, 0.24733675502056773, 0.20378751332018527, 0.13339575128019945], [0.2995048153938602, 0.26587922534937675, 0.22531079902413959, 0.10781960641420402], [0.0, 0.0, 0.0, 0.0], [0.0, 0.0, 0.0, 0.0], [0.18813502011008887, 0.30562621272002444, 0.379820229089745, 0.26587922534937675], [0.39547272229984143, 0.6389595460533577, 0.6148650518928065, 0.5371208466535186], [0.0, 0.0, 0.0, 0.0], [0.06860931146981036, 0.06638119627352355, 0.06638119627352355, 0.059483338756663284], [0.03891285410567992, 0.04283361612577048, 0.04060550092948367, 0.06117598558046704], [0.07423578052404285, 0.06864911713915771, 0.07256987915924827, 0.05728196901938565], [0.03893959956468909, 0.03893959956468909, 0.033352936179803956, 0.055616067654591074], [0.09159845890433235, 0.07102797425334897, 0.06413011673648872, 0.048038826818827], [0.0, 0.0, 0.0, 0.0], [0.11211457609294517, 0.08985144461815806, 0.11211457609294517, 0.022263131474787118], [0.0, 0.0, 0.0, 0.0], [0.07102797425334897, 0.11776065859167567, 0.10166936867401395, 0.1452290007595193], [0.15750570081242884, 0.2473571454305869, 0.20379751334508156, 0.1334110767036634], [0.2995191699167368, 0.26588889032217766, 0.2253181434105665, 0.1078313061007295], [0.0, 0.0, 0.0, 0.0], [0.0, 0.0, 0.0, 0.0], [0.1881470952330938, 0.3056339325429308, 0.37983495904910114, 0.26588889032217766], [0.3954853771610889, 0.6389672658762642, 0.6148726417674987, 0.5371308466784148], [0.0, 0.0, 0.0, 0.0], [0.06864512455318593, 0.06641512678638292, 0.06641512678638292, 0.05951838255602633], [0.03893558911508322, 0.042853527598155965, 0.040623529831352964, 0.061206323272296075], [0.07425790265923651, 0.06867198879840097, 0.07258992728147373, 0.057308350127730286], [0.038955554453590176, 0.038955554453590176, 0.03336964059275464, 0.0556403747499675], [0.09163103134009862, 0.0710482378991555, 0.06415149366879891, 0.04806233111224282], [0.0, 0.0, 0.0, 0.0], [0.1121264851322339, 0.08985575097502105, 0.1121264851322339, 0.022270734157212854], [0.0, 0.0, 0.0, 0.0], [0.0710482378991555, 0.11777584385703187, 0.10168668130047578, 0.14525538152833156], [0.15751918794258613, 0.24737493891760717, 0.2038062386897514, 0.13342445120287683], [0.2995316962199389, 0.26589732339205535, 0.22532455259076284, 0.10784151645705962], [0.0, 0.0, 0.0, 0.0], [0.0, 0.0, 0.0, 0.0], [0.1881576313439064, 0.3056406674776096, 0.37984781110678567, 0.26589732339205535], [0.39549641845263067, 0.6389740008109429, 0.6148792640712337, 0.5371395720230847], [0.0, 0.0, 0.0, 0.0], [0.06867638413394114, 0.06644474374967418, 0.06644474374967418, 0.05954897171360038], [0.038955434347644605, 0.04287090816372673, 0.04063926777945978, 0.061232805145415556], [0.07427721331912995, 0.06869195494634925, 0.07260742876243137, 0.05733138020445002], [0.0389694832227612, 0.0389694832227612, 0.03338422484998049, 0.055661595647751444], [0.09165946122648483, 0.07106592386052905, 0.06417015182445525, 0.04808284676798536], [0.0, 0.0, 0.0, 0.0], [0.11213687966375262, 0.08985950886598167, 0.11213687966375262, 0.022277370797770955], [0.0, 0.0, 0.0, 0.0], [0.07106592386052905, 0.11778909613378162, 0.10170179107731173, 0.1452784055358112], [0.15753095779053516, 0.24739046665651682, 0.20381385219801737, 0.13343612332448113], [0.2995426274582352, 0.26590468191856503, 0.22533014578295305, 0.10785042721495232], [0.0, 0.0, 0.0, 0.0], [0.0, 0.0, 0.0, 0.0], [0.18816682500731785, 0.30564654357531856, 0.3798590252506007, 0.26590468191856503], [0.3955060524413002, 0.6389798769086519, 0.6148850424425979, 0.5371471855313507], [0.0, 0.0, 0.0, 0.0], [0.06870366884831014, 0.06647059515175247, 0.06647059515175245, 0.05957567202398935], [0.038972756783807, 0.04288607923592133, 0.04065300553936365, 0.06125592077954599], [0.07429406943848943, 0.06870938413707589, 0.0726227065891902, 0.05735148423368908], [0.03898164269006442, 0.03898164269006442, 0.033396957388650866, 0.05568012138438985], [0.09168427526887116, 0.07108136002868881, 0.06418643690092571, 0.048100753608127794], [0.0, 0.0, 0.0, 0.0], [0.11214595223320953, 0.08986278823747054, 0.11214595223320953, 0.022283163995738986], [0.0, 0.0, 0.0, 0.0], [0.07108136002868881, 0.1178006616576984, 0.10171497836490048, 0.14529850002564385], [0.15754122923592356, 0.2474040174733941, 0.20382049581265077, 0.1334463098982139], [0.29955216696867637, 0.26591110306955057, 0.22533502697172136, 0.10785820389608082], [0.0, 0.0, 0.0, 0.0], [0.0, 0.0, 0.0, 0.0], [0.18817484757213526, 0.30565167064777576, 0.37986881064473077, 0.26591110306955057], [0.39551445888524633, 0.6389850039811091, 0.6148900846433993, 0.5371538291459841], [0.0, 0.0, 0.0, 0.0], [0.06872748388964743, 0.06649315946901818, 0.06649315946901818, 0.05959897754284988], [0.03898787688835684, 0.04289932148603987, 0.04066499706541062, 0.061276097719903666], [0.07430878273537347, 0.0687245983191436, 0.07263604291682664, 0.057369033480727576], [0.03899225724686378, 0.03899225724686378, 0.033408072830633906, 0.055696293662180735], [0.09170593324284755, 0.0710948325883545, 0.06420065066218619, 0.048116383235154395], [0.0, 0.0, 0.0, 0.0], [0.11215387092214973, 0.0898656500906029, 0.11215387092214973, 0.02228822083154683], [0.0, 0.0, 0.0, 0.0], [0.0710948325883545, 0.11781075524971138, 0.10172648782267957, 0.14531603783037272], [0.15755019320111238, 0.2474158432917153, 0.20382629328402213, 0.13345520009829606], [0.29956049210631386, 0.265916706436351, 0.2253392868642956, 0.10786499091198108], [0.0, 0.0, 0.0, 0.0], [0.0, 0.0, 0.0, 0.0], [0.18818184843543745, 0.305656144387752, 0.37987734962977027, 0.265916706436351], [0.3955217944783549, 0.6389894777210854, 0.614894484618269, 0.5371596266173555], [0.0, 0.0, 0.0, 0.0], [0.06874827030664271, 0.06651285445571958, 0.06651285445571958, 0.059619319649759556], [0.03900107448286533, 0.04291087998750627, 0.04067546413658314, 0.06129370930347737], [0.07432162541322807, 0.06873787869127024, 0.0726476841959112, 0.057384352235237364], [0.039001522919266264, 0.039001522919266264, 0.033417776197308444, 0.055710411017920486], [0.0917248364888603, 0.07110659132196608, 0.06421305651600603, 0.04813002513974849], [0.0, 0.0, 0.0, 0.0], [0.1121607824525062, 0.08986814763189416, 0.1121607824525062, 0.022292634820612042], [0.0, 0.0, 0.0, 0.0], [0.07110659132196608, 0.11781956433662638, 0.10173653296036883, 0.14533134430948064], [0.1575580162380429, 0.24742616386993704, 0.20383135252082524, 0.13346295898100596], [0.29956775758048515, 0.2659215963038402, 0.22534300459297057, 0.1078709142641595], [0.0, 0.0, 0.0, 0.0], [0.0, 0.0, 0.0, 0.0], [0.18818795787644566, 0.3056600482052567, 0.3798848011927713, 0.2659215963038402], [0.3955281958371509, 0.63899338153859, 0.6148983242815531, 0.5371646858541586], [0.0, 0.0, 0.0, 0.0], [0.06876641313064372, 0.0665300448296941, 0.06653004482969412, 0.059637074975028834], [0.03901259388303602, 0.04292096871596124, 0.04068460041501163, 0.06130908150700444], [0.0743328351507635, 0.06874947083217121, 0.07265784566509642, 0.057397723720387775], [0.03900961092934457, 0.03900961092934457, 0.03342624661075229, 0.05572273423472071], [0.09174133533149509, 0.07111685423950229, 0.064223884384837, 0.0481419320386509], [0.0, 0.0, 0.0, 0.0], [0.11216681489811396, 0.08987032727414554, 0.11216681489811396, 0.022296487623968422], [0.0, 0.0, 0.0, 0.0], [0.07111685423950229, 0.11782725245382529, 0.10174530010763919, 0.1453447034004834], [0.15756484365067558, 0.24743517092482112, 0.20383576763197692, 0.13346973056698974], [0.29957409835830995, 0.2659258636225581, 0.22534624919732887, 0.10787608389673296], [0.0, 0.0, 0.0, 0.0], [0.0, 0.0, 0.0, 0.0], [0.18819328951881248, 0.3056634548194084, 0.3798913039803895, 0.2659258636225581], [0.39553378209355394, 0.6389967881527416, 0.6149016750690559, 0.5371691009653102], [0.0, 0.0, 0.0, 0.0], [0.06878224847783475, 0.06654504899074297, 0.06654504899074297, 0.05965257233048756], [0.03902264839129445, 0.042929774484422166, 0.04069257499733038, 0.061322498936523494], [0.07434261946676457, 0.06875958919195173, 0.07266671528507945, 0.05740939526774659], [0.03901667081564526, 0.03901667081564526, 0.03343364054083242, 0.055733491086061474], [0.09175573555878666, 0.07112581161959354, 0.06423333495933813, 0.04815232453864164], [0.0, 0.0, 0.0, 0.0], [0.11217208005272203, 0.08987222950749298, 0.11217208005272203, 0.022299850545229052], [0.0, 0.0, 0.0, 0.0], [0.07112581161959354, 0.11783396229759135, 0.10175295187689486, 0.14535636289703988], [0.15757080221426187, 0.24744303172175486, 0.20383962070160982, 0.133475640527638], [0.299579632192703, 0.2659295877232688, 0.22534908091525668, 0.10788059574688053], [0.0, 0.0, 0.0, 0.0], [0.0, 0.0, 0.0, 0.0], [0.18819794247156318, 0.30566642763993934, 0.37989697891738566, 0.2659295877232688], [0.3955386571474323, 0.6389997609732727, 0.6149045992866488, 0.5371729540349431], [0.0, 0.0, 0.0, 0.0], [0.06879606975433684, 0.06655814489194346, 0.06655814489194348, 0.059666098767657896], [0.03903142422430747, 0.0429374603833798, 0.040699535520986416, 0.06133421006433684], [0.07435115953680302, 0.06876842102259209, 0.07267445718166442, 0.05741958284680486], [0.039022833165847814, 0.039022833165847814, 0.03344009465163689, 0.05574288049166626], [0.09176830408009838, 0.07113362953674796, 0.06424158341246239, 0.04816139521098642], [0.0, 0.0, 0.0, 0.0], [0.11217667549784027, 0.0898738896578109, 0.11217667549784027, 0.02230278584002937], [0.0, 0.0, 0.0, 0.0], [0.07113362953674796, 0.11783981838563841, 0.10175963018416244, 0.1453665390532744], [0.15757600254432766, 0.24744989220213856, 0.20384298333302658, 0.13348079852692285], [0.29958446182432485, 0.2659328378085083, 0.2253515523077984, 0.10788453353234305], [0.0, 0.0, 0.0, 0.0], [0.0, 0.0, 0.0, 0.0], [0.18820200319174213, 0.30566902196719753, 0.379901931483724, 0.2659328378085083], [0.39554291162500843, 0.6390023553005308, 0.6149071512831261, 0.5371763166663599], [0.0, 0.0, 0.0, 0.0], [0.06880813307663161, 0.06656957516963162, 0.06656957516963162, 0.05967790487190316], [0.039039083945602106, 0.04294416878734196, 0.04070561088034196, 0.061344431806643014], [0.07435861352969404, 0.06877612981615301, 0.07268121465789287, 0.05742847502784184], [0.039028212008540786, 0.039028212008540786, 0.033445728294999755, 0.05575107615604066], [0.09177927386631288, 0.07114045294001184, 0.06424878264228337, 0.048169312150330566], [0.0, 0.0, 0.0, 0.0], [0.11218068640833836, 0.08987533854729746, 0.11218068640833836, 0.02230534786104091], [0.0, 0.0, 0.0, 0.0], [0.07114045294001184, 0.11784492937662389, 0.10176545888467109, 0.1453754206006534], [0.1575805411610995, 0.24745587970839697, 0.20384591799241464, 0.13348530026327976], [0.2995886769001529, 0.26593567425080084, 0.22535370923951134, 0.10788797030999364], [0.0, 0.0, 0.0, 0.0], [0.0, 0.0, 0.0, 0.0], [0.18820554710575876, 0.30567128603527643, 0.379906253695918, 0.26593567425080084], [0.3955466245825739, 0.6390046193686097, 0.61490937847079, 0.537179251325748], [0.0, 0.0, 0.0, 0.0], [0.06881866200587283, 0.06657955162487625, 0.06657955162487625, 0.05968820938797187], [0.03904576946498239, 0.04295002398189769, 0.040710913600901115, 0.0613533535238906], [0.07436511952340263, 0.06878285831130662, 0.07268711282822192, 0.05743623644771331], [0.03903290690572041, 0.03903290690572041, 0.033450645693624395, 0.055758229752532605], [0.09178884826307937, 0.07114640834008988, 0.0642550661031855, 0.048176222082883344], [0.0, 0.0, 0.0, 0.0], [0.11218418712895409, 0.08987660307004587, 0.11218418712895409, 0.02230758405890821], [0.0, 0.0, 0.0, 0.0], [0.07114640834008988, 0.11784939009271511, 0.10177054607241295, 0.14538317225260897], [0.15758450228897142, 0.24746110535901727, 0.20384847917882126, 0.1334892292502419], [0.29959235564560355, 0.26593814972310204, 0.22535559173308445, 0.1078909698350206], [0.0, 0.0, 0.0, 0.0], [0.0, 0.0, 0.0, 0.0], [0.1882086400212945, 0.30567326191935834, 0.37991002583187744, 0.26593814972310204], [0.3955498649894042, 0.6390065952526917, 0.614911322213962, 0.5371818125121546], [0.0, 0.0, 0.0, 0.0], [0.06882785168244751, 0.06658825913785284, 0.06658825913785284, 0.059697203260690876], [0.039051604658929026, 0.04295513445878264, 0.04071554191418797, 0.06136114051594982], [0.07437079805287419, 0.06878873112161318, 0.0726922609214668, 0.05744301083994775], [0.03903700478278058, 0.03903700478278058, 0.03345493785151956, 0.05576447370854035], [0.09179720475646835, 0.0711516061547065, 0.06426055027754454, 0.04818225308068566], [0.0, 0.0, 0.0, 0.0], [0.11218724255070185, 0.08987770669368106, 0.11218724255070185, 0.022309535857020793], [0.0, 0.0, 0.0, 0.0], [0.0711516061547065, 0.11785328328348788, 0.101774986086629, 0.1453899377624117], [0.15758795942534592, 0.24746566611902698, 0.2038507144432443, 0.13349265836946375], [0.2995955663221989, 0.2659403101835127, 0.22535723471449373, 0.1078935877463914], [0.0, 0.0, 0.0, 0.0], [0.0, 0.0, 0.0, 0.0], [0.18821133935726841, 0.3056749863253707, 0.3799133179330759, 0.2659403101835127], [0.3955526930190518, 0.639008319658704, 0.614913018602822, 0.5371840477765776], [0.0, 0.0, 0.0, 0.0], [0.06883587243640901, 0.06659585908645971, 0.06659585908645971, 0.05970505316425345], [0.0390566976595192, 0.04295959492059651, 0.0407195815706472, 0.061367937075381455], [0.07437575433585775, 0.06879385703255761, 0.07269675429363492, 0.05744892368320931], [0.039040581528424365, 0.039040581528424365, 0.03345868422512421, 0.05576992364098647], [0.09180449826039827, 0.07115614275566401, 0.06426533683345775, 0.048187516931674765], [0.0, 0.0, 0.0, 0.0], [0.11218990931252193, 0.08987866989665967, 0.11218990931252193, 0.022311239415862258], [0.0, 0.0, 0.0, 0.0], [0.07115614275566401, 0.1178566811644316, 0.1017788612626486, 0.14539584259137212], [0.15759097670864627, 0.24746964660530596, 0.20385266527658244, 0.13349565122538318], [0.29959836849852983, 0.2659421957333193, 0.22535866866282173, 0.10789587260091865], [0.0, 0.0, 0.0, 0.0], [0.0, 0.0, 0.0, 0.0], [0.18821369521563086, 0.30567649127753393, 0.37991619111324204, 0.2659421957333193], [0.39555516117419365, 0.6390098246108673, 0.6149144991276042, 0.5371859986099158], [0.0, 0.0, 0.0, 0.0], [0.06884287293996488, 0.06660249233165662, 0.06660249233165662, 0.05971190458445984], [0.03906114285353714, 0.04296348803168003, 0.04072310742337176, 0.061373869154294464], [0.07438008021712834, 0.06879833100866696, 0.07270067618680985, 0.057454084515667705], [0.03904370339305327, 0.03904370339305327, 0.033461954184591886, 0.05577468048534921], [0.09181086398645381, 0.07116010225553111, 0.06426951450833433, 0.04819211120904218], [0.0, 0.0, 0.0, 0.0], [0.11219223685031628, 0.08987951054955895, 0.11219223685031628, 0.022312726300757327], [0.0, 0.0, 0.0, 0.0], [0.07116010225553111, 0.11785964675900341, 0.10178224345971126, 0.14540099623712288], [0.15759361011138423, 0.24747312066094318, 0.20385436788353156, 0.13349826332697057], [0.29960081415860856, 0.265943841364852, 0.22535992017701678, 0.10789786677534836], [0.0, 0.0, 0.0, 0.0], [0.0, 0.0, 0.0, 0.0], [0.1882157513155644, 0.3056778047172328, 0.3799186986988246, 0.265943841364852], [0.3955573152667918, 0.6390111380505661, 0.6149157912661525, 0.5371877012168649], [0.0, 0.0, 0.0, 0.0], [0.06884898295991507, 0.06660828182421394, 0.06660828182421394, 0.059717884510267265], [0.0390650226282778, 0.04296688594712796, 0.04072618481142684, 0.0613790466934163], [0.07438385586652171, 0.06880223594698798, 0.07270409926583815, 0.057458588957031605], [0.039046428210743264, 0.039046428210743264, 0.03346480829120953, 0.05577883235634803], [0.09181641994906248, 0.071163558067073, 0.06427316075312633, 0.048196121077925605], [0.0, 0.0, 0.0, 0.0], [0.11219426831272106, 0.08988024424758256, 0.11219426831272106, 0.0223140240651385], [0.0, 0.0, 0.0, 0.0], [0.071163558067073, 0.11786223506941981, 0.1017851953942191, 0.14540549426535596], [0.15759590848078425, 0.24747615272836682, 0.20385585385722993, 0.13350054311871942], [0.29960294866854764, 0.26594527761345277, 0.2253610124702647, 0.10789960725337783], [0.0, 0.0, 0.0, 0.0], [0.0, 0.0, 0.0, 0.0], [0.18821754580793032, 0.3056789510248172, 0.37992088722310013, 0.26594527761345277], [0.39555919527239974, 0.6390122843581505, 0.6149169189960857, 0.5371891871905633], [0.0, 0.0, 0.0, 0.0], [0.06885431576066778, 0.06661333488071816, 0.06661333488071816, 0.059723103783973934], [0.03906840889599941, 0.04296985164793104, 0.04072887076798141, 0.06138356565595593], [0.07438715126179773, 0.06880564420874562, 0.07270708696067724, 0.057462520474885814], [0.03904880646686092, 0.03904880646686092, 0.03346729941380881, 0.05578245617376533], [0.09182126915230004, 0.07116657426432552, 0.0642763431675813, 0.04819962087269326], [0.0, 0.0, 0.0, 0.0], [0.1121960413605208, 0.08988088460056429, 0.1121960413605208, 0.022315156759956517], [0.0, 0.0, 0.0, 0.0], [0.07116657426432552, 0.11786449409811682, 0.10178777180322879, 0.14540942008283558], [0.1575979144465368, 0.2474787990471011, 0.20385715076749433, 0.13350253288017105], [0.2996048116197715, 0.2659465311259552, 0.22536196580126144, 0.10790112631232636], [0.0, 0.0, 0.0, 0.0], [0.0, 0.0, 0.0, 0.0], [0.18821911198544006, 0.30567995147437516, 0.3799227972928852, 0.2659465311259552], [0.39556083607493947, 0.6390132848077085, 0.6149179032413428, 0.5371904841008276], [0.0, 0.0, 0.0, 0.0], [0.06885897020209067, 0.06661774517067712, 0.06661774517067712, 0.059727659153187444], [0.03907136442498711, 0.04297244010673965, 0.0407312150753261, 0.06138750980352643], [0.07439002748348233, 0.06880861895707262, 0.07270969463882515, 0.0574659519274557], [0.03905088223066892, 0.03905088223066892, 0.03346947370425919, 0.05578561908279851], [0.09182550149874102, 0.0711692067705407, 0.064279120753051, 0.048202675473890344], [0.0, 0.0, 0.0, 0.0], [0.11219758886447076, 0.08988144348593144, 0.11219758886447076, 0.02231614537853932], [0.0, 0.0, 0.0, 0.0], [0.0711692067705407, 0.117866465738981, 0.10179002045982033, 0.145412846484671], [0.15759966521271623, 0.24748110869864767, 0.203858282673797, 0.13350426951078212], [0.2996064375645991, 0.2659476251564429, 0.22536279785046878, 0.10790245212228657], [0.0, 0.0, 0.0, 0.0], [0.0, 0.0, 0.0, 0.0], [0.1882204789019959, 0.3056808246301781, 0.37992446434430843, 0.2659476251564429], [0.3955622681161095, 0.6390141579635114, 0.6149187622615773, 0.5371916160071304], [0.0, 0.0, 0.0, 0.0], [0.06886303257087671, 0.06662159445130744, 0.06662159445130744, 0.05973163506231233], [0.039073944001685124, 0.042974699305671896, 0.040733261186102626, 0.06139095224672983], [0.07439253784544385, 0.0688112153252387, 0.07271197062922546, 0.05746894691094218], [0.039052693969884256, 0.039052693969884256, 0.033471371449679106, 0.055788379694723805], [0.09182919545565081, 0.07117150439502361, 0.0642815450060285, 0.04820534151024951], [0.0, 0.0, 0.0, 0.0], [0.11219893951442442, 0.08988193126937973, 0.11219893951442442, 0.0223170082450447], [0.0, 0.0, 0.0, 0.0], [0.07117150439502361, 0.1178681865549956, 0.1017919830592166, 0.1454158370046179], [0.15760119324869382, 0.24748312451807353, 0.20385927057267225, 0.13350578521478101], [0.29960785665798895, 0.2659485799986477, 0.2253635240483946, 0.10790360926893552], [0.0, 0.0, 0.0, 0.0], [0.0, 0.0, 0.0, 0.0], [0.18822167191288683, 0.3056815866923459, 0.3799259193019402, 0.2659485799986477], [0.3955635179617256, 0.6390149200256792, 0.6149195119917664, 0.5371926039060055], [0.0, 0.0, 0.0, 0.0], [0.06886657817922127, 0.06662495408197722, 0.06662495408197722, 0.05973510521654498], [0.039076195445281965, 0.04297667112489617, 0.040735047027652106, 0.06139395679891512], [0.07439472888197943, 0.06881348143676341, 0.07271395711637763, 0.05747156093606925], [0.0390542752620503, 0.0390542752620503, 0.03347302781683428, 0.05579078917046744], [0.09183241950934362, 0.07117350973808062, 0.06428366087264839, 0.04820766840795826], [0.0, 0.0, 0.0, 0.0], [0.11220011835102983, 0.08988235699739668, 0.11220011835102983, 0.022317761353633156], [0.0, 0.0, 0.0, 0.0], [0.07117350973808062, 0.11786968845680743, 0.10179369599211731, 0.14541844709350268], [0.15760252689196744, 0.24748488388936413, 0.20386013278797874, 0.13350710809878205], [0.29960909521745316, 0.26594941336312583, 0.22536415786203107, 0.10790461920974939], [0.0, 0.0, 0.0, 0.0], [0.0, 0.0, 0.0, 0.0], [0.18822271314600414, 0.3056822517982858, 0.3799271891537078, 0.26594941336312583], [0.39556460879568245, 0.639015585131619, 0.6149201663384337, 0.537193466121312], [0.0, 0.0, 0.0, 0.0], [0.06886967276033586, 0.066627886346244, 0.066627886346244, 0.059738133947207304], [0.03907816049344092, 0.042978392118360215, 0.04073660570426837, 0.06139657915803475], [0.07439664120957731, 0.06881545929612372, 0.07271569092104302, 0.0574738424554086], [0.03905565541573406, 0.03905565541573406, 0.03347447350228046, 0.05579289216687429], [0.09183523343462027, 0.07117525998085389, 0.06428550758181718, 0.04820969930656947], [0.0, 0.0, 0.0, 0.0], [0.11220114722982978, 0.08988272856523595, 0.11220114722982978, 0.02231841866459383], [0.0, 0.0, 0.0, 0.0], [0.07117525998085389, 0.11787099929486004, 0.10179519101961233, 0.14542072514766313], [0.15760369087416315, 0.24748641943939909, 0.2038608853113483, 0.13350826269328675], [0.2996101762116039, 0.26595014070629497, 0.22536471104479466, 0.1079055006721182], [0.0, 0.0, 0.0, 0.0], [0.0, 0.0, 0.0, 0.0], [0.18822362191292158, 0.30568283228559806, 0.3799282974524073, 0.26595014070629497], [0.395565560850834, 0.6390161656189314, 0.614920737438055, 0.5371942186446816], [0.0, 0.0, 0.0, 0.0], [0.06887237368658759, 0.06663044560589726, 0.06663044560589726, 0.05974077740361194], [0.03907987557551118, 0.04297989419097395, 0.040737966110283616, 0.06139886793838437], [0.07439831027923255, 0.06881718556642163, 0.0727172041818844, 0.0574758337603459], [0.03905686001293548, 0.03905686001293548, 0.03347573530012457, 0.05579472766299776], [0.09183768940278578, 0.07117678757468503, 0.0642871193723997, 0.04821147185848684], [0.0, 0.0, 0.0, 0.0], [0.11220204522635435, 0.08988305286348117, 0.11220204522635435, 0.022318992362873193], [0.0, 0.0, 0.0, 0.0], [0.07117678757468503, 0.11787214337611865, 0.1017964958622058, 0.14542271340650473], [0.15760470678002114, 0.2474877596435023, 0.20386154209920337, 0.1335092704077801], [0.29961111968644805, 0.2659507755174991, 0.22536519385462833, 0.10790627000076865], [0.0, 0.0, 0.0, 0.0], [0.0, 0.0, 0.0, 0.0], [0.1882244150675419, 0.3056833389214016, 0.3799292647532213, 0.2659507755174991], [0.3955663917848828, 0.6390166722547349, 0.6149212358824939, 0.5371948754325366], [0.0, 0.0, 0.0, 0.0], [0.06887473103278828, 0.06663267930832732, 0.06663267930832731, 0.05974308459346786], [0.039081372487491585, 0.04298120518974604, 0.040739153465285075, 0.06140086557126135], [0.07439976703319137, 0.06881869224832093, 0.0727185249505754, 0.0574775717641844], [0.03905791138266909, 0.03905791138266909, 0.033476836597798654, 0.05579632968156842], [0.09183983294876343, 0.07117812084278714, 0.06428852612792768, 0.04821301892681201], [0.0, 0.0, 0.0, 0.0], [0.11220282898970417, 0.0898833359059344, 0.11220282898970417, 0.022319493083769765], [0.0, 0.0, 0.0, 0.0], [0.07117812084278714, 0.1178731419150021, 0.10179763471388642, 0.14542444873583782], [0.1576055934479178, 0.2474889293538522, 0.2038621153319008, 0.13351014992788582], [0.2996119431373775, 0.26595132956947115, 0.22536561524432677, 0.107906941460957], [0.0, 0.0, 0.0, 0.0], [0.0, 0.0, 0.0, 0.0], [0.1882251073190171, 0.30568378110238686, 0.37993010899543755, 0.26595132956947115], [0.39556711700832126, 0.6390171144357202, 0.6149216709156883, 0.5371954486652342], [0.0, 0.0, 0.0, 0.0], [0.068876788504302, 0.06663462886584393, 0.06663462886584393, 0.059745098291051374], [0.03908267898121489, 0.0429823494197939, 0.04074018978133581, 0.061402609091172296], [0.07440103847824706, 0.06882000727276018, 0.07271967771133918, 0.05747908868580634], [0.039058829014427934, 0.039058829014427934, 0.03347779780894105, 0.05579772791889846], [0.09184170381521686, 0.07117928450538037, 0.06428975393058783, 0.04821436919446551], [0.0, 0.0, 0.0, 0.0], [0.11220351305117066, 0.08988358294121325, 0.11220351305117066, 0.02231993010995741], [0.0, 0.0, 0.0, 0.0], [0.07117928450538037, 0.117874013426907, 0.10179862869078468, 0.145425963311536], [0.1576063673193826, 0.24748995026059584, 0.2038626156398445, 0.1335109175619646], [0.29961266183378293, 0.26595181313687166, 0.22536598302762728, 0.1079075275030669], [0.0, 0.0, 0.0, 0.0], [0.0, 0.0, 0.0, 0.0], [0.1882257115047869, 0.3056841670293473, 0.37993084583550296, 0.26595181313687166], [0.39556774997056054, 0.6390175003626806, 0.6149220506052626, 0.5371959489731778], [0.0, 0.0, 0.0, 0.0], [0.06887858424714625, 0.06663633042320735, 0.06663633042320735, 0.05974685582993289], [0.03908381927864229, 0.042983348094764715, 0.040741094270825805, 0.061404130822116404], [0.07440214818617699, 0.06882115501837242, 0.07272068383449484, 0.057480412646495345], [0.039059629919143656, 0.039059629919143656, 0.03347863675133908, 0.055798948294813196], [0.09184333668931646, 0.07118030013802586, 0.0642908255447514, 0.04821554769585566], [0.0, 0.0, 0.0, 0.0], [0.11220411009360898, 0.08988379855013487, 0.11220411009360898, 0.022320311543474115], [0.0, 0.0, 0.0, 0.0], [0.07118030013802586, 0.11787477407163956, 0.10179949622274381, 0.14542728521620463], [0.1576070427441117, 0.24749084129424656, 0.20386305230078577, 0.13351158754359566], [0.2996132891023341, 0.2659522351869829, 0.22536630402415536, 0.10790803899352995], [0.0, 0.0, 0.0, 0.0], [0.0, 0.0, 0.0, 0.0], [0.18822623882882966, 0.30568450385945506, 0.37993148893763384, 0.2659522351869829], [0.39556830240958996, 0.6390178371927884, 0.6149223819922723, 0.5371963856341191], [0.0, 0.0, 0.0, 0.0], [0.06888015155508269, 0.06663781552757372, 0.06663781552757374, 0.059748389794922675], [0.0390848145207788, 0.04298421972999697, 0.04074188370248802, 0.061405458976631896], [0.0744031167305707, 0.06882215676316156, 0.07272156197237974, 0.05748156819093197], [0.03906032894429705, 0.03906032894429705, 0.03347936897688791, 0.055800013432741005], [0.0918447618458002, 0.07118118657165633, 0.06429176083900527, 0.04821657628093881], [0.0, 0.0, 0.0, 0.0], [0.11220463118655331, 0.08988398673070022, 0.11220463118655331, 0.022320644455853095], [0.0, 0.0, 0.0, 0.0], [0.07118118657165633, 0.11787543795313536, 0.1018002533950689, 0.1454284389599303], [0.15760763224615154, 0.24749161897685176, 0.20386343341199037, 0.13351217229556162], [0.29961383657419316, 0.2659526035461105, 0.2253665841859192, 0.10790848541635666], [0.0, 0.0, 0.0, 0.0], [0.0, 0.0, 0.0, 0.0], [0.18822669906956413, 0.30568479783912667, 0.3799320502274006, 0.2659526035461105], [0.3955687845698269, 0.63901813117246, 0.61492267122187, 0.5371967667453237], [0.0, 0.0, 0.0, 0.0], [0.06888151948678967, 0.06663911171325443, 0.06663911171325443, 0.059749728626039174], [0.03908568315951437, 0.04298498048569602, 0.04074257271216078, 0.06140661817868558], [0.07440396206812677, 0.06882303107877785, 0.0727223284049595, 0.05748257674198307], [0.03906093904899351, 0.03906093904899351, 0.0334800080596446, 0.05580094307881581], [0.09184600570824396, 0.07118196024171915, 0.0642925771545039, 0.04821747402026487], [0.0, 0.0, 0.0, 0.0], [0.11220508599142916, 0.08988415097225795, 0.11220508599142916, 0.02232093501917121], [0.0, 0.0, 0.0, 0.0], [0.07118196024171915, 0.11787601738103462, 0.10180091424679559, 0.1454294459347747], [0.15760814675619927, 0.2474922977284572, 0.20386376604047812, 0.13351268266023703], [0.29961431440075953, 0.2659529250447935, 0.225366828707704, 0.10790887504902152], [0.0, 0.0, 0.0, 0.0], [0.0, 0.0, 0.0, 0.0], [0.18822710076127572, 0.3056850544199582, 0.3799325401130137, 0.2659529250447935], [0.39556920539221613, 0.6390183877532916, 0.6149229236573294, 0.5371970993738114], [0.0, 0.0, 0.0, 0.0], [0.06888271340454699, 0.06664024301211577, 0.06664024301211577, 0.05975089714567947], [0.039086441299642574, 0.04298564446647493, 0.04074317407404371, 0.06140762992008061], [0.07440469987147245, 0.06882379417467915, 0.07272299734151151, 0.05748345699768844], [0.039061471544082765, 0.039061471544082765, 0.03348056584728948, 0.055801754467727505], [0.09184709133894249, 0.0711826354929056, 0.0642932896264693, 0.048218257558510086], [0.0, 0.0, 0.0, 0.0], [0.11220548294066587, 0.08988429432022785, 0.11220548294066587, 0.02232118862043803], [0.0, 0.0, 0.0, 0.0], [0.0711826354929056, 0.11787652309896957, 0.10180149103101035, 0.14543032481144275], [0.1576085958143365, 0.24749289013456435, 0.20386405635413196, 0.13351312810066024], [0.2996147314419534, 0.2659532056445246, 0.22536704212341618, 0.1079092151159659], [0.0, 0.0, 0.0, 0.0], [0.0, 0.0, 0.0, 0.0], [0.18822745135244126, 0.30568527835989157, 0.3799329676784287, 0.2659532056445246], [0.3955695726801194, 0.6390186116932248, 0.6149231439795486, 0.5371973896874653], [0.0, 0.0, 0.0, 0.0], [0.06888375544441094, 0.06664123039907102, 0.06664123039907102, 0.05975191701875237], [0.039087102997388275, 0.04298622398280583, 0.04074369893746592, 0.061408512958830014], [0.07440534381966568, 0.06882446019854219, 0.07272358118395975, 0.057484225277784164], [0.039061936301759984, 0.039061936301759984, 0.0334810526806365, 0.055802462642078235], [0.09184803886647966, 0.07118322484511558, 0.06429391146479692, 0.04821894142304684], [0.0, 0.0, 0.0, 0.0], [0.11220582939402775, 0.08988441943258602, 0.11220582939402775, 0.022321409961441736], [0.0, 0.0, 0.0, 0.0], [0.07118322484511558, 0.11787696448380212, 0.10180199444205204, 0.14543109188548486], [0.15760898774696144, 0.24749340717954746, 0.20386430973611464, 0.13351351687601884], [0.2996150954305365, 0.26595345054833675, 0.2253672283901672, 0.10790951192256906], [0.0, 0.0, 0.0, 0.0], [0.0, 0.0, 0.0, 0.0], [0.1882277573438979, 0.305685473811496, 0.3799333408518653, 0.26595345054833675], [0.3955698932440821, 0.6390188071448293, 0.6149233362738868, 0.537197643069448], [0.0, 0.0, 0.0, 0.0], [0.06888466492659046, 0.06664209218091618, 0.06664209218091618, 0.05975280715429557], [0.039087680520972286, 0.042986729779222986, 0.04074415703354871, 0.06140928366687199], [0.07440590585175703, 0.0688250414984808, 0.0727240907567315, 0.05748489582617218], [0.039062341938523176, 0.039062341938523176, 0.033481477585246944, 0.05580308073114665], [0.09184886585891264, 0.07118373922558935, 0.06429445419896873, 0.04821953829326718], [0.0, 0.0, 0.0, 0.0], [0.11220613177506064, 0.08988452862916094, 0.11220613177506064, 0.022321603145899704], [0.0, 0.0, 0.0, 0.0], [0.07118373922558935, 0.1178773497195097, 0.10180243381380813, 0.14543176137945357], [0.15760932982120507, 0.247493858450366, 0.20386453088472054, 0.13351385619480638], [0.29961541311552137, 0.26595366429731304, 0.22536739096165712, 0.10790977097207256], [0.0, 0.0, 0.0, 0.0], [0.0, 0.0, 0.0, 0.0], [0.18822802440942382, 0.30568564439900836, 0.3799336665528726, 0.26595366429731304], [0.3955701730281693, 0.6390189777323416, 0.6149235041059431, 0.5371978642180538], [0.0, 0.0, 0.0, 0.0], [0.06888545871362807, 0.06664284433571252, 0.06664284433571252, 0.05975358405601587], [0.03908818457803873, 0.04298717123350425, 0.040744556855588705, 0.06140995633356584], [0.0744063963881069, 0.06882554885192378, 0.0727245355073893, 0.0574854810749327], [0.0390626959748711, 0.0390626959748711, 0.03348184843868798, 0.055803620194215094], [0.091849587649487, 0.07118418817150987, 0.06429492789181321, 0.04822005923565093], [0.0, 0.0, 0.0, 0.0], [0.11220639569018351, 0.0898846239346564, 0.11220639569018351, 0.02232177175552711], [0.0, 0.0, 0.0, 0.0], [0.07118418817150987, 0.11787768594894588, 0.10180281729278359, 0.14543234570661967], [0.15760962837969786, 0.24749425231435426, 0.20386472390051819, 0.13351415234849248], [0.2996156903873305, 0.26595385085481227, 0.22536753285222066, 0.107909997067628], [0.0, 0.0, 0.0, 0.0], [0.0, 0.0, 0.0, 0.0], [0.18822825750097158, 0.3056857932855642, 0.37993395082067405, 0.26595385085481227], [0.3955704172202207, 0.6390191266188976, 0.6149236505876923, 0.5371980572338515], [0.0, 0.0, 0.0, 0.0], [0.06888615152302294, 0.06664350080900427, 0.06664350080900427, 0.05975426212824659], [0.03908862451415817, 0.042987556530520485, 0.04074490581650182, 0.06141054343059024], [0.07440682452355687, 0.06882599166538933, 0.07272492368175165, 0.05748599187476635], [0.0390630049746966, 0.0390630049746966, 0.033482172116529055, 0.05580409103296112], [0.09185021762092042, 0.071184580006832, 0.06429534132607433, 0.04822051390893452], [0.0, 0.0, 0.0, 0.0], [0.11220662603263121, 0.08988470711619914, 0.11220662603263121, 0.02232191891643207], [0.0, 0.0, 0.0, 0.0], [0.071184580006832, 0.11787797940629219, 0.10180315198915238, 0.14543285570113829], [0.15760988895818812, 0.24749459607438726, 0.20386489236240135, 0.13351441082818505], [0.2996159323870306, 0.26595401367997556, 0.22536765669272435, 0.10791019440136133], [0.0, 0.0, 0.0, 0.0], [0.0, 0.0, 0.0, 0.0], [0.1882284609405085, 0.3056859232318715, 0.37993419892617775, 0.26595401367997556], [0.3955706303480706, 0.6390192565652049, 0.6149237784352017, 0.5371982256957347], [0.0, 0.0, 0.0, 0.0], [0.06888675620008988, 0.06664407377236008, 0.06664407377236008, 0.059754853942990835], [0.03908900848608395, 0.042987892813973944, 0.04074521038624413, 0.06141105584315101], [0.0744071981960335, 0.06882637814885477, 0.07272526247674477, 0.057486437696132466], [0.039063274666955396, 0.039063274666955396, 0.03348245461977667, 0.05580450197684373], [0.0918507674535245, 0.0711849219966176, 0.06429570216724836, 0.04822091074318301], [0.0, 0.0, 0.0, 0.0], [0.11220682707317622, 0.08988477971610917, 0.11220682707317622, 0.02232204735706706], [0.0, 0.0, 0.0, 0.0], [0.0711849219966176, 0.11787823553265767, 0.1018034441085923, 0.14543330081893377], [0.1576101163881948, 0.24749489610430397, 0.2038650393939625, 0.13351463642645064], [0.299616143601667, 0.26595415579187764, 0.22536776477935083, 0.10791036663210554], [0.0, 0.0, 0.0, 0.0], [0.0, 0.0, 0.0, 0.0], [0.1882286385001695, 0.3056860366474148, 0.37993441546973095, 0.26595415579187764], [0.395570816363524, 0.639019369980748, 0.614923890019004, 0.5371983727272958], [0.0, 0.0, 0.0, 0.0], [0.06888728395611127, 0.06664457384902961, 0.06664457384902961, 0.05975537047299923], [0.03908934361297227, 0.04298818631883702, 0.04074547621175536, 0.06141150307178232], [0.07440752433370823, 0.06882671546795129, 0.07272555817381604, 0.05748682680480848], [0.039063510051863176, 0.039063510051863176, 0.03348270118610624, 0.05580486064491629], [0.09185124734176445, 0.07118522048173748, 0.06429601710570709, 0.04822125709608431], [0.0, 0.0, 0.0, 0.0], [0.11220700253931015, 0.0898848430805001, 0.11220700253931015, 0.022322159458810054], [0.0, 0.0, 0.0, 0.0], [0.07118522048173748, 0.11787845907697131, 0.10180369906734854, 0.14543368931302866], [0.1576103148865994, 0.2474951579670995, 0.20386516772141938, 0.13351483332618022], [0.29961632794746845, 0.26595427982551556, 0.22536785911617727, 0.10791051695324405], [0.0, 0.0, 0.0, 0.0], [0.0, 0.0, 0.0, 0.0], [0.18822879347221047, 0.3056861356351437, 0.3799346044664349, 0.26595427982551556], [0.3955709787156438, 0.639019468968477, 0.6149239874080579, 0.5371985010547526], [0.0, 0.0, 0.0, 0.0], [0.06888774457619609, 0.06664501031089741, 0.06664501031089741, 0.059755821295201454], [0.039089636108368075, 0.042988442486945846, 0.040745708221647164, 0.06141189340848054], [0.07440780898344021, 0.06882700987680263, 0.07272581625538041, 0.05748716641512205], [0.03906371549358735, 0.03906371549358735, 0.03348291638694977, 0.05580517368706224], [0.09185166618327131, 0.07118548099643793, 0.06429629198074197, 0.04822155938936271], [0.0, 0.0, 0.0, 0.0], [0.112207155684353, 0.08988489838424053, 0.112207155684353, 0.022322257300112468], [0.0, 0.0, 0.0, 0.0], [0.07118548099643793, 0.11787865418403844, 0.10180392159265918, 0.14543402838656777], [0.15761048813383904, 0.24749538651807956, 0.203865279724171, 0.13351500517814913], [0.29961648884246594, 0.26595438808067295, 0.22536794145233613, 0.10791064815192289], [0.0, 0.0, 0.0, 0.0], [0.0, 0.0, 0.0, 0.0], [0.1882289287300603, 0.3056862220304736, 0.37993476942060345, 0.26595438808067295], [0.3955711204147141, 0.639019555363807, 0.614924072408117, 0.5371986130575043], [0.0, 0.0, 0.0, 0.0], [0.06888814660069904, 0.06664539125038438, 0.06664539125038438, 0.05975621476826182], [0.03908989139540299, 0.04298866606789089, 0.040745910717576224, 0.06141223409043505], [0.07440805742288212, 0.06882726683396873, 0.07272604150645663, 0.05748746282369489], [0.03906389480115073, 0.03906389480115073, 0.03348310421223734, 0.0558054469072694], [0.09185203174381054, 0.07118570837095173, 0.06429653188882917, 0.048221823227840216], [0.0, 0.0, 0.0, 0.0], [0.11220728934777185, 0.08988494665273979, 0.11220728934777185, 0.02232234269503206], [0.0, 0.0, 0.0, 0.0], [0.07118570837095173, 0.1178788244713942, 0.10180411581040526, 0.1454343243263756], [0.15761063934215136, 0.24749558599489113, 0.2038653774789208, 0.13351515516871013], [0.29961662926987187, 0.26595448256456594, 0.22536801331444797, 0.10791076266072977], [0.0, 0.0, 0.0, 0.0], [0.0, 0.0, 0.0, 0.0], [0.1882290467816049, 0.3056862974353231, 0.379934913390747, 0.26595448256456594], [0.3955712440880629, 0.6390196307686564, 0.6149241465952152, 0.5371987108122541], [0.0, 0.0, 0.0, 0.0], [0.06888849748356259, 0.06664572373048339, 0.06664572373048339, 0.059756558187549935], [0.039090114207340224, 0.04298886120707435, 0.04074608745399515, 0.06141253143420486], [0.0744082742583267, 0.06882749110364289, 0.07272623810337701, 0.05748772152617597], [0.03906405129904546, 0.03906405129904546, 0.03348326814436164, 0.05580568537122627], [0.09185235080126555, 0.07118590682105584, 0.06429674127812239, 0.048222053503352874], [0.0, 0.0, 0.0, 0.0], [0.11220740600782621, 0.08988498878096157, 0.11220740600782621, 0.022322417226864635], [0.0, 0.0, 0.0, 0.0], [0.07118590682105584, 0.11787897309638001, 0.1018042853216105, 0.1454345826195232], [0.15761077131513676, 0.24749576009609833, 0.20386546279818565, 0.13351528607887425], [0.29961675183339587, 0.2659545650290643, 0.2253680760349285, 0.10791086260279889], [0.0, 0.0, 0.0, 0.0], [0.0, 0.0, 0.0, 0.0], [0.18822914981569142, 0.30568636324782106, 0.3799350390462884, 0.2659545650290643], [0.3955713520287826, 0.6390196965811543, 0.6149242113448918, 0.537198796131519], [0.0, 0.0, 0.0, 0.0], [0.06888880373051721, 0.0666460139157099, 0.0666460139157099, 0.05975685792039901], [0.03909030867533023, 0.042989031522566785, 0.040746241707759465, 0.06141279095282824], [0.07440846351010733, 0.06882768684397719, 0.07272640969121374, 0.05748794731912735], [0.03906418788886589, 0.03906418788886589, 0.033483411222735765, 0.05580589350023377], [0.0918526292713054, 0.07118608002623662, 0.06429692403092574, 0.04822225448544844], [0.0, 0.0, 0.0, 0.0], [0.11220750782751676, 0.08988502555001876, 0.11220750782751676, 0.02232248227749801], [0.0, 0.0, 0.0, 0.0], [0.07118608002623662, 0.11787910281468646, 0.10180443326920915, 0.14543480805506612], [0.15761088649974347, 0.24749591204976223, 0.20386553726390527, 0.13351540033587572], [0.29961685880552363, 0.2659546370031758, 0.22536813077669415, 0.10791094983117736], [0.0, 0.0, 0.0, 0.0], [0.0, 0.0, 0.0, 0.0], [0.188229239742716, 0.3056864206882328, 0.3799351487170623, 0.2659546370031758], [0.3955714462382516, 0.6390197540215661, 0.6149242678576984, 0.5371988705972386], [0.0, 0.0, 0.0, 0.0], [0.06888907101970194, 0.06664626718639526, 0.06664626718639526, 0.059757119524158804], [0.03909047840500364, 0.04298918017218736, 0.04074637633888067, 0.06141301745803583], [0.07440862868713569, 0.06882785768417363, 0.07272655945135735, 0.05748814438895079], [0.039064307103102325, 0.039064307103102325, 0.033483536100140265, 0.05580607515317246], [0.09185287231706663, 0.07118623119791145, 0.06429708353567501, 0.04822242990054679], [0.0, 0.0, 0.0, 0.0], [0.11220759669468927, 0.08988505764165708, 0.11220759669468927, 0.022322539053032196], [0.0, 0.0, 0.0, 0.0], [0.07118623119791145, 0.1178792160314485, 0.10180456239632028, 0.1454350048128401], [0.15761098703163853, 0.2474960446732956, 0.20386560225677577, 0.13351550005817692], [0.2996169521696535, 0.26595469982139847, 0.22536817855472485, 0.1079110259631837], [0.0, 0.0, 0.0, 0.0], [0.0, 0.0, 0.0, 0.0], [0.18822931823004735, 0.3056864708215885, 0.37993524443651716, 0.26595469982139847], [0.3955715284632456, 0.6390198041549218, 0.6149243171814602, 0.537198935590109], [0.0, 0.0, 0.0, 0.0], [0.06888930430694115, 0.06664648823844133, 0.06664648823844133, 0.05975734784923191], [0.03909062654332133, 0.042989309912051285, 0.04074649384355145, 0.06141321514946203], [0.07440877285195824, 0.06882800679176926, 0.07272669016049922, 0.05748831638950319], [0.03906441115209244, 0.03906441115209244, 0.03348364509190348, 0.05580623369804418], [0.0918530844448826, 0.07118636313897203, 0.06429722274976261, 0.04822258300103057], [0.0, 0.0, 0.0, 0.0], [0.11220767425703676, 0.08988508565089605, 0.11220767425703676, 0.022322588606140704], [0.0, 0.0, 0.0, 0.0], [0.07118636313897203, 0.11787931484584072, 0.10180467509710868, 0.14543517654096072], [0.15761107477480718, 0.24749616042570322, 0.2038656589818512, 0.1335155870947481], [0.29961703365687203, 0.26595475464846524, 0.22536822025488334, 0.10791109241039547], [0.0, 0.0, 0.0, 0.0], [0.0, 0.0, 0.0, 0.0], [0.18822938673294382, 0.3056865145774317, 0.37993532797942037, 0.26595475464846524], [0.3955716002283277, 0.6390198479107649, 0.6149243602307058, 0.5371989923151845], [0.0, 0.0, 0.0, 0.0], [0.06888950791762948, 0.06664668117038573, 0.06664668117038573, 0.0597575471290033], [0.039090755836920954, 0.04298942314766982, 0.04074659640042608, 0.061413387692508425], [0.07440889867753711, 0.06882813693136289, 0.07272680424211175, 0.05748846650983934], [0.03906450196500073, 0.03906450196500073, 0.03348374021882651, 0.05580637207441398], [0.09185326958783535, 0.071186478295753, 0.06429734425437056, 0.04822271662554713], [0.0, 0.0, 0.0, 0.0], [0.11220774195264907, 0.0898851100970616, 0.11220774195264907, 0.02232263185558747], [0.0, 0.0, 0.0, 0.0], [0.071186478295753, 0.11787940108999917, 0.10180477346117574, 0.14543532642346396], [0.1576111513561143, 0.2474962614531759, 0.2038657084908877, 0.1335156630593498], [0.2996171047780515, 0.26595480250094045, 0.22536825665034052, 0.10791115040482199], [0.0, 0.0, 0.0, 0.0], [0.0, 0.0, 0.0, 0.0], [0.18822944652153706, 0.3056865527670556, 0.3799354008947665, 0.26595480250094045], [0.39557166286411716, 0.6390198861003888, 0.6149243978036244, 0.5371990418242211], [0.0, 0.0, 0.0, 0.0], [0.0688896856269283, 0.06664684955939197, 0.06664684955939197, 0.05975772105833021], [0.03909086868304137, 0.04298952197854997, 0.04074668591101366, 0.0614135382863025], [0.07440900849680837, 0.06882825051587144, 0.07272690381138006, 0.057488597533337855], [0.03906458122558533, 0.03906458122558533, 0.03348382324464839, 0.05580649284790952], [0.09185343117867864, 0.0711865788033898, 0.06429745030232803, 0.048222833251639445], [0.0, 0.0, 0.0, 0.0], [0.11220780103667657, 0.08988513143341544, 0.11220780103667657, 0.022322669603261132], [0.0, 0.0, 0.0, 0.0], [0.0711865788033898, 0.11787947636299195, 0.10180485931230338, 0.14543545723934256], [0.15761121819546914, 0.24749634962888456, 0.2038657517018454, 0.13351572936045464], [0.2996171668518641, 0.2659548442660694, 0.2253682884159114, 0.10791120102174748], [0.0, 0.0, 0.0, 0.0], [0.0, 0.0, 0.0, 0.0], [0.18822949870438271, 0.3056865860985466, 0.37993546453449933, 0.2659548442660694], [0.3955717175319621, 0.63901991943188, 0.6149244305968655, 0.5371990850351787], [0.0, 0.0, 0.0, 0.0], [0.06888984072976057, 0.06664699652757283, 0.06664699652757283, 0.05975787286204773], [0.03909096717396924, 0.042989608237121, 0.040746764034933255, 0.061413669723011745], [0.07440910434593623, 0.06882834965126658, 0.07272699071441834, 0.05748871188930611], [0.03906465040341536, 0.03906465040341536, 0.033483895708745715, 0.05580659825778822], [0.09185357221348485, 0.07118666652540635, 0.06429754285988126, 0.04822293504168208], [0.0, 0.0, 0.0, 0.0], [0.11220785260460175, 0.08988515005555925, 0.11220785260460175, 0.02232270254904251], [0.0, 0.0, 0.0, 0.0], [0.07118666652540635, 0.11787954206046813, 0.10180493424226895, 0.1454355714140717], [0.15761127653215257, 0.24749642658771182, 0.20386578941590905, 0.13351578722736201], [0.29961722102923233, 0.26595488071822937, 0.22536831614056696, 0.10791124519966834], [0.0, 0.0, 0.0, 0.0], [0.0, 0.0, 0.0, 0.0], [0.18822954424901517, 0.3056866151899138, 0.37993552007857917, 0.26595488071822937], [0.395571765245473, 0.6390199485232471, 0.6149244592184566, 0.5371991227492423], [0.0, 0.0, 0.0, 0.0], [0.06888997610190178, 0.06664712479987714, 0.06664712479987714, 0.05975800535475986], [0.039091053135831694, 0.04298968352270904, 0.04074683222068439, 0.06141378443961256], [0.07440918800206492, 0.06882843617562051, 0.07272706656249786, 0.05748881169802086], [0.03906471078111733, 0.03906471078111733, 0.03348395895467293, 0.0558066902584538], [0.09185369530719513, 0.07118674308826696, 0.06429762364314967, 0.04822302388297362], [0.0, 0.0, 0.0, 0.0], [0.11220789761255057, 0.08988516630876969, 0.11220789761255057, 0.022322731303780867], [0.0, 0.0, 0.0, 0.0], [0.07118674308826696, 0.11787959940053505, 0.101804999640359, 0.1454356710645805], [0.15761132744779524, 0.24749649375656493, 0.20386582233234343, 0.1335158377329912], [0.2996172683146682, 0.2659549125332876, 0.22536834033835462, 0.10791128375769407], [0.0, 0.0, 0.0, 0.0], [0.0, 0.0, 0.0, 0.0], [0.1882295839998873, 0.30568664058054784, 0.3799355685568614, 0.2659549125332876], [0.39557180688931753, 0.6390199739138811, 0.6149244841990771, 0.5371991556656768], [0.0, 0.0, 0.0, 0.0], [0.06889009425329962, 0.06664723675461284, 0.06664723675461284, 0.05975812099302484], [0.0390911281624543, 0.042989749231190005, 0.040746891732503246, 0.061413884563073784], [0.07440926101626841, 0.06882851169318507, 0.07272713276192078, 0.05748889881003938], [0.039064763478155615, 0.039064763478155615, 0.03348401415507228, 0.055806770555691755], [0.09185380274210322, 0.07118680991153269, 0.06429769414994468, 0.04822310142272908], [0.0, 0.0, 0.0, 0.0], [0.11220793689501993, 0.08988518049440045, 0.11220793689501993, 0.022322756400619474], [0.0, 0.0, 0.0, 0.0], [0.07118680991153269, 0.11787964944634362, 0.10180505671912801, 0.14543575803850217], [0.15761137188643257, 0.247496552380833, 0.20386585106145888, 0.1335158818137746], [0.29961730958489896, 0.26595494030113376, 0.2253683614579295, 0.10791131741073465], [0.0, 0.0, 0.0, 0.0], [0.0, 0.0, 0.0, 0.0], [0.18822961869402788, 0.30568666274122275, 0.3799356108681922, 0.26595494030113376], [0.3955718432356232, 0.6390199960745561, 0.6149245060018981, 0.5371991843947922], [0.0, 0.0, 0.0, 0.0], [0.06889019737461075, 0.06664733446754299, 0.06664733446754299, 0.05975822192090191], [0.03909119364491202, 0.04298980658087041, 0.04074694367380266, 0.06141397194979255], [0.07440932474230863, 0.06882857760413563, 0.07272719054009402, 0.05748897484051019], [0.03906480947158805, 0.03906480947158805, 0.033484062333415054, 0.05580684063829558], [0.0918538965101715, 0.07118686823418162, 0.06429775568754054, 0.04822316909862086], [0.0, 0.0, 0.0, 0.0], [0.11220797118035022, 0.0898851928754697, 0.11220797118035022, 0.022322778304880525], [0.0, 0.0, 0.0, 0.0], [0.07118686823418162, 0.11787969312580056, 0.10180510653688088, 0.14543583394843151], [0.1576114106720083, 0.247496603547478, 0.20386587613592735, 0.13351592028702036], [0.2996173456051227, 0.2659549645366167, 0.2253683798908728, 0.10791134678275588], [0.0, 0.0, 0.0, 0.0], [0.0, 0.0, 0.0, 0.0], [0.18822964897470756, 0.30568668208282446, 0.37993564779707434, 0.2659549645366167], [0.39557187495829416, 0.6390200154161578, 0.6149245250311698, 0.5371992094692607], [0.0, 0.0, 0.0, 0.0], [0.0688902873778179, 0.06664741975037244, 0.06664741975037244, 0.05975831000970421], [0.03909125079732099, 0.04298985663507581, 0.04074698900763035, 0.061414048220013576], [0.07440938036173542, 0.0688286351305315, 0.07272724096828632, 0.057489041199119024], [0.03906484961418126, 0.03906484961418126, 0.033484104382977345, 0.05580690180566993], [0.09185397834996412, 0.0711869191375809, 0.06429780939691268, 0.04822322816543467], [0.0, 0.0, 0.0, 0.0], [0.1122080011042294, 0.08988520368153681, 0.1122080011042294, 0.022322797422692588], [0.0, 0.0, 0.0, 0.0], [0.0711869191375809, 0.11787973124877285, 0.10180515001729484, 0.1454359002018243], [0.15761144452365175, 0.24749664820518857, 0.2038658980206591, 0.13351595386606627], [0.2996173770431958, 0.26595498568909076, 0.22536839597895242, 0.10791137241834846], [0.0, 0.0, 0.0, 0.0], [0.0, 0.0, 0.0, 0.0], [0.1882296754033657, 0.30568669896396966, 0.37993568002821304, 0.26595498568909076], [0.39557190264550646, 0.639020032297303, 0.6149245416397175, 0.5371992313539924], [0.0, 0.0, 0.0, 0.0], [0.06889036593167998, 0.06664749418433868, 0.06664749418433868, 0.05975838689269481], [0.03909130067934944, 0.04298990032186599, 0.040747028574524696, 0.06141411478787007], [0.07440942890579352, 0.06882868533897388, 0.07272728498149042, 0.05748909911622568], [0.03906488465022161, 0.03906488465022161, 0.03348414108340196, 0.05580695519192258], [0.0918540497788819, 0.07118696356553653, 0.06429785627389265, 0.04822327971833461], [0.0, 0.0, 0.0, 0.0], [0.11220802722147935, 0.08988521311295873, 0.11220802722147935, 0.022322814108520623], [0.0, 0.0, 0.0, 0.0], [0.07118696356553653, 0.11787976452210386, 0.10180518796654581, 0.14543595802709308], [0.1576114740690112, 0.24749668718196993, 0.20386591712142266, 0.13351598317350602], [0.29961740448201624, 0.26595500415074746, 0.2253684100204597, 0.10791139479282538], [0.0, 0.0, 0.0, 0.0], [0.0, 0.0, 0.0, 0.0], [0.18822969847002047, 0.30568671369765477, 0.37993570815921135, 0.26595500415074746], [0.39557192681061354, 0.6390200470309881, 0.6149245561354829, 0.5371992504547559], [0.0, 0.0, 0.0, 0.0], [0.06889043449267256, 0.06664755914952958, 0.06664755914952958, 0.059758453995369006], [0.03909134421586501, 0.04298993845124205, 0.04074706310809908, 0.06141417288760307], [0.0744094712745429, 0.0688287291603816, 0.07272732339575863, 0.05748914966567585], [0.03906491522931483, 0.03906491522931483, 0.033484173115153545, 0.0558070017868916], [0.09185411212129649, 0.0711870023417925, 0.06429789718763192, 0.048223324713168564], [0.0, 0.0, 0.0, 0.0], [0.11220805001634293, 0.08988522134460487, 0.11220805001634293, 0.022322828671738057], [0.0, 0.0, 0.0, 0.0], [0.0711870023417925, 0.11787979356271891, 0.10180522108825556, 0.1454360084963835], [0.15761149985589132, 0.2474967212004962, 0.20386593379236828, 0.13351600875273278], [0.29961742843033123, 0.2659550202638874, 0.22536842227574025, 0.1079114143210348], [0.0, 0.0, 0.0, 0.0], [0.0, 0.0, 0.0, 0.0], [0.18822971860235438, 0.30568672655705986, 0.3799357327116508, 0.2659550202638874], [0.3955719479016647, 0.6390200598903932, 0.6149245687872347, 0.5371992671257015], [0.0, 0.0, 0.0, 0.0], [0.06889049433199247, 0.06664761585047163, 0.06664761585047163, 0.059758512561884455], [0.03909138221408269, 0.04298997173016463, 0.040747093248643784, 0.06141422359644555], [0.07440950825354667, 0.06882876740725127, 0.07272735692333322, 0.05748919378471126], [0.039064941918430345, 0.039064941918430345, 0.033484201072134956, 0.05580704245449782], [0.09185416653310575, 0.07118703618530399, 0.06429793289671681, 0.048223363984190706], [0.0, 0.0, 0.0, 0.0], [0.11220806991146223, 0.08988522852909937, 0.11220806991146223, 0.022322841382362867], [0.0, 0.0, 0.0, 0.0], [0.07118703618530399, 0.1178798189090639, 0.1018052499965378, 0.14543605254545283], [0.15761152236241027, 0.24749675089150963, 0.2038659483425946, 0.1335160310780144], [0.2996174493321697, 0.26595503432726686, 0.22536843297202086, 0.10791143136505174], [0.0, 0.0, 0.0, 0.0], [0.0, 0.0, 0.0, 0.0], [0.18822973617364408, 0.3056867377806132, 0.3799357541407621, 0.26595503432726686], [0.3955719663097126, 0.6390200711139465, 0.6149245798295507, 0.5371992816759279], [0.0, 0.0, 0.0, 0.0], [0.0688905465591272, 0.06664766533846314, 0.06664766533846314, 0.059758563678129144], [0.039091415378531405, 0.042990000775661744, 0.04074711955499767, 0.06141426785459541], [0.07440954052843635, 0.06882880078872168, 0.07272738618585202, 0.05748923229134701], [0.039064965212413344, 0.039064965212413344, 0.03348422547269869, 0.05580707794876269], [0.09185421402316532, 0.07118706572356757, 0.06429796406323358, 0.04822339825952947], [0.0, 0.0, 0.0, 0.0], [0.11220808727571491, 0.08988523479965091, 0.11220808727571491, 0.022322852476064], [0.0, 0.0, 0.0, 0.0], [0.07118706572356757, 0.11787984103108873, 0.10180527522738461, 0.14543609099102045], [0.15761154200586447, 0.24749677680551538, 0.20386596104187954, 0.13351605056328675], [0.2996174675750755, 0.2659550466016368, 0.22536844230762262, 0.10791144624089155], [0.0, 0.0, 0.0, 0.0], [0.0, 0.0, 0.0, 0.0], [0.18822975150968152, 0.30568674757641257, 0.3799357728438655, 0.2659550466016368], [0.3955719823760635, 0.6390200809097459, 0.6149245894671682, 0.5371992943752129], [0.0, 0.0, 0.0, 0.0], [0.06889059214242592, 0.06664770853106639, 0.06664770853106637, 0.059758608291854934], [0.03909144432411678, 0.042990026126269065, 0.040747142514909525, 0.06141430648264769], [0.074409568697624, 0.0688288299237219, 0.07272741172587419, 0.05748926589953833], [0.03906498554315971, 0.03906498554315971, 0.03348424676925761, 0.055807108927788514], [0.09185425547199388, 0.07118709150425573, 0.06429799126504429, 0.048223428174687756], [0.0, 0.0, 0.0, 0.0], [0.11220810243105356, 0.08988524027252265, 0.11220810243105356, 0.022322862158530903], [0.0, 0.0, 0.0, 0.0], [0.07118709150425573, 0.11787986033896075, 0.10180529724860421, 0.14543612454591034], [0.1576115591504658, 0.24749679942298844, 0.2038659721256823, 0.13351606756982878], [0.2996174834972929, 0.26595505731457836, 0.22536845045563825, 0.1079114592243691], [0.0, 0.0, 0.0, 0.0], [0.0, 0.0, 0.0, 0.0], [0.18822976489481427, 0.3056867561260834, 0.37993578916773807, 0.26595505731457836], [0.3955719963986061, 0.6390200894594167, 0.6149245978787797, 0.5371993054590156], [0.0, 0.0, 0.0, 0.0]]\n"
          ]
        }
      ]
    },
    {
      "cell_type": "code",
      "source": [
        "np.shape(optimal_value_function)"
      ],
      "metadata": {
        "colab": {
          "base_uri": "https://localhost:8080/"
        },
        "id": "-toW-bMZSKgt",
        "outputId": "147fe72a-8225-490f-f3c6-1d080d434670"
      },
      "execution_count": 60,
      "outputs": [
        {
          "output_type": "execute_result",
          "data": {
            "text/plain": [
              "(1600, 4)"
            ]
          },
          "metadata": {},
          "execution_count": 60
        }
      ]
    },
    {
      "cell_type": "code",
      "source": [
        "optimal_value_function[1584:]"
      ],
      "metadata": {
        "colab": {
          "base_uri": "https://localhost:8080/"
        },
        "id": "q0UUdbpYEmP-",
        "outputId": "1097bad2-fb44-4a48-9054-bf8eba9e02c5"
      },
      "execution_count": 68,
      "outputs": [
        {
          "output_type": "execute_result",
          "data": {
            "text/plain": [
              "[[0.06889059214242592,\n",
              "  0.06664770853106639,\n",
              "  0.06664770853106637,\n",
              "  0.059758608291854934],\n",
              " [0.03909144432411678,\n",
              "  0.042990026126269065,\n",
              "  0.040747142514909525,\n",
              "  0.06141430648264769],\n",
              " [0.074409568697624,\n",
              "  0.0688288299237219,\n",
              "  0.07272741172587419,\n",
              "  0.05748926589953833],\n",
              " [0.03906498554315971,\n",
              "  0.03906498554315971,\n",
              "  0.03348424676925761,\n",
              "  0.055807108927788514],\n",
              " [0.09185425547199388,\n",
              "  0.07118709150425573,\n",
              "  0.06429799126504429,\n",
              "  0.048223428174687756],\n",
              " [0.0, 0.0, 0.0, 0.0],\n",
              " [0.11220810243105356,\n",
              "  0.08988524027252265,\n",
              "  0.11220810243105356,\n",
              "  0.022322862158530903],\n",
              " [0.0, 0.0, 0.0, 0.0],\n",
              " [0.07118709150425573,\n",
              "  0.11787986033896075,\n",
              "  0.10180529724860421,\n",
              "  0.14543612454591034],\n",
              " [0.1576115591504658,\n",
              "  0.24749679942298844,\n",
              "  0.2038659721256823,\n",
              "  0.13351606756982878],\n",
              " [0.2996174834972929,\n",
              "  0.26595505731457836,\n",
              "  0.22536845045563825,\n",
              "  0.1079114592243691],\n",
              " [0.0, 0.0, 0.0, 0.0],\n",
              " [0.0, 0.0, 0.0, 0.0],\n",
              " [0.18822976489481427,\n",
              "  0.3056867561260834,\n",
              "  0.37993578916773807,\n",
              "  0.26595505731457836],\n",
              " [0.3955719963986061,\n",
              "  0.6390200894594167,\n",
              "  0.6149245978787797,\n",
              "  0.5371993054590156],\n",
              " [0.0, 0.0, 0.0, 0.0]]"
            ]
          },
          "metadata": {},
          "execution_count": 68
        }
      ]
    },
    {
      "cell_type": "code",
      "source": [
        "Qk = optimal_value_function[0:16] "
      ],
      "metadata": {
        "id": "_EB-dz5TFf2l"
      },
      "execution_count": 63,
      "outputs": []
    },
    {
      "cell_type": "code",
      "source": [
        "def value_iteration(env):\n",
        "    # The Length of the Episode is 100 for 4x4 Environment - Truncation\n",
        "    num_episodes = 100\n",
        "    # Threshold for Convergence\n",
        "    threshold = 1e-20\n",
        "    # Use Discount Factor, Γ=0.9\n",
        "    gamma = 0.9\n",
        "    # Qk\n",
        "    norm_holder = []\n",
        "    value_table = np.zeros(env.observation_space.n)\n",
        "    for i in range(num_episodes):\n",
        "        updated_value_table = np.copy(value_table)  \n",
        "        for s in range(env.observation_space.n): \n",
        "            Q_values = [sum([prob*(r + gamma * updated_value_table[s_])\n",
        "                             for prob, s_, r, _ in env.P[s][a]]) \n",
        "                                   for a in range(env.action_space.n)]                           \n",
        "            value_table[s] = max(Q_values)  \n",
        "        norm = np.linalg.norm(value_table - updated_value_table, ord=np.inf)\n",
        "        norm_holder.append(norm)              \n",
        "        if (np.sum(np.fabs(updated_value_table - value_table)) <= threshold):\n",
        "            print ('QVI converged at episode# %d.' %(i+1))\n",
        "            #Qks.append(Q_values)\n",
        "            break\n",
        "    return norm_holder, value_table\n",
        "\n",
        "def extract_policy(value_table):\n",
        "    # Use discount factor, Γ=0.9\n",
        "    gamma = 0.9  \n",
        "    policy = np.zeros(env.observation_space.n) \n",
        "    for s in range(env.observation_space.n):\n",
        "        Q_values = [sum([prob*(r + gamma * value_table[s_])\n",
        "                             for prob, s_, r, _ in env.P[s][a]]) \n",
        "                                   for a in range(env.action_space.n)]      \n",
        "        policy[s] = np.argmax(np.array(Q_values))        \n",
        "    return policy"
      ],
      "metadata": {
        "id": "uMuDuwuVIXsi"
      },
      "execution_count": 93,
      "outputs": []
    },
    {
      "cell_type": "code",
      "source": [
        "optimal_value_function = value_iteration(env=env)"
      ],
      "metadata": {
        "id": "Z-RAA0tDJFo9"
      },
      "execution_count": 94,
      "outputs": []
    },
    {
      "cell_type": "code",
      "source": [
        "optimal_value_function[1]"
      ],
      "metadata": {
        "colab": {
          "base_uri": "https://localhost:8080/"
        },
        "id": "7HrhZfNkJGvF",
        "outputId": "6836d4d7-a7af-4ded-f3b0-3b000268c273"
      },
      "execution_count": 95,
      "outputs": [
        {
          "output_type": "execute_result",
          "data": {
            "text/plain": [
              "array([0.06889059, 0.06141431, 0.07440957, 0.05580711, 0.09185426,\n",
              "       0.        , 0.1122081 , 0.        , 0.14543612, 0.2474968 ,\n",
              "       0.29961748, 0.        , 0.        , 0.37993579, 0.63902009,\n",
              "       0.        ])"
            ]
          },
          "metadata": {},
          "execution_count": 95
        }
      ]
    },
    {
      "cell_type": "code",
      "source": [
        "optimal_policy = extract_policy(optimal_value_function[1])"
      ],
      "metadata": {
        "id": "lVmYjuSeJPpN"
      },
      "execution_count": 96,
      "outputs": []
    },
    {
      "cell_type": "code",
      "source": [
        "optimal_policy"
      ],
      "metadata": {
        "colab": {
          "base_uri": "https://localhost:8080/"
        },
        "id": "Ubl-MYW-JTHG",
        "outputId": "c866c081-6ee5-41ef-e6d1-f9a2a5616d47"
      },
      "execution_count": 97,
      "outputs": [
        {
          "output_type": "execute_result",
          "data": {
            "text/plain": [
              "array([0., 3., 0., 3., 0., 0., 0., 0., 3., 1., 0., 0., 0., 2., 1., 0.])"
            ]
          },
          "metadata": {},
          "execution_count": 97
        }
      ]
    },
    {
      "cell_type": "code",
      "source": [
        "import pandas as pd\n",
        "pd.DataFrame(optimal_value_function[0])"
      ],
      "metadata": {
        "colab": {
          "base_uri": "https://localhost:8080/",
          "height": 423
        },
        "id": "eJpeJA6bJbhp",
        "outputId": "fdd35e2a-0c91-402f-be26-c97da8bd9ab4"
      },
      "execution_count": 98,
      "outputs": [
        {
          "output_type": "execute_result",
          "data": {
            "text/plain": [
              "               0\n",
              "0   3.333333e-01\n",
              "1   1.000000e-01\n",
              "2   6.000000e-02\n",
              "3   5.400000e-02\n",
              "4   3.510000e-02\n",
              "..           ...\n",
              "95  7.855386e-08\n",
              "96  6.856099e-08\n",
              "97  5.983932e-08\n",
              "98  5.222713e-08\n",
              "99  4.558330e-08\n",
              "\n",
              "[100 rows x 1 columns]"
            ],
            "text/html": [
              "\n",
              "  <div id=\"df-8b9b4ee7-83f7-4014-baec-76ea237ca66f\">\n",
              "    <div class=\"colab-df-container\">\n",
              "      <div>\n",
              "<style scoped>\n",
              "    .dataframe tbody tr th:only-of-type {\n",
              "        vertical-align: middle;\n",
              "    }\n",
              "\n",
              "    .dataframe tbody tr th {\n",
              "        vertical-align: top;\n",
              "    }\n",
              "\n",
              "    .dataframe thead th {\n",
              "        text-align: right;\n",
              "    }\n",
              "</style>\n",
              "<table border=\"1\" class=\"dataframe\">\n",
              "  <thead>\n",
              "    <tr style=\"text-align: right;\">\n",
              "      <th></th>\n",
              "      <th>0</th>\n",
              "    </tr>\n",
              "  </thead>\n",
              "  <tbody>\n",
              "    <tr>\n",
              "      <th>0</th>\n",
              "      <td>3.333333e-01</td>\n",
              "    </tr>\n",
              "    <tr>\n",
              "      <th>1</th>\n",
              "      <td>1.000000e-01</td>\n",
              "    </tr>\n",
              "    <tr>\n",
              "      <th>2</th>\n",
              "      <td>6.000000e-02</td>\n",
              "    </tr>\n",
              "    <tr>\n",
              "      <th>3</th>\n",
              "      <td>5.400000e-02</td>\n",
              "    </tr>\n",
              "    <tr>\n",
              "      <th>4</th>\n",
              "      <td>3.510000e-02</td>\n",
              "    </tr>\n",
              "    <tr>\n",
              "      <th>...</th>\n",
              "      <td>...</td>\n",
              "    </tr>\n",
              "    <tr>\n",
              "      <th>95</th>\n",
              "      <td>7.855386e-08</td>\n",
              "    </tr>\n",
              "    <tr>\n",
              "      <th>96</th>\n",
              "      <td>6.856099e-08</td>\n",
              "    </tr>\n",
              "    <tr>\n",
              "      <th>97</th>\n",
              "      <td>5.983932e-08</td>\n",
              "    </tr>\n",
              "    <tr>\n",
              "      <th>98</th>\n",
              "      <td>5.222713e-08</td>\n",
              "    </tr>\n",
              "    <tr>\n",
              "      <th>99</th>\n",
              "      <td>4.558330e-08</td>\n",
              "    </tr>\n",
              "  </tbody>\n",
              "</table>\n",
              "<p>100 rows × 1 columns</p>\n",
              "</div>\n",
              "      <button class=\"colab-df-convert\" onclick=\"convertToInteractive('df-8b9b4ee7-83f7-4014-baec-76ea237ca66f')\"\n",
              "              title=\"Convert this dataframe to an interactive table.\"\n",
              "              style=\"display:none;\">\n",
              "        \n",
              "  <svg xmlns=\"http://www.w3.org/2000/svg\" height=\"24px\"viewBox=\"0 0 24 24\"\n",
              "       width=\"24px\">\n",
              "    <path d=\"M0 0h24v24H0V0z\" fill=\"none\"/>\n",
              "    <path d=\"M18.56 5.44l.94 2.06.94-2.06 2.06-.94-2.06-.94-.94-2.06-.94 2.06-2.06.94zm-11 1L8.5 8.5l.94-2.06 2.06-.94-2.06-.94L8.5 2.5l-.94 2.06-2.06.94zm10 10l.94 2.06.94-2.06 2.06-.94-2.06-.94-.94-2.06-.94 2.06-2.06.94z\"/><path d=\"M17.41 7.96l-1.37-1.37c-.4-.4-.92-.59-1.43-.59-.52 0-1.04.2-1.43.59L10.3 9.45l-7.72 7.72c-.78.78-.78 2.05 0 2.83L4 21.41c.39.39.9.59 1.41.59.51 0 1.02-.2 1.41-.59l7.78-7.78 2.81-2.81c.8-.78.8-2.07 0-2.86zM5.41 20L4 18.59l7.72-7.72 1.47 1.35L5.41 20z\"/>\n",
              "  </svg>\n",
              "      </button>\n",
              "      \n",
              "  <style>\n",
              "    .colab-df-container {\n",
              "      display:flex;\n",
              "      flex-wrap:wrap;\n",
              "      gap: 12px;\n",
              "    }\n",
              "\n",
              "    .colab-df-convert {\n",
              "      background-color: #E8F0FE;\n",
              "      border: none;\n",
              "      border-radius: 50%;\n",
              "      cursor: pointer;\n",
              "      display: none;\n",
              "      fill: #1967D2;\n",
              "      height: 32px;\n",
              "      padding: 0 0 0 0;\n",
              "      width: 32px;\n",
              "    }\n",
              "\n",
              "    .colab-df-convert:hover {\n",
              "      background-color: #E2EBFA;\n",
              "      box-shadow: 0px 1px 2px rgba(60, 64, 67, 0.3), 0px 1px 3px 1px rgba(60, 64, 67, 0.15);\n",
              "      fill: #174EA6;\n",
              "    }\n",
              "\n",
              "    [theme=dark] .colab-df-convert {\n",
              "      background-color: #3B4455;\n",
              "      fill: #D2E3FC;\n",
              "    }\n",
              "\n",
              "    [theme=dark] .colab-df-convert:hover {\n",
              "      background-color: #434B5C;\n",
              "      box-shadow: 0px 1px 3px 1px rgba(0, 0, 0, 0.15);\n",
              "      filter: drop-shadow(0px 1px 2px rgba(0, 0, 0, 0.3));\n",
              "      fill: #FFFFFF;\n",
              "    }\n",
              "  </style>\n",
              "\n",
              "      <script>\n",
              "        const buttonEl =\n",
              "          document.querySelector('#df-8b9b4ee7-83f7-4014-baec-76ea237ca66f button.colab-df-convert');\n",
              "        buttonEl.style.display =\n",
              "          google.colab.kernel.accessAllowed ? 'block' : 'none';\n",
              "\n",
              "        async function convertToInteractive(key) {\n",
              "          const element = document.querySelector('#df-8b9b4ee7-83f7-4014-baec-76ea237ca66f');\n",
              "          const dataTable =\n",
              "            await google.colab.kernel.invokeFunction('convertToInteractive',\n",
              "                                                     [key], {});\n",
              "          if (!dataTable) return;\n",
              "\n",
              "          const docLinkHtml = 'Like what you see? Visit the ' +\n",
              "            '<a target=\"_blank\" href=https://colab.research.google.com/notebooks/data_table.ipynb>data table notebook</a>'\n",
              "            + ' to learn more about interactive tables.';\n",
              "          element.innerHTML = '';\n",
              "          dataTable['output_type'] = 'display_data';\n",
              "          await google.colab.output.renderOutput(dataTable, element);\n",
              "          const docLink = document.createElement('div');\n",
              "          docLink.innerHTML = docLinkHtml;\n",
              "          element.appendChild(docLink);\n",
              "        }\n",
              "      </script>\n",
              "    </div>\n",
              "  </div>\n",
              "  "
            ]
          },
          "metadata": {},
          "execution_count": 98
        }
      ]
    },
    {
      "cell_type": "code",
      "source": [
        "# Plot Euclidean norm and Infinity norm\n",
        "episode_numbers = range(np.shape(optimal_value_function[0])[0])\n",
        "plt.plot(episode_numbers, optimal_value_function[0], label='Inf norm')\n",
        "plt.legend()\n",
        "plt.xlabel('Episode number (k)')\n",
        "plt.ylabel('||Qk - Q*||')\n",
        "plt.show()"
      ],
      "metadata": {
        "colab": {
          "base_uri": "https://localhost:8080/",
          "height": 279
        },
        "id": "qhmkgiByF5Xe",
        "outputId": "fc9de553-ce72-41d9-bae0-54eabf9ec9bc"
      },
      "execution_count": 99,
      "outputs": [
        {
          "output_type": "display_data",
          "data": {
            "text/plain": [
              "<Figure size 432x288 with 1 Axes>"
            ],
            "image/png": "[encoded data removed]"
          },
          "metadata": {
            "needs_background": "light"
          }
        }
      ]
    },
    {
      "cell_type": "markdown",
      "source": [
        "#### **(c) Use the fancy visual function, which is available in the helper file to plot the heat maps of the optimal policy and value function.**"
      ],
      "metadata": {
        "id": "-WguwVAuSKsv"
      }
    },
    {
      "cell_type": "code",
      "source": [
        "fancy_visual(optimal_value_function, optimal_policy)"
      ],
      "metadata": {
        "colab": {
          "base_uri": "https://localhost:8080/",
          "height": 624
        },
        "id": "bMWreQ_w8Svf",
        "outputId": "afe66a14-1151-4611-b692-c6042fb086a9"
      },
      "execution_count": 49,
      "outputs": [
        {
          "output_type": "stream",
          "name": "stdout",
          "text": [
            "Value Function [0.06889059 0.06141431 0.07440957 0.05580711 0.09185426 0.\n",
            " 0.1122081  0.         0.14543612 0.2474968  0.29961748 0.\n",
            " 0.         0.37993579 0.63902009 0.        ]\n",
            "Policy [0. 3. 0. 3. 0. 0. 0. 0. 3. 1. 0. 0. 0. 2. 1. 0.]\n"
          ]
        },
        {
          "output_type": "display_data",
          "data": {
            "text/plain": [
              "<Figure size 792x648 with 2 Axes>"
            ],
            "image/png": "[encoded data removed]"
          },
          "metadata": {
            "needs_background": "light"
          }
        }
      ]
    },
    {
      "cell_type": "markdown",
      "source": [
        "###**Planning Question 2 - Policy Evaluation: Consider the following polices: (i) the optimal policy obtained from QVI, and (ii) a uniformly random policy where each action is taken with equal probability. Compute the value of the these polices using:**"
      ],
      "metadata": {
        "id": "WZckxslrSfpr"
      }
    },
    {
      "cell_type": "markdown",
      "source": [
        "#### **(a) By solving a linear systems of equations**"
      ],
      "metadata": {
        "id": "0aa28odmSw6z"
      }
    },
    {
      "cell_type": "code",
      "source": [
        "def solve_linear_system(env, policy, gamma=0.9):\n",
        "    # Construct the matrices A and b\n",
        "    A = np.zeros((env.observation_space.n, env.observation_space.n))\n",
        "    b = np.zeros(env.observation_space.n)\n",
        "    for s in range(env.observation_space.n):\n",
        "        for a, prob in enumerate(policy[s]):\n",
        "            for prob_next, next_state, reward, done in env.P[s][a]:\n",
        "                A[s, next_state] -= prob * prob_next * gamma\n",
        "                b[s] += prob * prob_next * reward\n",
        "\n",
        "        A[s, s] += 1\n",
        "\n",
        "    # Solve the linear system of equations\n",
        "    V = np.linalg.solve(A, b)\n",
        "\n",
        "    return V"
      ],
      "metadata": {
        "id": "5Pj_Fib5JCSV"
      },
      "execution_count": 286,
      "outputs": []
    },
    {
      "cell_type": "code",
      "source": [
        "# Compute the value function of a uniformly random policy by solving a linear system of equations\n",
        "uniform_policy = np.ones((env.observation_space.n, env.action_space.n)) / env.action_space.n\n",
        "uniform_V_linear = solve_linear_system(env, uniform_policy)\n",
        "\n",
        "# Print the value function of the optimal policy and a uniformly random policy\n",
        "print('Uniform random policy value function:')\n",
        "print(uniform_V_linear)"
      ],
      "metadata": {
        "colab": {
          "base_uri": "https://localhost:8080/"
        },
        "id": "vq677EI6SzGR",
        "outputId": "243ae370-bc4e-46be-8d9c-6f8e053f18ee"
      },
      "execution_count": 287,
      "outputs": [
        {
          "output_type": "stream",
          "name": "stdout",
          "text": [
            "Uniform random policy value function:\n",
            "[ 4.47726069e-03  4.22245661e-03  1.00667565e-02  4.11821857e-03\n",
            "  6.72195841e-03 -2.70276633e-17  2.63337084e-02  0.00000000e+00\n",
            "  1.86761516e-02  5.76070083e-02  1.06971947e-01  0.00000000e+00\n",
            " -0.00000000e+00  1.30383049e-01  3.91490160e-01  0.00000000e+00]\n"
          ]
        }
      ]
    },
    {
      "cell_type": "code",
      "source": [
        "uniform_policy"
      ],
      "metadata": {
        "colab": {
          "base_uri": "https://localhost:8080/"
        },
        "id": "gNRg5mkSyS18",
        "outputId": "f6bcb46e-ff53-441f-92e5-ce4e8b0830ea"
      },
      "execution_count": 288,
      "outputs": [
        {
          "output_type": "execute_result",
          "data": {
            "text/plain": [
              "array([[0.25, 0.25, 0.25, 0.25],\n",
              "       [0.25, 0.25, 0.25, 0.25],\n",
              "       [0.25, 0.25, 0.25, 0.25],\n",
              "       [0.25, 0.25, 0.25, 0.25],\n",
              "       [0.25, 0.25, 0.25, 0.25],\n",
              "       [0.25, 0.25, 0.25, 0.25],\n",
              "       [0.25, 0.25, 0.25, 0.25],\n",
              "       [0.25, 0.25, 0.25, 0.25],\n",
              "       [0.25, 0.25, 0.25, 0.25],\n",
              "       [0.25, 0.25, 0.25, 0.25],\n",
              "       [0.25, 0.25, 0.25, 0.25],\n",
              "       [0.25, 0.25, 0.25, 0.25],\n",
              "       [0.25, 0.25, 0.25, 0.25],\n",
              "       [0.25, 0.25, 0.25, 0.25],\n",
              "       [0.25, 0.25, 0.25, 0.25],\n",
              "       [0.25, 0.25, 0.25, 0.25]])"
            ]
          },
          "metadata": {},
          "execution_count": 288
        }
      ]
    },
    {
      "cell_type": "code",
      "source": [
        "optimal_policy"
      ],
      "metadata": {
        "colab": {
          "base_uri": "https://localhost:8080/"
        },
        "id": "WqrlTDiLSzMc",
        "outputId": "b4f6c059-65eb-4128-eb5b-1d716fb70cc2"
      },
      "execution_count": 289,
      "outputs": [
        {
          "output_type": "execute_result",
          "data": {
            "text/plain": [
              "array([[0.06889059, 0.06664771, 0.06664771, 0.05975861],\n",
              "       [0.03909144, 0.04299003, 0.04074714, 0.06141431],\n",
              "       [0.07440957, 0.06882883, 0.07272741, 0.05748927],\n",
              "       [0.03906499, 0.03906499, 0.03348425, 0.05580711],\n",
              "       [0.09185426, 0.07118709, 0.06429799, 0.04822343],\n",
              "       [0.        , 0.        , 0.        , 0.        ],\n",
              "       [0.1122081 , 0.08988524, 0.1122081 , 0.02232286],\n",
              "       [0.        , 0.        , 0.        , 0.        ],\n",
              "       [0.07118709, 0.11787986, 0.1018053 , 0.14543612],\n",
              "       [0.15761156, 0.2474968 , 0.20386597, 0.13351607],\n",
              "       [0.29961748, 0.26595506, 0.22536845, 0.10791146],\n",
              "       [0.        , 0.        , 0.        , 0.        ],\n",
              "       [0.        , 0.        , 0.        , 0.        ],\n",
              "       [0.18822976, 0.30568676, 0.37993579, 0.26595506],\n",
              "       [0.395572  , 0.63902009, 0.6149246 , 0.53719931],\n",
              "       [0.        , 0.        , 0.        , 0.        ]])"
            ]
          },
          "metadata": {},
          "execution_count": 289
        }
      ]
    },
    {
      "cell_type": "code",
      "source": [
        "# Compute the value function of a uniformly random policy by solving a linear system of equations\n",
        "#uniform_policy = np.ones((env.observation_space.n, env.action_space.n)) / env.action_space.n\n",
        "optimal_V_linear = solve_linear_system(env, optimal_policy)\n",
        "\n",
        "# Print the value function of the optimal policy and a uniformly random policy\n",
        "print('Optimal policy value function:')\n",
        "print(optimal_V_linear)"
      ],
      "metadata": {
        "colab": {
          "base_uri": "https://localhost:8080/"
        },
        "id": "Fa1zM2skyW5P",
        "outputId": "a35cf655-c73e-496b-e5b2-638ab5b785ca"
      },
      "execution_count": 290,
      "outputs": [
        {
          "output_type": "stream",
          "name": "stdout",
          "text": [
            "Optimal policy value function:\n",
            "[2.84103981e-04 2.82117673e-04 5.92329209e-03 2.57863590e-04\n",
            " 3.86564857e-03 0.00000000e+00 8.53111449e-02 0.00000000e+00\n",
            " 5.28318416e-02 4.30549519e-01 9.00119868e-01 0.00000000e+00\n",
            " 0.00000000e+00 1.44545909e+00 3.35857943e+00 0.00000000e+00]\n"
          ]
        }
      ]
    },
    {
      "cell_type": "code",
      "source": [],
      "metadata": {
        "id": "SD-HESKmyW9_"
      },
      "execution_count": null,
      "outputs": []
    },
    {
      "cell_type": "markdown",
      "source": [
        "#### **(b) By the iterative approach**"
      ],
      "metadata": {
        "id": "_RbDrNbqSzad"
      }
    },
    {
      "cell_type": "code",
      "source": [
        "def policy_evaluation(policy, env, gamma, theta):\n",
        "    # Initialize the value function arbitrarily\n",
        "    V = np.zeros(env.observation_space.n)\n",
        "    while True:\n",
        "        delta = 0\n",
        "        # For each state, update the value function\n",
        "        for s in range(env.observation_space.n):\n",
        "            v = V[s]\n",
        "            # Calculate the expected value of the state under the current policy\n",
        "            action_probabilities = policy[s]\n",
        "            action_values = [sum([prob*(r + gamma * V[s_]) for prob, s_, r, _ in env.P[s][a]]) for a in range(env.action_space.n)]\n",
        "            # Update the value function\n",
        "            V[s] = np.dot(action_probabilities, action_values)\n",
        "            delta = max(delta, np.abs(v - V[s]))\n",
        "        # Check for convergence\n",
        "        if delta < theta:\n",
        "            break\n",
        "    return V"
      ],
      "metadata": {
        "id": "ERDKKDdqS20a"
      },
      "execution_count": 291,
      "outputs": []
    },
    {
      "cell_type": "code",
      "source": [
        "optimal_V = policy_evaluation(optimal_policy, env, gamma, 1e-8)"
      ],
      "metadata": {
        "id": "PNCIPMvQS25Y"
      },
      "execution_count": 293,
      "outputs": []
    },
    {
      "cell_type": "code",
      "source": [
        "random_V = policy_evaluation(random_policy, env, gamma, 1e-8)"
      ],
      "metadata": {
        "id": "nb5Am5hqS2_8"
      },
      "execution_count": 294,
      "outputs": []
    },
    {
      "cell_type": "code",
      "source": [
        "print(\"Value of the optimal policy: \", optimal_V)\n",
        "print(\"Value of a random policy: \", random_V)"
      ],
      "metadata": {
        "colab": {
          "base_uri": "https://localhost:8080/"
        },
        "id": "At-NHSYlzRZz",
        "outputId": "50b0119b-f884-445c-db3d-14e60f062d1a"
      },
      "execution_count": 295,
      "outputs": [
        {
          "output_type": "stream",
          "name": "stdout",
          "text": [
            "Value of the optimal policy:  [2.84103970e-04 2.82117665e-04 5.92329195e-03 2.57863584e-04\n",
            " 3.86564845e-03 0.00000000e+00 8.53111432e-02 0.00000000e+00\n",
            " 5.28318403e-02 4.30549510e-01 9.00119853e-01 0.00000000e+00\n",
            " 0.00000000e+00 1.44545906e+00 3.35857939e+00 0.00000000e+00]\n",
            "Value of a random policy:  [0.00447724 0.00422245 0.01006675 0.00411821 0.00672195 0.\n",
            " 0.02633371 0.         0.01867615 0.05760701 0.10697195 0.\n",
            " 0.         0.13038305 0.39149016 0.        ]\n"
          ]
        }
      ]
    },
    {
      "cell_type": "markdown",
      "source": [
        "#### **(c) Which method is better and why?**"
      ],
      "metadata": {
        "id": "PfYxdXOgS3Mg"
      }
    },
    {
      "cell_type": "markdown",
      "source": [
        "A"
      ],
      "metadata": {
        "id": "Wvao5XdpS6k-"
      }
    },
    {
      "cell_type": "markdown",
      "source": [
        "###**Planning Question 3 - Implement policy iteration on the frozen lake environment.**"
      ],
      "metadata": {
        "id": "Hkfwzq5JTACG"
      }
    },
    {
      "cell_type": "code",
      "source": [
        "def compute_value_function(policy):\n",
        "    num_episodes = 100\n",
        "    threshold = 1e-20\n",
        "    gamma = 0.9\n",
        "    value_table = np.zeros(env.observation_space.n)\n",
        "    for i in range(num_episodes):\n",
        "        updated_value_table = np.copy(value_table)\n",
        "        for s in range(env.observation_space.n):\n",
        "            a = policy[s]\n",
        "            value_table[s] = sum([prob * (r + gamma * updated_value_table[s_]) \n",
        "                                        for prob, s_, r, _ in env.P[s][a]])\n",
        "        if (np.sum((np.fabs(updated_value_table - value_table))) <= threshold):\n",
        "            break\n",
        "    return value_table\n",
        "\n",
        "def extract_policy(value_table):\n",
        "    gamma = 0.9\n",
        "    policy = np.zeros(env.observation_space.n) \n",
        "    for s in range(env.observation_space.n):\n",
        "        Q_values = [sum([prob*(r + gamma * value_table[s_])\n",
        "                             for prob, s_, r, _ in env.P[s][a]]) \n",
        "                                   for a in range(env.action_space.n)]   \n",
        "        policy[s] = np.argmax(np.array(Q_values))        \n",
        "    return policy\n",
        "\n",
        "def policy_iteration(env):\n",
        "    num_episodes = 100\n",
        "    policy = np.zeros(env.observation_space.n)  \n",
        "    for i in range(num_episodes):\n",
        "        value_function = compute_value_function(policy)\n",
        "        new_policy = extract_policy(value_function)\n",
        "        if (np.all(policy == new_policy)):\n",
        "            break\n",
        "        policy = new_policy\n",
        "    return policy, value_function"
      ],
      "metadata": {
        "id": "3fZE61pGTK5v"
      },
      "execution_count": 103,
      "outputs": []
    },
    {
      "cell_type": "markdown",
      "source": [
        "#### **(a) What is the optimal policy and value function?**"
      ],
      "metadata": {
        "id": "gCszVItDTdN8"
      }
    },
    {
      "cell_type": "code",
      "source": [
        "optimal_policy = policy_iteration(env)"
      ],
      "metadata": {
        "id": "uUnAfPHXTdlo"
      },
      "execution_count": 104,
      "outputs": []
    },
    {
      "cell_type": "code",
      "source": [
        "optimal_policy"
      ],
      "metadata": {
        "colab": {
          "base_uri": "https://localhost:8080/"
        },
        "id": "umjnGBqYNabp",
        "outputId": "c5ef78c2-4871-4c98-95e5-767d8151a409"
      },
      "execution_count": 105,
      "outputs": [
        {
          "output_type": "execute_result",
          "data": {
            "text/plain": [
              "(array([0., 3., 0., 3., 0., 0., 0., 0., 3., 1., 0., 0., 0., 2., 1., 0.]),\n",
              " array([0.06889058, 0.0614143 , 0.07440956, 0.0558071 , 0.09185425,\n",
              "        0.        , 0.1122081 , 0.        , 0.14543612, 0.2474968 ,\n",
              "        0.29961748, 0.        , 0.        , 0.37993579, 0.63902009,\n",
              "        0.        ]))"
            ]
          },
          "metadata": {},
          "execution_count": 105
        }
      ]
    },
    {
      "cell_type": "markdown",
      "source": [
        "#### **(b) Compare the convergence of QVI and PI.**"
      ],
      "metadata": {
        "id": "tq9bOB-hTd2A"
      }
    },
    {
      "cell_type": "code",
      "source": [
        "def value_iteration(env):\n",
        "    # The Length of the Episode is 100 for 4x4 Environment - Truncation\n",
        "    num_episodes = 100\n",
        "    # Threshold for Convergence\n",
        "    threshold = 1e-20\n",
        "    # Use Discount Factor, Γ=0.9\n",
        "    gamma = 0.9\n",
        "    value_table = np.zeros(env.observation_space.n)\n",
        "    for i in range(num_episodes):\n",
        "        updated_value_table = np.copy(value_table)  \n",
        "        for s in range(env.observation_space.n): \n",
        "            Q_values = [sum([prob*(r + gamma * updated_value_table[s_])\n",
        "                             for prob, s_, r, _ in env.P[s][a]]) \n",
        "                                   for a in range(env.action_space.n)]                           \n",
        "            value_table[s] = max(Q_values)                \n",
        "        if (np.sum(np.fabs(updated_value_table - value_table)) <= threshold):\n",
        "            print ('QVI converged at episode# %d.' %(i+1))\n",
        "            break\n",
        "    return value_table, i\n",
        "\n",
        "def extract_policy(value_table):\n",
        "    # Use discount factor, Γ=0.9\n",
        "    gamma = 0.9  \n",
        "    policy = np.zeros(env.observation_space.n) \n",
        "    for s in range(env.observation_space.n):\n",
        "        Q_values = [sum([prob*(r + gamma * value_table[s_])\n",
        "                             for prob, s_, r, _ in env.P[s][a]]) \n",
        "                                   for a in range(env.action_space.n)]      \n",
        "        policy[s] = np.argmax(np.array(Q_values))        \n",
        "    return policy"
      ],
      "metadata": {
        "id": "VsC674_vTeIg"
      },
      "execution_count": 130,
      "outputs": []
    },
    {
      "cell_type": "code",
      "source": [
        "optimal_value_function = value_iteration(env=env)"
      ],
      "metadata": {
        "id": "99N3jZp9O3LX"
      },
      "execution_count": 131,
      "outputs": []
    },
    {
      "cell_type": "code",
      "source": [
        "optimal_policy = extract_policy(optimal_value_function[0])"
      ],
      "metadata": {
        "id": "l5_to4wZO3Qe"
      },
      "execution_count": 133,
      "outputs": []
    },
    {
      "cell_type": "code",
      "source": [
        "optimal_policy"
      ],
      "metadata": {
        "colab": {
          "base_uri": "https://localhost:8080/"
        },
        "id": "jt8QLKwaTnZD",
        "outputId": "fe0674b7-ef76-4f21-bc53-c355791ce108"
      },
      "execution_count": 134,
      "outputs": [
        {
          "output_type": "execute_result",
          "data": {
            "text/plain": [
              "array([0., 3., 0., 3., 0., 0., 0., 0., 3., 1., 0., 0., 0., 2., 1., 0.])"
            ]
          },
          "metadata": {},
          "execution_count": 134
        }
      ]
    },
    {
      "cell_type": "code",
      "source": [
        "optimal_value_function[1]"
      ],
      "metadata": {
        "colab": {
          "base_uri": "https://localhost:8080/"
        },
        "id": "AX_hKwXkTzrN",
        "outputId": "52fb2fed-1737-496b-84bc-322dead35153"
      },
      "execution_count": 135,
      "outputs": [
        {
          "output_type": "execute_result",
          "data": {
            "text/plain": [
              "99"
            ]
          },
          "metadata": {},
          "execution_count": 135
        }
      ]
    },
    {
      "cell_type": "code",
      "source": [
        "def compute_value_function(policy):\n",
        "    num_episodes = 100\n",
        "    threshold = 1e-20\n",
        "    gamma = 0.9\n",
        "    value_table = np.zeros(env.observation_space.n)\n",
        "    for i in range(num_episodes):\n",
        "        updated_value_table = np.copy(value_table)\n",
        "        for s in range(env.observation_space.n):\n",
        "            a = policy[s]\n",
        "            value_table[s] = sum([prob * (r + gamma * updated_value_table[s_]) \n",
        "                                        for prob, s_, r, _ in env.P[s][a]])\n",
        "        if (np.sum((np.fabs(updated_value_table - value_table))) <= threshold):\n",
        "            print ('PI.. converged at episode# %d.' %(i+1))\n",
        "            break\n",
        "    return value_table\n",
        "\n",
        "def extract_policy(value_table):\n",
        "    gamma = 0.9\n",
        "    policy = np.zeros(env.observation_space.n) \n",
        "    for s in range(env.observation_space.n):\n",
        "        Q_values = [sum([prob*(r + gamma * value_table[s_])\n",
        "                             for prob, s_, r, _ in env.P[s][a]]) \n",
        "                                   for a in range(env.action_space.n)]   \n",
        "        policy[s] = np.argmax(np.array(Q_values))        \n",
        "    return policy\n",
        "\n",
        "def policy_iteration(env):\n",
        "    num_episodes = 100\n",
        "    policy = np.zeros(env.observation_space.n)  \n",
        "    for i in range(num_episodes):\n",
        "        value_function = compute_value_function(policy)\n",
        "        new_policy = extract_policy(value_function)\n",
        "        if (np.all(policy == new_policy)):\n",
        "            print ('PI converged at episode# %d.' %(i+1))\n",
        "            break\n",
        "        policy = new_policy\n",
        "    return policy, value_function"
      ],
      "metadata": {
        "id": "N3S-qyicTmh4"
      },
      "execution_count": 136,
      "outputs": []
    },
    {
      "cell_type": "code",
      "source": [
        "optimal_policy = policy_iteration(env)"
      ],
      "metadata": {
        "colab": {
          "base_uri": "https://localhost:8080/"
        },
        "id": "Bb2ySsvqOrEK",
        "outputId": "008a21d4-83c7-4986-810c-690fd26d712b"
      },
      "execution_count": 137,
      "outputs": [
        {
          "output_type": "stream",
          "name": "stdout",
          "text": [
            "PI.. converged at episode# 1.\n",
            "PI.. converged at episode# 65.\n",
            "PI converged at episode# 6.\n"
          ]
        }
      ]
    },
    {
      "cell_type": "code",
      "source": [],
      "metadata": {
        "id": "DMxDz2WyOrIr"
      },
      "execution_count": null,
      "outputs": []
    },
    {
      "cell_type": "code",
      "source": [],
      "metadata": {
        "id": "nvQejStrOrOP"
      },
      "execution_count": null,
      "outputs": []
    },
    {
      "cell_type": "code",
      "source": [],
      "metadata": {
        "id": "LLwqdTbrOrSb"
      },
      "execution_count": null,
      "outputs": []
    },
    {
      "cell_type": "markdown",
      "source": [
        "###**Learning Question 1 - Tabular Q-Learning: Implement tabular Q-learning on the frozen lake environment. You should try to optimize the rate of convergence. Hint: Try various functions to decay exploration and learning rate. This will help you converge in lesser number of episodes.**"
      ],
      "metadata": {
        "id": "A3n-863dTnfG"
      }
    },
    {
      "cell_type": "code",
      "source": [
        "import gymnasium as gym\n",
        "env = gym.make('FrozenLake-v1', desc=None, map_name=\"4x4\", is_slippery=True)\n",
        "gamma = 0.9"
      ],
      "metadata": {
        "id": "KHTpnHBrJCXc"
      },
      "execution_count": 114,
      "outputs": []
    },
    {
      "cell_type": "code",
      "source": [
        "import gym\n",
        "import numpy as np\n",
        "import matplotlib.pyplot as plt\n",
        "\n",
        "def epsilon_greedy_policy(state, Q, num_actions, epsilon):\n",
        "    if np.random.uniform(0, 1) < epsilon:\n",
        "        # Choose a random action\n",
        "        action = np.random.choice(num_actions)\n",
        "    else:\n",
        "        # Choose the greedy action\n",
        "        action = np.argmax(Q[state])\n",
        "    return action\n",
        "\n",
        "def q_learning(env, num_episodes, discount_factor=1.0, epsilon=0.1, learning_rate=0.5):\n",
        "    # Initialize the Q-value function to zeros\n",
        "    Q = np.zeros((env.observation_space.n, env.action_space.n))\n",
        "\n",
        "    # Keep track of the total reward obtained in each episode\n",
        "    episode_rewards = []\n",
        "\n",
        "    for episode in range(num_episodes):\n",
        "        state = env.reset()\n",
        "        done = False\n",
        "        total_reward = 0.0\n",
        "\n",
        "        while not done:\n",
        "            # Choose the next action using an epsilon-greedy policy\n",
        "            action = epsilon_greedy_policy(state, Q, env.action_space.n, epsilon)\n",
        "\n",
        "            # Take a step in the environment\n",
        "            next_state, reward, done, _ = env.step(action)\n",
        "\n",
        "            # Update the Q-value function\n",
        "            td_target = reward + discount_factor * np.max(Q[next_state])\n",
        "            td_error = td_target - Q[state, action]\n",
        "            Q[state, action] += learning_rate * td_error\n",
        "\n",
        "            state = next_state\n",
        "            total_reward += reward\n",
        "\n",
        "        episode_rewards.append(total_reward)\n",
        "\n",
        "    return Q, episode_rewards\n",
        "\n",
        "# Create FrozenLake-v1 environment with a 4x4 map and slippery ice\n",
        "env = gym.make(\"FrozenLake-v1\", desc=None, map_name=\"4x4\", is_slippery=True)\n",
        "\n",
        "# Set hyperparameters\n",
        "num_episodes = 100\n",
        "discount_factor = 0.90\n",
        "epsilon = 0.1\n",
        "learning_rate = 0.5\n",
        "\n",
        "# Run Q-learning\n",
        "Q, episode_rewards = q_learning(env, num_episodes, discount_factor, epsilon, learning_rate)\n",
        "\n",
        "# Get final policy from Q-value function\n",
        "policy = np.argmax(Q, axis=1)\n",
        "\n",
        "# Print final Q-values and policy\n",
        "print(\"Final Q-values:\\n\", Q)\n",
        "print(\"Final policy:\\n\", policy)\n",
        "\n",
        "# Plot episode rewards\n",
        "window_size = 100\n",
        "smoothed_rewards = [np.mean(episode_rewards[i-window_size:i+1]) if i > window_size \n",
        "                    else np.mean(episode_rewards[:i+1]) for i in range(len(episode_rewards))]\n",
        "plt.plot(smoothed_rewards)\n",
        "plt.title(\"Episode Rewards\")\n",
        "plt.xlabel(\"Episode\")\n",
        "plt.ylabel(\"Total Reward\")\n",
        "plt.show()"
      ],
      "metadata": {
        "colab": {
          "base_uri": "https://localhost:8080/",
          "height": 630
        },
        "id": "dX3u6IhyjUp3",
        "outputId": "1d4f037e-f83d-410a-c821-930ca0ddcc40"
      },
      "execution_count": 200,
      "outputs": [
        {
          "output_type": "stream",
          "name": "stdout",
          "text": [
            "Final Q-values:\n",
            " [[0. 0. 0. 0.]\n",
            " [0. 0. 0. 0.]\n",
            " [0. 0. 0. 0.]\n",
            " [0. 0. 0. 0.]\n",
            " [0. 0. 0. 0.]\n",
            " [0. 0. 0. 0.]\n",
            " [0. 0. 0. 0.]\n",
            " [0. 0. 0. 0.]\n",
            " [0. 0. 0. 0.]\n",
            " [0. 0. 0. 0.]\n",
            " [0. 0. 0. 0.]\n",
            " [0. 0. 0. 0.]\n",
            " [0. 0. 0. 0.]\n",
            " [0. 0. 0. 0.]\n",
            " [0. 0. 0. 0.]\n",
            " [0. 0. 0. 0.]]\n",
            "Final policy:\n",
            " [0 0 0 0 0 0 0 0 0 0 0 0 0 0 0 0]\n"
          ]
        },
        {
          "output_type": "display_data",
          "data": {
            "text/plain": [
              "<Figure size 432x288 with 1 Axes>"
            ],
            "image/png": "[encoded data removed]"
          },
          "metadata": {
            "needs_background": "light"
          }
        }
      ]
    },
    {
      "cell_type": "code",
      "source": [
        "import numpy as np\n",
        "import matplotlib.pyplot as plt\n",
        "\n",
        "def epsilon_greedy_policy(state, Q, num_actions, epsilon):\n",
        "    if np.random.uniform(0, 1) < epsilon:\n",
        "        # Choose a random action\n",
        "        action = np.random.choice(num_actions)\n",
        "    else:\n",
        "        # Choose the greedy action\n",
        "        action = np.argmax(Q[state])\n",
        "    return action\n",
        "\n",
        "def q_learning(env, num_episodes, discount_factor=1.0, epsilon=0.1, learning_rate=0.5):\n",
        "    # Initialize the Q-value function to zeros\n",
        "    Q = np.zeros((env.observation_space.n, env.action_space.n))\n",
        "\n",
        "    # Keep track of the total reward obtained in each episode\n",
        "    episode_rewards = []\n",
        "\n",
        "    for episode in range(num_episodes):\n",
        "        state = env.reset()\n",
        "        done = False\n",
        "        total_reward = 0.0\n",
        "\n",
        "        while not done:\n",
        "            # Choose the next action using an epsilon-greedy policy\n",
        "            action = epsilon_greedy_policy(state, Q, env.action_space.n, epsilon)\n",
        "\n",
        "            # Take a step in the environment\n",
        "            next_state, reward, done, _ = env.step(action)\n",
        "\n",
        "            # Update the Q-value function\n",
        "            td_target = reward + discount_factor * np.max(Q[next_state])\n",
        "            td_error = td_target - Q[state, action]\n",
        "            Q[state, action] += learning_rate * td_error\n",
        "\n",
        "            state = next_state\n",
        "            total_reward += reward\n",
        "            if epsilon > epsilon_min:\n",
        "                epsilon *= epsilon_decay\n",
        "            if learning_rate > learning_rate_min:\n",
        "                learning_rate *= learning_rate_decay\n",
        "\n",
        "        episode_rewards.append(total_reward)\n",
        "\n",
        "    return Q, episode_rewards\n",
        "\n",
        "# Create FrozenLake-v1 environment with a 4x4 map and slippery ice\n",
        "env = gym.make(\"FrozenLake-v1\", desc=None, map_name=\"4x4\", is_slippery=True)\n",
        "\n",
        "# Set hyperparameters\n",
        "num_episodes = 10000\n",
        "discount_factor = 0.9\n",
        "\n",
        "epsilon = 1.0\n",
        "epsilon_min = 0.01\n",
        "epsilon_decay = 0.999\n",
        "\n",
        "learning_rate = 0.8\n",
        "learning_rate_min = 0.01\n",
        "learning_rate_decay = 0.999\n",
        "\n",
        "# Run Q-learning\n",
        "Q, episode_rewards = q_learning(env, num_episodes, discount_factor, epsilon, learning_rate)\n",
        "\n",
        "# Get final policy from Q-value function\n",
        "policy = np.argmax(Q, axis=1)\n",
        "\n",
        "# Print final Q-values and policy\n",
        "print(\"Final Q-values:\\n\", Q)\n",
        "print(\"Final policy:\\n\", policy)\n",
        "\n",
        "# Plot episode rewards\n",
        "window_size = 100\n",
        "smoothed_rewards = [np.mean(episode_rewards[i-window_size:i+1]) if i > window_size \n",
        "                    else np.mean(episode_rewards[:i+1]) for i in range(len(episode_rewards))]\n",
        "plt.plot(smoothed_rewards)\n",
        "plt.title(\"Episode Rewards\")\n",
        "plt.xlabel(\"Episode\")\n",
        "plt.ylabel(\"Total Reward\")\n",
        "plt.show()"
      ],
      "metadata": {
        "id": "ZXbOTyUaJC1I",
        "colab": {
          "base_uri": "https://localhost:8080/",
          "height": 630
        },
        "outputId": "7bf536b8-7785-4148-8db5-1dce347acccb"
      },
      "execution_count": 202,
      "outputs": [
        {
          "output_type": "stream",
          "name": "stdout",
          "text": [
            "Final Q-values:\n",
            " [[0.0643189  0.05971368 0.05931199 0.05822217]\n",
            " [0.02418269 0.01566006 0.00791371 0.05830105]\n",
            " [0.07072959 0.00898577 0.00992726 0.00759448]\n",
            " [0.00315113 0.         0.         0.        ]\n",
            " [0.08928947 0.07106544 0.06530106 0.05021048]\n",
            " [0.         0.         0.         0.        ]\n",
            " [0.09914999 0.01536089 0.01249917 0.00241069]\n",
            " [0.         0.         0.         0.        ]\n",
            " [0.06895418 0.1083819  0.10367798 0.15022277]\n",
            " [0.17372951 0.24714794 0.20589453 0.10849658]\n",
            " [0.30189573 0.13821828 0.12486406 0.04627593]\n",
            " [0.         0.         0.         0.        ]\n",
            " [0.         0.         0.         0.        ]\n",
            " [0.10936794 0.30845193 0.3650506  0.1464939 ]\n",
            " [0.23829136 0.62035438 0.56173235 0.53770006]\n",
            " [0.         0.         0.         0.        ]]\n",
            "Final policy:\n",
            " [0 3 0 0 0 0 0 0 3 1 0 0 0 2 1 0]\n"
          ]
        },
        {
          "output_type": "display_data",
          "data": {
            "text/plain": [
              "<Figure size 432x288 with 1 Axes>"
            ],
            "image/png": "[encoded data removed]"
          },
          "metadata": {
            "needs_background": "light"
          }
        }
      ]
    },
    {
      "cell_type": "code",
      "source": [
        "import numpy as np\n",
        "import matplotlib.pyplot as plt\n",
        "\n",
        "def epsilon_greedy_policy(state, Q, num_actions, epsilon):\n",
        "    if np.random.uniform(0, 1) < epsilon:\n",
        "        # Choose a random action\n",
        "        action = np.random.choice(num_actions)\n",
        "    else:\n",
        "        # Choose the greedy action\n",
        "        action = np.argmax(Q[state])\n",
        "    return action\n",
        "\n",
        "def q_learning(env, num_episodes, discount_factor=1.0, epsilon=0.1, learning_rate=0.5):\n",
        "    # Initialize the Q-value function to zeros\n",
        "    Q = np.zeros((env.observation_space.n, env.action_space.n))\n",
        "\n",
        "    # Keep track of the total reward obtained in each episode\n",
        "    episode_rewards = []\n",
        "\n",
        "    for episode in range(num_episodes):\n",
        "        state = env.reset()\n",
        "        done = False\n",
        "        total_reward = 0.0\n",
        "\n",
        "        while not done:\n",
        "            # Choose the next action using an epsilon-greedy policy\n",
        "            action = epsilon_greedy_policy(state, Q, env.action_space.n, epsilon)\n",
        "\n",
        "            # Take a step in the environment\n",
        "            next_state, reward, done, _ = env.step(action)\n",
        "\n",
        "            # Update the Q-value function\n",
        "            td_target = reward + discount_factor * np.max(Q[next_state])\n",
        "            td_error = td_target - Q[state, action]\n",
        "            Q[state, action] += learning_rate * td_error\n",
        "\n",
        "            state = next_state\n",
        "            total_reward += reward\n",
        "            epsilon = epsilon_min + (epsilon - epsilon_min) * (epsilon_decay * episode)\n",
        "            learning_rate = learning_rate_min + (learning_rate - learning_rate_min) * (learning_rate_decay * episode)\n",
        "\n",
        "        episode_rewards.append(total_reward)\n",
        "\n",
        "    return Q, episode_rewards\n",
        "\n",
        "# Create FrozenLake-v1 environment with a 4x4 map and slippery ice\n",
        "env = gym.make(\"FrozenLake-v1\", desc=None, map_name=\"4x4\", is_slippery=True)\n",
        "\n",
        "# Set hyperparameters\n",
        "num_episodes = 10000\n",
        "discount_factor = 0.9\n",
        "\n",
        "epsilon = 1.0\n",
        "epsilon_min = 0.01\n",
        "epsilon_decay = 0.001\n",
        "\n",
        "learning_rate = 0.8\n",
        "learning_rate_min = 0.01\n",
        "learning_rate_decay = 0.001\n",
        "\n",
        "# Run Q-learning\n",
        "Q, episode_rewards = q_learning(env, num_episodes, discount_factor, epsilon, learning_rate)\n",
        "\n",
        "# Get final policy from Q-value function\n",
        "policy = np.argmax(Q, axis=1)\n",
        "\n",
        "# Print final Q-values and policy\n",
        "print(\"Final Q-values:\\n\", Q)\n",
        "print(\"Final policy:\\n\", policy)\n",
        "\n",
        "# Plot episode rewards\n",
        "window_size = 100\n",
        "smoothed_rewards = [np.mean(episode_rewards[i-window_size:i+1]) if i > window_size \n",
        "                    else np.mean(episode_rewards[:i+1]) for i in range(len(episode_rewards))]\n",
        "plt.plot(smoothed_rewards)\n",
        "plt.title(\"Episode Rewards\")\n",
        "plt.xlabel(\"Episode\")\n",
        "plt.ylabel(\"Total Reward\")\n",
        "plt.show()"
      ],
      "metadata": {
        "id": "3-IrldY36b7H",
        "colab": {
          "base_uri": "https://localhost:8080/",
          "height": 630
        },
        "outputId": "567d0425-e8fe-4922-b7aa-ad29d5eb5332"
      },
      "execution_count": 180,
      "outputs": [
        {
          "output_type": "stream",
          "name": "stdout",
          "text": [
            "Final Q-values:\n",
            " [[0. 0. 0. 0.]\n",
            " [0. 0. 0. 0.]\n",
            " [0. 0. 0. 0.]\n",
            " [0. 0. 0. 0.]\n",
            " [0. 0. 0. 0.]\n",
            " [0. 0. 0. 0.]\n",
            " [0. 0. 0. 0.]\n",
            " [0. 0. 0. 0.]\n",
            " [0. 0. 0. 0.]\n",
            " [0. 0. 0. 0.]\n",
            " [0. 0. 0. 0.]\n",
            " [0. 0. 0. 0.]\n",
            " [0. 0. 0. 0.]\n",
            " [0. 0. 0. 0.]\n",
            " [0. 0. 0. 0.]\n",
            " [0. 0. 0. 0.]]\n",
            "Final policy:\n",
            " [0 0 0 0 0 0 0 0 0 0 0 0 0 0 0 0]\n"
          ]
        },
        {
          "output_type": "display_data",
          "data": {
            "text/plain": [
              "<Figure size 432x288 with 1 Axes>"
            ],
            "image/png": "[encoded data removed]"
          },
          "metadata": {
            "needs_background": "light"
          }
        }
      ]
    },
    {
      "cell_type": "code",
      "source": [
        "import numpy as np\n",
        "import matplotlib.pyplot as plt\n",
        "\n",
        "def epsilon_greedy_policy(state, Q, num_actions, epsilon):\n",
        "    if np.random.uniform(0, 1) < epsilon:\n",
        "        # Choose a random action\n",
        "        action = np.random.choice(num_actions)\n",
        "    else:\n",
        "        # Choose the greedy action\n",
        "        action = np.argmax(Q[state])\n",
        "    return action\n",
        "\n",
        "def q_learning(env, num_episodes, discount_factor=1.0, epsilon=0.1, learning_rate=0.5):\n",
        "    # Initialize the Q-value function to zeros\n",
        "    Q = np.zeros((env.observation_space.n, env.action_space.n))\n",
        "\n",
        "    # Keep track of the total reward obtained in each episode\n",
        "    episode_rewards = []\n",
        "\n",
        "    for episode in range(num_episodes):\n",
        "        state = env.reset()\n",
        "        done = False\n",
        "        total_reward = 0.0\n",
        "\n",
        "        while not done:\n",
        "            # Choose the next action using an epsilon-greedy policy\n",
        "            action = epsilon_greedy_policy(state, Q, env.action_space.n, epsilon)\n",
        "\n",
        "            # Take a step in the environment\n",
        "            next_state, reward, done, _ = env.step(action)\n",
        "\n",
        "            # Update the Q-value function\n",
        "            td_target = reward + discount_factor * np.max(Q[next_state])\n",
        "            td_error = td_target - Q[state, action]\n",
        "            Q[state, action] += learning_rate * td_error\n",
        "\n",
        "            state = next_state\n",
        "            total_reward += reward\n",
        "            if episode in decay_steps:\n",
        "                epsilon *= epsilon_decay\n",
        "                learning_rate *= learning_rate_decay\n",
        "            epsilon = max(epsilon_min, epsilon)\n",
        "            learning_rate = max(learning_rate_min, learning_rate)\n",
        "\n",
        "        episode_rewards.append(total_reward)\n",
        "\n",
        "    return Q, episode_rewards\n",
        "\n",
        "# Create FrozenLake-v1 environment with a 4x4 map and slippery ice\n",
        "env = gym.make(\"FrozenLake-v1\", desc=None, map_name=\"4x4\", is_slippery=True)\n",
        "\n",
        "# Set hyperparameters\n",
        "num_episodes = 10000\n",
        "discount_factor = 0.9\n",
        "\n",
        "epsilon = 1.0\n",
        "epsilon_min = 0.01\n",
        "epsilon_decay = 0.999\n",
        "\n",
        "learning_rate = 0.8\n",
        "learning_rate_min = 0.1\n",
        "learning_rate_decay = 0.999\n",
        "\n",
        "decay_steps = [1000, 2000, 3000, 4000, 5000, 6000, 7000, 8000, 9000]\n",
        "\n",
        "# Run Q-learning\n",
        "Q, episode_rewards = q_learning(env, num_episodes, discount_factor, epsilon, learning_rate)\n",
        "\n",
        "# Get final policy from Q-value function\n",
        "policy = np.argmax(Q, axis=1)\n",
        "\n",
        "# Print final Q-values and policy\n",
        "print(\"Final Q-values:\\n\", Q)\n",
        "print(\"Final policy:\\n\", policy)\n",
        "\n",
        "# Plot episode rewards\n",
        "window_size = 100\n",
        "smoothed_rewards = [np.mean(episode_rewards[i-window_size:i+1]) if i > window_size \n",
        "                    else np.mean(episode_rewards[:i+1]) for i in range(len(episode_rewards))]\n",
        "plt.plot(smoothed_rewards)\n",
        "plt.title(\"Episode Rewards\")\n",
        "plt.xlabel(\"Episode\")\n",
        "plt.ylabel(\"Total Reward\")\n",
        "plt.show()\n",
        "\n",
        "def plot_rewards(rewards, window_size=100):\n",
        "    cum_rewards = np.cumsum(rewards)\n",
        "    window = np.ones(window_size) / window_size\n",
        "    smoothed_rewards = np.convolve(cum_rewards, window, mode='valid')\n",
        "    plt.plot(smoothed_rewards)\n",
        "    plt.xlabel('Episode')\n",
        "    plt.ylabel('Cumulative Reward Gk')\n",
        "    plt.show()"
      ],
      "metadata": {
        "id": "yV8APB_D-jga",
        "colab": {
          "base_uri": "https://localhost:8080/",
          "height": 630
        },
        "outputId": "ad4243d9-2331-4655-8bae-b2221e001994"
      },
      "execution_count": 181,
      "outputs": [
        {
          "output_type": "stream",
          "name": "stdout",
          "text": [
            "Final Q-values:\n",
            " [[0.30371653 0.32575202 0.33628241 0.30159218]\n",
            " [0.01445288 0.32310915 0.02223392 0.33204121]\n",
            " [0.43583004 0.45282263 0.39075919 0.35930494]\n",
            " [0.38173397 0.40624995 0.07972715 0.3759266 ]\n",
            " [0.32867894 0.08798508 0.29980082 0.31131979]\n",
            " [0.         0.         0.         0.        ]\n",
            " [0.07663533 0.50616092 0.03060565 0.09512982]\n",
            " [0.         0.         0.         0.        ]\n",
            " [0.38615742 0.4336579  0.38099923 0.38389353]\n",
            " [0.41596353 0.6002579  0.51997264 0.44029851]\n",
            " [0.47814476 0.57750485 0.47373331 0.54460922]\n",
            " [0.         0.         0.         0.        ]\n",
            " [0.         0.         0.         0.        ]\n",
            " [0.12236469 0.39234049 0.57791572 0.01199128]\n",
            " [0.5495478  0.62015267 0.70724119 0.78928732]\n",
            " [0.         0.         0.         0.        ]]\n",
            "Final policy:\n",
            " [2 3 1 1 0 0 1 0 1 1 1 0 0 2 3 0]\n"
          ]
        },
        {
          "output_type": "display_data",
          "data": {
            "text/plain": [
              "<Figure size 432x288 with 1 Axes>"
            ],
            "image/png": "[encoded data removed]"
          },
          "metadata": {
            "needs_background": "light"
          }
        }
      ]
    },
    {
      "cell_type": "code",
      "source": [
        "import numpy as np\n",
        "import matplotlib.pyplot as plt\n",
        "\n",
        "def epsilon_greedy_policy(state, Q, num_actions, epsilon):\n",
        "    if np.random.uniform(0, 1) < epsilon:\n",
        "        # Choose a random action\n",
        "        action = np.random.choice(num_actions)\n",
        "    else:\n",
        "        # Choose the greedy action\n",
        "        action = np.argmax(Q[state])\n",
        "    return action\n",
        "\n",
        "def q_learning(env, num_episodes, discount_factor=1.0, epsilon=0.1, learning_rate=0.5):\n",
        "    # Initialize the Q-value function to zeros\n",
        "    Q = np.zeros((env.observation_space.n, env.action_space.n))\n",
        "\n",
        "    # Keep track of the total reward obtained in each episode\n",
        "    episode_rewards = []\n",
        "\n",
        "    for episode in range(num_episodes):\n",
        "        state = env.reset()\n",
        "        done = False\n",
        "        total_reward = 0.0\n",
        "\n",
        "        while not done:\n",
        "            # Choose the next action using an epsilon-greedy policy\n",
        "            action = epsilon_greedy_policy(state, Q, env.action_space.n, epsilon)\n",
        "\n",
        "            # Take a step in the environment\n",
        "            next_state, reward, done, _ = env.step(action)\n",
        "\n",
        "            # Update the Q-value function\n",
        "            td_target = reward + discount_factor * np.max(Q[next_state])\n",
        "            td_error = td_target - Q[state, action]\n",
        "            Q[state, action] += learning_rate * td_error\n",
        "\n",
        "            state = next_state\n",
        "            total_reward += reward\n",
        "            if episode in decay_steps:\n",
        "                epsilon *= epsilon_decay\n",
        "                \n",
        "            epsilon = max(epsilon_min, epsilon)\n",
        "            \n",
        "\n",
        "        episode_rewards.append(total_reward)\n",
        "\n",
        "    return Q, episode_rewards\n",
        "\n",
        "# Create FrozenLake-v1 environment with a 4x4 map and slippery ice\n",
        "env = gym.make(\"FrozenLake-v1\", desc=None, map_name=\"4x4\", is_slippery=True)\n",
        "\n",
        "# Set hyperparameters\n",
        "num_episodes = 10000\n",
        "discount_factor = 0.9\n",
        "\n",
        "epsilon = 1.0\n",
        "epsilon_min = 0.01\n",
        "epsilon_decay = 0.99\n",
        "\n",
        "learning_rate = 0.8\n",
        "\n",
        "decay_steps = [500, 1000, 1500, 2000, 2500, 3000, 3500, 4000, 4500, 5000, 5500, 6000, 6500, 7000, 7500, 8000, 8500, 9000, 9500]\n",
        "decay_steps = [1000, 2000, 3000, 4000, 5000, 6000, 7000, 8000, 9000]\n",
        "# Run Q-learning\n",
        "Q, episode_rewards = q_learning(env, num_episodes, discount_factor, epsilon, learning_rate)\n",
        "\n",
        "# Get final policy from Q-value function\n",
        "policy = np.argmax(Q, axis=1)\n",
        "\n",
        "# Print final Q-values and policy\n",
        "print(\"Final Q-values:\\n\", Q)\n",
        "print(\"Final policy:\\n\", policy)\n",
        "\n",
        "# Plot episode rewards\n",
        "window_size = 100\n",
        "smoothed_rewards = [np.mean(episode_rewards[i-window_size:i+1]) if i > window_size \n",
        "                    else np.mean(episode_rewards[:i+1]) for i in range(len(episode_rewards))]\n",
        "plt.plot(smoothed_rewards)\n",
        "plt.title(\"Episode Rewards\")\n",
        "plt.xlabel(\"Episode\")\n",
        "plt.ylabel(\"Total Reward\")\n",
        "plt.show()\n",
        "\n",
        "def plot_rewards(rewards, window_size=100):\n",
        "    cum_rewards = np.cumsum(rewards)\n",
        "    window = np.ones(window_size) / window_size\n",
        "    smoothed_rewards = np.convolve(cum_rewards, window, mode='valid')\n",
        "    plt.plot(smoothed_rewards)\n",
        "    plt.xlabel('Episode')\n",
        "    plt.ylabel('Cumulative Reward Gk')\n",
        "    plt.show()"
      ],
      "metadata": {
        "colab": {
          "base_uri": "https://localhost:8080/",
          "height": 630
        },
        "id": "yOHANqP1XEbI",
        "outputId": "99972e43-0407-46a6-b8f3-57620c2bea89"
      },
      "execution_count": 198,
      "outputs": [
        {
          "output_type": "stream",
          "name": "stdout",
          "text": [
            "Final Q-values:\n",
            " [[2.95773027e-01 2.90329218e-01 1.85569868e-01 2.11767509e-01]\n",
            " [3.98311055e-02 1.49028579e-01 8.20518396e-03 1.79155360e-01]\n",
            " [1.42513781e-01 1.39313507e-01 4.69359229e-01 1.24770839e-01]\n",
            " [7.42541229e-02 1.56501586e-02 1.74207028e-02 7.19183586e-02]\n",
            " [3.31110113e-01 2.80847007e-01 5.11832516e-02 2.64872141e-01]\n",
            " [0.00000000e+00 0.00000000e+00 0.00000000e+00 0.00000000e+00]\n",
            " [6.03246666e-01 2.95597334e-03 2.22828924e-01 5.43818325e-04]\n",
            " [0.00000000e+00 0.00000000e+00 0.00000000e+00 0.00000000e+00]\n",
            " [3.39030994e-01 3.21480341e-01 7.41294163e-02 3.59993455e-01]\n",
            " [1.59549135e-02 3.62786994e-01 6.55675476e-02 1.53416527e-02]\n",
            " [8.39079835e-01 2.59477315e-02 7.01719753e-03 6.18280206e-02]\n",
            " [0.00000000e+00 0.00000000e+00 0.00000000e+00 0.00000000e+00]\n",
            " [0.00000000e+00 0.00000000e+00 0.00000000e+00 0.00000000e+00]\n",
            " [1.02184591e-01 2.17188355e-04 4.19209374e-01 1.34299124e-01]\n",
            " [7.72640238e-01 7.66375610e-01 9.26311967e-01 4.49530168e-01]\n",
            " [0.00000000e+00 0.00000000e+00 0.00000000e+00 0.00000000e+00]]\n",
            "Final policy:\n",
            " [0 3 2 0 0 0 0 0 3 1 0 0 0 2 2 0]\n"
          ]
        },
        {
          "output_type": "display_data",
          "data": {
            "text/plain": [
              "<Figure size 432x288 with 1 Axes>"
            ],
            "image/png": "[encoded data removed]"
          },
          "metadata": {
            "needs_background": "light"
          }
        }
      ]
    },
    {
      "cell_type": "code",
      "source": [
        "import numpy as np\n",
        "import matplotlib.pyplot as plt\n",
        "\n",
        "def epsilon_greedy_policy(state, Q, num_actions, epsilon):\n",
        "    if np.random.uniform(0, 1) < epsilon:\n",
        "        # Choose a random action\n",
        "        action = np.random.choice(num_actions)\n",
        "    else:\n",
        "        # Choose the greedy action\n",
        "        action = np.argmax(Q[state])\n",
        "    return action\n",
        "\n",
        "def q_learning(env, num_episodes, discount_factor=1.0, epsilon=0.1, learning_rate=0.5):\n",
        "    # Initialize the Q-value function to zeros\n",
        "    Q = np.zeros((env.observation_space.n, env.action_space.n))\n",
        "\n",
        "    # Keep track of the total reward obtained in each episode\n",
        "    episode_rewards = []\n",
        "\n",
        "    for episode in range(num_episodes):\n",
        "        state = env.reset()\n",
        "        done = False\n",
        "        total_reward = 0.0\n",
        "\n",
        "        while not done:\n",
        "            # Choose the next action using an epsilon-greedy policy\n",
        "            action = epsilon_greedy_policy(state, Q, env.action_space.n, epsilon)\n",
        "\n",
        "            # Take a step in the environment\n",
        "            next_state, reward, done, _ = env.step(action)\n",
        "\n",
        "            # Update the Q-value function\n",
        "            td_target = reward + discount_factor * np.max(Q[next_state])\n",
        "            td_error = td_target - Q[state, action]\n",
        "            Q[state, action] += learning_rate * td_error\n",
        "\n",
        "            state = next_state\n",
        "            total_reward += reward\n",
        "            if episode in decay_steps:\n",
        "                epsilon *= epsilon_decay\n",
        "                \n",
        "            epsilon = max(epsilon_min, epsilon)\n",
        "            \n",
        "\n",
        "        episode_rewards.append(total_reward)\n",
        "\n",
        "    return Q, episode_rewards\n",
        "\n",
        "# Create FrozenLake-v1 environment with a 4x4 map and slippery ice\n",
        "env = gym.make(\"FrozenLake-v1\", desc=None, map_name=\"4x4\", is_slippery=True)\n",
        "\n",
        "# Set hyperparameters\n",
        "num_episodes = 100000\n",
        "discount_factor = 0.9\n",
        "\n",
        "epsilon = 1.0\n",
        "epsilon_min = 0.01\n",
        "epsilon_decay = 0.99\n",
        "\n",
        "learning_rate = 0.5\n",
        "\n",
        "decay_steps = [250, 500, 750, 1000, 1250, 1500, 1750, 2000, 2250, 2500, 2750, 3000, \\\n",
        "               3250, 3500, 3750, 4000, 4250, 4500, 4750, 5000, 5250, 5500, 5750, 6000, \\\n",
        "               6250, 6500, 6750, 7000, 7250, 7500, 7750, 8000, 8250, 8500, 8750, 9000, \\\n",
        "               9250, 9500, 9750]\n",
        "\n",
        "# Run Q-learning\n",
        "Q, episode_rewards = q_learning(env, num_episodes, discount_factor, epsilon, learning_rate)\n",
        "\n",
        "# Get final policy from Q-value function\n",
        "policy = np.argmax(Q, axis=1)\n",
        "\n",
        "# Print final Q-values and policy\n",
        "print(\"Final Q-values:\\n\", Q)\n",
        "print(\"Final policy:\\n\", policy)\n",
        "\n",
        "# Plot episode rewards\n",
        "window_size = 100\n",
        "smoothed_rewards = [np.mean(episode_rewards[i-window_size:i+1]) if i > window_size \n",
        "                    else np.mean(episode_rewards[:i+1]) for i in range(len(episode_rewards))]\n",
        "plt.plot(smoothed_rewards)\n",
        "plt.title(\"Episode Rewards\")\n",
        "plt.xlabel(\"Episode\")\n",
        "plt.ylabel(\"Total Reward\")\n",
        "plt.show()\n",
        "\n",
        "def plot_rewards(rewards, window_size=100):\n",
        "    cum_rewards = np.cumsum(rewards)\n",
        "    window = np.ones(window_size) / window_size\n",
        "    smoothed_rewards = np.convolve(cum_rewards, window, mode='valid')\n",
        "    plt.plot(smoothed_rewards)\n",
        "    plt.xlabel('Episode')\n",
        "    plt.ylabel('Cumulative Reward Gk')\n",
        "    plt.show()"
      ],
      "metadata": {
        "colab": {
          "base_uri": "https://localhost:8080/",
          "height": 630
        },
        "id": "TM6yx8y9XEi_",
        "outputId": "f837ad1c-68bb-4183-bb38-f4bae7a9f2b7"
      },
      "execution_count": 194,
      "outputs": [
        {
          "output_type": "stream",
          "name": "stdout",
          "text": [
            "Final Q-values:\n",
            " [[0.11085712 0.10511634 0.10179234 0.11472491]\n",
            " [0.09411297 0.02776766 0.03607193 0.1033544 ]\n",
            " [0.11935956 0.08073128 0.09419275 0.06946238]\n",
            " [0.07590966 0.06727444 0.08973206 0.1000317 ]\n",
            " [0.12607294 0.16545004 0.04831208 0.1236334 ]\n",
            " [0.         0.         0.         0.        ]\n",
            " [0.02882593 0.04718772 0.07142898 0.05781728]\n",
            " [0.         0.         0.         0.        ]\n",
            " [0.05524476 0.19380587 0.13673106 0.22564784]\n",
            " [0.04254858 0.39114021 0.05536787 0.24392579]\n",
            " [0.42950777 0.2551253  0.15280904 0.12464402]\n",
            " [0.         0.         0.         0.        ]\n",
            " [0.         0.         0.         0.        ]\n",
            " [0.19844426 0.55591127 0.54567078 0.03840222]\n",
            " [0.59678925 0.59376084 0.47155302 0.52924097]\n",
            " [0.         0.         0.         0.        ]]\n",
            "Final policy:\n",
            " [3 3 0 3 1 0 2 0 3 1 0 0 0 1 0 0]\n"
          ]
        },
        {
          "output_type": "display_data",
          "data": {
            "text/plain": [
              "<Figure size 432x288 with 1 Axes>"
            ],
            "image/png": "[encoded data removed]"
          },
          "metadata": {
            "needs_background": "light"
          }
        }
      ]
    },
    {
      "cell_type": "code",
      "source": [],
      "metadata": {
        "id": "_h6Vj46uZ4II"
      },
      "execution_count": null,
      "outputs": []
    },
    {
      "cell_type": "code",
      "source": [],
      "metadata": {
        "id": "y4vg5k6GZ4Or"
      },
      "execution_count": null,
      "outputs": []
    },
    {
      "cell_type": "code",
      "source": [],
      "metadata": {
        "id": "Y9aE_As2XEsm"
      },
      "execution_count": null,
      "outputs": []
    },
    {
      "cell_type": "code",
      "source": [
        "def compute_q_norm(Q, Q_star):\n",
        "    return np.sqrt(np.sum((Q - Q_star)**2))"
      ],
      "metadata": {
        "id": "RfVWVnkjnptw"
      },
      "execution_count": 204,
      "outputs": []
    },
    {
      "cell_type": "code",
      "source": [
        "Q_star = optimal_value_function[0]\n",
        "Q_star"
      ],
      "metadata": {
        "colab": {
          "base_uri": "https://localhost:8080/"
        },
        "id": "iraIjnjNnpxh",
        "outputId": "748ce263-1746-42c1-dee5-ce935efbff8b"
      },
      "execution_count": 206,
      "outputs": [
        {
          "output_type": "execute_result",
          "data": {
            "text/plain": [
              "array([0.06889059, 0.06141431, 0.07440957, 0.05580711, 0.09185426,\n",
              "       0.        , 0.1122081 , 0.        , 0.14543612, 0.2474968 ,\n",
              "       0.29961748, 0.        , 0.        , 0.37993579, 0.63902009,\n",
              "       0.        ])"
            ]
          },
          "metadata": {},
          "execution_count": 206
        }
      ]
    },
    {
      "cell_type": "code",
      "source": [
        "# Compute Q-value function for each episode\n",
        "Q_k_list = []\n",
        "for episode in range(num_episodes):\n",
        "    _, episode_Q = q_learning(env, 1, discount_factor, epsilon, learning_rate)\n",
        "    Q_k_list.append(episode_Q[0])\n",
        "\n",
        "# Compute norm for each episode\n",
        "q_norm_list = []\n",
        "for Q_k in Q_k_list:\n",
        "    q_norm_list.append(compute_q_norm(Q_k, Q_star))"
      ],
      "metadata": {
        "id": "ITMGbLFmnp00"
      },
      "execution_count": 207,
      "outputs": []
    },
    {
      "cell_type": "code",
      "source": [
        "# Plot norm vs. episode\n",
        "plt.plot(q_norm_list)\n",
        "plt.title(\"||Qk - Q*||\")\n",
        "plt.xlabel(\"Episode\")\n",
        "plt.ylabel(\"L2 norm\")\n",
        "plt.show()"
      ],
      "metadata": {
        "colab": {
          "base_uri": "https://localhost:8080/",
          "height": 295
        },
        "id": "sGi8VJKSoR5B",
        "outputId": "083996bf-061c-42d5-ce25-f2b4f5f31bfb"
      },
      "execution_count": 208,
      "outputs": [
        {
          "output_type": "display_data",
          "data": {
            "text/plain": [
              "<Figure size 432x288 with 1 Axes>"
            ],
            "image/png": "[encoded data removed]"
          },
          "metadata": {
            "needs_background": "light"
          }
        }
      ]
    },
    {
      "cell_type": "code",
      "source": [
        "# Compute policy from Q-value function\n",
        "policy = np.argmax(Q, axis=1)\n",
        "\n",
        "# Print policy and Q-value function\n",
        "print(\"Learned policy:\", policy)\n",
        "print(\"Q-value function:\")\n",
        "print(Q)"
      ],
      "metadata": {
        "id": "Rd3IggSj-ji9",
        "colab": {
          "base_uri": "https://localhost:8080/"
        },
        "outputId": "58ffa03d-dd61-4a9a-f961-723e42e851f2"
      },
      "execution_count": 209,
      "outputs": [
        {
          "output_type": "stream",
          "name": "stdout",
          "text": [
            "Learned policy: [0 3 0 0 0 0 0 0 3 1 0 0 0 2 1 0]\n",
            "Q-value function:\n",
            "[[0.0643189  0.05971368 0.05931199 0.05822217]\n",
            " [0.02418269 0.01566006 0.00791371 0.05830105]\n",
            " [0.07072959 0.00898577 0.00992726 0.00759448]\n",
            " [0.00315113 0.         0.         0.        ]\n",
            " [0.08928947 0.07106544 0.06530106 0.05021048]\n",
            " [0.         0.         0.         0.        ]\n",
            " [0.09914999 0.01536089 0.01249917 0.00241069]\n",
            " [0.         0.         0.         0.        ]\n",
            " [0.06895418 0.1083819  0.10367798 0.15022277]\n",
            " [0.17372951 0.24714794 0.20589453 0.10849658]\n",
            " [0.30189573 0.13821828 0.12486406 0.04627593]\n",
            " [0.         0.         0.         0.        ]\n",
            " [0.         0.         0.         0.        ]\n",
            " [0.10936794 0.30845193 0.3650506  0.1464939 ]\n",
            " [0.23829136 0.62035438 0.56173235 0.53770006]\n",
            " [0.         0.         0.         0.        ]]\n"
          ]
        }
      ]
    },
    {
      "cell_type": "code",
      "source": [
        "# Evaluate agent\n",
        "num_successes = 0\n",
        "for episode in range(num_episodes):\n",
        "    state = env.reset()\n",
        "    done = False\n",
        "    while not done:\n",
        "        action = np.argmax(Q[state])\n",
        "        state, reward, done, _ = env.step(action)\n",
        "        if done and reward == 1:\n",
        "            num_successes += 1\n",
        "\n",
        "# Print number of successful episodes\n",
        "print(\"Number of successful episodes:\", num_successes)"
      ],
      "metadata": {
        "colab": {
          "base_uri": "https://localhost:8080/"
        },
        "id": "mPZpgtvcoWxO",
        "outputId": "3b692f19-8501-4df0-8ee2-a46df24227f4"
      },
      "execution_count": 210,
      "outputs": [
        {
          "output_type": "stream",
          "name": "stdout",
          "text": [
            "Number of successful episodes: 7269\n"
          ]
        }
      ]
    },
    {
      "cell_type": "markdown",
      "source": [
        "If the agent has learned the optimal policy, the learned policy should match the optimal policy obtained through value iteration, and the number of successful episodes should be close to the optimal number of successful episodes."
      ],
      "metadata": {
        "id": "kfkVAKcAo4bK"
      }
    },
    {
      "cell_type": "code",
      "source": [
        "# Initialize the environment\n",
        "env = gym.make('FrozenLake-v1', desc=None, map_name=\"4x4\", is_slippery=True)\n",
        "\n",
        "# Set hyperparameters\n",
        "num_episodes = 10000\n",
        "discount_factor = 0.9\n",
        "epsilon = 1.0\n",
        "learning_rate = 0.8\n",
        "\n",
        "# Initialize Q-value function\n",
        "Q = np.zeros((env.observation_space.n, env.action_space.n))\n",
        "\n",
        "# Train agent using Q-learning\n",
        "for episode in range(num_episodes):\n",
        "    state = env.reset()\n",
        "    done = False\n",
        "    while not done:\n",
        "        # Choose action using epsilon-greedy policy\n",
        "        if np.random.uniform() < epsilon:\n",
        "            action = env.action_space.sample()\n",
        "        else:\n",
        "            action = np.argmax(Q[state])\n",
        "        \n",
        "        # Take action and observe next state and reward\n",
        "        next_state, reward, done, _ = env.step(action)\n",
        "        \n",
        "        # Compute the sum of the Q-values for all actions in the next state under the behavior policy\n",
        "        sum_q_next = 0\n",
        "        for a in range(env.action_space.n):\n",
        "            sum_q_next += Q[next_state][a] * (1 / env.action_space.n)\n",
        "        \n",
        "        # Update Q-value function\n",
        "        Q[state][action] += learning_rate * (reward + discount_factor * ((epsilon / env.action_space.n) * sum_q_next + (1 - epsilon) * np.max(Q[next_state])) - Q[state][action])\n",
        "        \n",
        "        state = next_state\n",
        "    \n",
        "# Compute policy from Q-value function\n",
        "policy = np.argmax(Q, axis=1)\n",
        "\n",
        "# Print policy and Q-value function\n",
        "print(\"Learned policy:\", policy)\n",
        "print(\"Q-value function:\")\n",
        "print(Q)"
      ],
      "metadata": {
        "colab": {
          "base_uri": "https://localhost:8080/"
        },
        "id": "x93YUcHloW0X",
        "outputId": "0e807f04-3f1a-4e47-cce4-9c53b9ee9972"
      },
      "execution_count": 214,
      "outputs": [
        {
          "output_type": "stream",
          "name": "stdout",
          "text": [
            "Learned policy: [2 0 1 0 2 0 2 0 3 2 1 0 0 3 1 0]\n",
            "Q-value function:\n",
            "[[1.00620876e-07 1.21329843e-07 1.22743684e-07 1.20296932e-07]\n",
            " [3.40689613e-07 3.26289507e-07 6.42165082e-08 2.65819776e-07]\n",
            " [4.75474692e-06 9.37595775e-06 1.71707339e-06 4.19849079e-07]\n",
            " [1.43457398e-06 6.56280187e-08 1.06033275e-10 5.62698500e-09]\n",
            " [4.00078296e-07 6.84400544e-08 1.30775283e-05 2.09816298e-08]\n",
            " [0.00000000e+00 0.00000000e+00 0.00000000e+00 0.00000000e+00]\n",
            " [7.64508998e-05 1.59066966e-05 7.63355709e-04 1.03759131e-05]\n",
            " [0.00000000e+00 0.00000000e+00 0.00000000e+00 0.00000000e+00]\n",
            " [2.98944290e-05 9.35582263e-06 2.66869869e-06 2.40994378e-04]\n",
            " [1.62176612e-04 1.32744932e-04 3.85795965e-03 2.61324243e-05]\n",
            " [1.86949304e-03 8.37012879e-02 4.69523717e-06 1.25064956e-04]\n",
            " [0.00000000e+00 0.00000000e+00 0.00000000e+00 0.00000000e+00]\n",
            " [0.00000000e+00 0.00000000e+00 0.00000000e+00 0.00000000e+00]\n",
            " [1.13377661e-04 1.95524459e-03 9.07765610e-04 3.07181952e-03]\n",
            " [1.44826395e-02 9.60820034e-01 1.07783218e-02 8.33467362e-01]\n",
            " [0.00000000e+00 0.00000000e+00 0.00000000e+00 0.00000000e+00]]\n"
          ]
        }
      ]
    },
    {
      "cell_type": "markdown",
      "source": [
        "Observations:\n",
        "\n",
        "The tabular Q-learning algorithm with a uniformly random behavior policy and an epsilon-greedy exploration approach was able to learn a reasonable policy for the FrozenLake-v1 environment, but it took a large number of episodes (10000) to converge."
      ],
      "metadata": {
        "id": "Yo4TwmSV2ImF"
      }
    },
    {
      "cell_type": "markdown",
      "source": [
        "Inference:\n",
        "\n",
        "The reason for the slow convergence is that the uniformly random behavior policy does not provide much useful information about the environment. As a result, the agent has to rely heavily on exploration to learn the optimal policy, which can be slow and inefficient.\n",
        "\n",
        "To improve the learning efficiency, we can design a better behavior policy that provides more informative exploration. For example, a policy that tries to move towards the goal state while avoiding holes could be more effective."
      ],
      "metadata": {
        "id": "erst0pud2JQe"
      }
    },
    {
      "cell_type": "markdown",
      "source": [
        "Implementation of a better behavior policy:\n",
        "\n",
        "One possible behavior policy is a modified epsilon-greedy policy that biases the exploration towards actions that move towards the goal state. Here's the modified Q-learning update rule:\n",
        "\n",
        "Q(s, a) = Q(s, a) + α * (r + γ * ((1-ε) * max(Q(s', a')) + ε' * Σ(Q(s', a') * p(a'))) - Q(s, a))\n",
        "\n",
        "where ε' is the exploration rate for the biased exploration, and p(a') is the probability of taking action a' in the current state under the biased exploration policy. One possible way to compute p(a') is to use a softmax function that assigns higher probabilities to actions that move towards the goal state. "
      ],
      "metadata": {
        "id": "_-f-2VbJ2MoQ"
      }
    },
    {
      "cell_type": "markdown",
      "source": [
        "Yes, there are several other behavior policies that can be used to improve the effectiveness of Q-learning. Here are a few examples:\n",
        "\n",
        "Boltzmann exploration: In this method, the probability of selecting an action is proportional to its Q-value raised to a temperature parameter. This allows for a more gradual exploration of the action space, as the agent will still choose the action with the highest Q-value most of the time, but will also have a non-zero probability of selecting suboptimal actions. The effectiveness of this method depends on the choice of the temperature parameter.\n",
        "\n",
        "Optimistic initialization: In this method, the Q-value function is initialized with high values, such as a value of 1 for all state-action pairs. This encourages the agent to explore more initially, as it will expect high rewards for all actions. As the agent gains more experience and updates its Q-values, it will converge to a more accurate representation of the optimal policy.\n",
        "\n",
        "Dyna-Q: In this method, the agent not only updates its Q-values based on experience, but also uses a model of the environment to simulate additional experience. This can help the agent explore parts of the state-action space that it has not yet encountered, and can improve the speed of convergence to the optimal policy.\n",
        "\n",
        "These are just a few examples of additional behavior policies that can be used to improve Q-learning. The choice of policy will depend on the specific problem and the trade-off between exploration and exploitation that is desired."
      ],
      "metadata": {
        "id": "OF42ZHYH2hzK"
      }
    },
    {
      "cell_type": "code",
      "source": [
        "import gym\n",
        "import numpy as np\n",
        "\n",
        "# Initialize the environment\n",
        "env = gym.make('FrozenLake-v1', desc=None, map_name=\"4x4\", is_slippery=True)\n",
        "\n",
        "# Set hyperparameters\n",
        "num_episodes = 10000\n",
        "discount_factor = 0.99\n",
        "epsilon = 1.0\n",
        "epsilon_decay = 0.999\n",
        "learning_rate = 0.8\n",
        "\n",
        "# Initialize Q-value function\n",
        "Q = np.zeros((env.observation_space.n, env.action_space.n))\n",
        "\n",
        "# Define function to run an episode using epsilon-greedy policy\n",
        "def run_episode(env, Q, epsilon):\n",
        "    state = env.reset()\n",
        "    done = False\n",
        "    episode = []\n",
        "    while not done:\n",
        "        if np.random.uniform() < epsilon:\n",
        "            action = env.action_space.sample()\n",
        "        else:\n",
        "            action = np.argmax(Q[state])\n",
        "        next_state, reward, done, _ = env.step(action)\n",
        "        episode.append((state, action, reward))\n",
        "        state = next_state\n",
        "    return episode\n",
        "\n",
        "# Train agent using Monte Carlo learning for optimal policy\n",
        "for episode in range(num_episodes):\n",
        "    episode = run_episode(env, Q, epsilon)\n",
        "    G = 0\n",
        "    for i, (state, action, reward) in enumerate(reversed(episode)):\n",
        "        G = discount_factor * G + reward\n",
        "        Q[state][action] += learning_rate * (G - Q[state][action])\n",
        "    epsilon *= epsilon_decay\n",
        "\n",
        "# Train agent using Monte Carlo learning for uniformly random policy\n",
        "for episode in range(num_episodes):\n",
        "    episode = run_episode(env, Q, epsilon=1.0)\n",
        "    G = 0\n",
        "    for i, (state, action, reward) in enumerate(reversed(episode)):\n",
        "        G = discount_factor * G + reward\n",
        "        Q[state][action] += learning_rate * (G - Q[state][action])\n",
        "    epsilon *= epsilon_decay"
      ],
      "metadata": {
        "id": "nB_bYIxVoW4T"
      },
      "execution_count": 220,
      "outputs": []
    },
    {
      "cell_type": "code",
      "source": [
        "Q"
      ],
      "metadata": {
        "colab": {
          "base_uri": "https://localhost:8080/"
        },
        "id": "ksd1mj5RoW6U",
        "outputId": "66e7ac51-b5bb-40b1-ecc7-60e9aa3e7bee"
      },
      "execution_count": 221,
      "outputs": [
        {
          "output_type": "execute_result",
          "data": {
            "text/plain": [
              "array([[1.23848696e-017, 2.40822891e-099, 7.81873083e-015,\n",
              "        1.84892272e-022],\n",
              "       [1.19736533e-010, 7.26384688e-073, 1.35729835e-103,\n",
              "        3.41665888e-051],\n",
              "       [3.57977147e-044, 1.02591031e-221, 7.73867309e-024,\n",
              "        1.27307496e-033],\n",
              "       [0.00000000e+000, 1.22029687e-019, 5.85483060e-263,\n",
              "        2.01755658e-164],\n",
              "       [1.20509459e-003, 2.93488763e-074, 1.25945943e-010,\n",
              "        1.42537140e-075],\n",
              "       [0.00000000e+000, 0.00000000e+000, 0.00000000e+000,\n",
              "        0.00000000e+000],\n",
              "       [5.01811200e-005, 2.82494592e-039, 1.60579584e-008,\n",
              "        6.09335641e-089],\n",
              "       [0.00000000e+000, 0.00000000e+000, 0.00000000e+000,\n",
              "        0.00000000e+000],\n",
              "       [7.60792040e-001, 4.82037836e-005, 7.68476808e-001,\n",
              "        2.96118290e-004],\n",
              "       [5.15717403e-019, 1.56816000e-001, 1.62576162e-001,\n",
              "        2.58432768e-004],\n",
              "       [6.10846486e-010, 3.13632803e-002, 2.11250613e-006,\n",
              "        8.13945795e-015],\n",
              "       [0.00000000e+000, 0.00000000e+000, 0.00000000e+000,\n",
              "        0.00000000e+000],\n",
              "       [0.00000000e+000, 0.00000000e+000, 0.00000000e+000,\n",
              "        0.00000000e+000],\n",
              "       [7.68476887e-001, 1.58336640e-001, 1.56816004e-001,\n",
              "        8.09256872e-008],\n",
              "       [3.17327155e-002, 8.07733660e-001, 1.67925678e-001,\n",
              "        6.51711363e-003],\n",
              "       [0.00000000e+000, 0.00000000e+000, 0.00000000e+000,\n",
              "        0.00000000e+000]])"
            ]
          },
          "metadata": {},
          "execution_count": 221
        }
      ]
    },
    {
      "cell_type": "code",
      "source": [
        "episode"
      ],
      "metadata": {
        "colab": {
          "base_uri": "https://localhost:8080/"
        },
        "id": "bmRsQPapoW84",
        "outputId": "de5fd2dc-54bc-42be-ee1c-4a2a50a21003"
      },
      "execution_count": 222,
      "outputs": [
        {
          "output_type": "execute_result",
          "data": {
            "text/plain": [
              "[(0, 3, 0.0), (1, 2, 0.0), (1, 1, 0.0), (0, 2, 0.0), (4, 1, 0.0), (8, 1, 0.0)]"
            ]
          },
          "metadata": {},
          "execution_count": 222
        }
      ]
    },
    {
      "cell_type": "code",
      "source": [],
      "metadata": {
        "id": "yS87LZBz-jmE"
      },
      "execution_count": null,
      "outputs": []
    },
    {
      "cell_type": "code",
      "source": [
        "trajectory_optimal[:-1]"
      ],
      "metadata": {
        "colab": {
          "base_uri": "https://localhost:8080/"
        },
        "id": "eVZ58qnGk4O_",
        "outputId": "0f2a084e-a508-40fe-a4fd-205ff72a6fc1"
      },
      "execution_count": 242,
      "outputs": [
        {
          "output_type": "execute_result",
          "data": {
            "text/plain": [
              "[0,\n",
              " 3,\n",
              " 0,\n",
              " 0,\n",
              " 0,\n",
              " 0,\n",
              " 0,\n",
              " 0,\n",
              " 3,\n",
              " 1,\n",
              " 0,\n",
              " 0,\n",
              " 0,\n",
              " 2,\n",
              " 1,\n",
              " 0,\n",
              " (0, 0, 0.0),\n",
              " (4, 0, 0.0),\n",
              " (0, 0, 0.0),\n",
              " (0, 0, 0.0),\n",
              " (4, 0, 0.0),\n",
              " (0, 0, 0.0),\n",
              " (0, 0, 0.0),\n",
              " (0, 0, 0.0),\n",
              " (4, 0, 0.0)]"
            ]
          },
          "metadata": {},
          "execution_count": 242
        }
      ]
    },
    {
      "cell_type": "code",
      "source": [
        "import numpy as np\n",
        "import gym\n",
        "\n",
        "env = gym.make('FrozenLake-v1')\n",
        "\n",
        "# Define helper functions\n",
        "def generate_episode(policy):\n",
        "    episode = []\n",
        "    state = env.reset()\n",
        "    done = False\n",
        "    while not done:\n",
        "        action = np.random.choice(env.action_space.n, p=policy[state])\n",
        "        next_state, reward, done, _ = env.step(action)\n",
        "        episode.append((state, action, reward))\n",
        "        state = next_state\n",
        "    return episode\n",
        "\n",
        "def mc_evaluation(policy, num_episodes=1000, gamma=0.99):\n",
        "    # Initialize arrays for returns and visit counts\n",
        "    returns = np.zeros(env.observation_space.n)\n",
        "    visits = np.zeros(env.observation_space.n)\n",
        "    \n",
        "    # Generate episodes and update returns and visit counts\n",
        "    for i in range(num_episodes):\n",
        "        episode = generate_episode(policy)\n",
        "        G = 0\n",
        "        for t in range(len(episode)-1, -1, -1):\n",
        "            state, action, reward = episode[t]\n",
        "            G = gamma * G + reward\n",
        "            if state not in [x[0] for x in episode[:t]]:\n",
        "                returns[state] += G\n",
        "                visits[state] += 1\n",
        "    \n",
        "    # Compute state values\n",
        "    V = np.zeros(env.observation_space.n)\n",
        "    for state in range(env.observation_space.n):\n",
        "        if visits[state] != 0:\n",
        "            V[state] = returns[state] / visits[state]\n",
        "    \n",
        "    return V\n",
        "\n",
        "# Compute optimal policy using Q-learning\n",
        "def q_learning(num_episodes=10000, alpha=0.1, gamma=0.99, epsilon=0.1):\n",
        "    Q = np.zeros((env.observation_space.n, env.action_space.n))\n",
        "    for i in range(num_episodes):\n",
        "        state = env.reset()\n",
        "        done = False\n",
        "        while not done:\n",
        "            if np.random.rand() < epsilon:\n",
        "                action = env.action_space.sample()\n",
        "            else:\n",
        "                action = np.argmax(Q[state])\n",
        "            next_state, reward, done, _ = env.step(action)\n",
        "            Q[state, action] += alpha * (reward + gamma * np.max(Q[next_state]) - Q[state, action])\n",
        "            state = next_state\n",
        "    policy = np.zeros((env.observation_space.n, env.action_space.n))\n",
        "    for state in range(env.observation_space.n):\n",
        "        best_action = np.argmax(Q[state])\n",
        "        policy[state, best_action] = 1.0\n",
        "    return policy"
      ],
      "metadata": {
        "id": "Ylk90LOGk4S-"
      },
      "execution_count": 258,
      "outputs": []
    },
    {
      "cell_type": "code",
      "source": [
        " optimal_policy = [[0.06889059214242592,\n",
        "  0.06664770853106639,\n",
        "  0.06664770853106637,\n",
        "  0.059758608291854934],\n",
        " [0.03909144432411678,\n",
        "  0.042990026126269065,\n",
        "  0.040747142514909525,\n",
        "  0.06141430648264769],\n",
        " [0.074409568697624,\n",
        "  0.0688288299237219,\n",
        "  0.07272741172587419,\n",
        "  0.05748926589953833],\n",
        " [0.03906498554315971,\n",
        "  0.03906498554315971,\n",
        "  0.03348424676925761,\n",
        "  0.055807108927788514],\n",
        " [0.09185425547199388,\n",
        "  0.07118709150425573,\n",
        "  0.06429799126504429,\n",
        "  0.048223428174687756],\n",
        " [0.0, 0.0, 0.0, 0.0],\n",
        " [0.11220810243105356,\n",
        "  0.08988524027252265,\n",
        "  0.11220810243105356,\n",
        "  0.022322862158530903],\n",
        " [0.0, 0.0, 0.0, 0.0],\n",
        " [0.07118709150425573,\n",
        "  0.11787986033896075,\n",
        "  0.10180529724860421,\n",
        "  0.14543612454591034],\n",
        " [0.1576115591504658,\n",
        "  0.24749679942298844,\n",
        "  0.2038659721256823,\n",
        "  0.13351606756982878],\n",
        " [0.2996174834972929,\n",
        "  0.26595505731457836,\n",
        "  0.22536845045563825,\n",
        "  0.1079114592243691],\n",
        " [0.0, 0.0, 0.0, 0.0],\n",
        " [0.0, 0.0, 0.0, 0.0],\n",
        " [0.18822976489481427,\n",
        "  0.3056867561260834,\n",
        "  0.37993578916773807,\n",
        "  0.26595505731457836],\n",
        " [0.3955719963986061,\n",
        "  0.6390200894594167,\n",
        "  0.6149245978787797,\n",
        "  0.5371993054590156],\n",
        " [0.0, 0.0, 0.0, 0.0]]"
      ],
      "metadata": {
        "id": "IPnasEFtpFMA"
      },
      "execution_count": 277,
      "outputs": []
    },
    {
      "cell_type": "code",
      "source": [
        "# Evaluate optimal policy using MC learning\n",
        "#optimal_policy = q_learning()\n",
        "optimal_V = mc_evaluation(optimal_policy)\n",
        "print(\"Optimal Policy Value:\\n\", np.reshape(optimal_V, (4, 4)))"
      ],
      "metadata": {
        "colab": {
          "base_uri": "https://localhost:8080/",
          "height": 404
        },
        "id": "og6AiOlQoNKP",
        "outputId": "23485872-3127-4ac0-d549-4592ecc5f52b"
      },
      "execution_count": 280,
      "outputs": [
        {
          "output_type": "error",
          "ename": "ValueError",
          "evalue": "ignored",
          "traceback": [
            "\u001b[0;31m---------------------------------------------------------------------------\u001b[0m",
            "\u001b[0;31mValueError\u001b[0m                                Traceback (most recent call last)",
            "\u001b[0;32m<ipython-input-280-2fecd73f7286>\u001b[0m in \u001b[0;36m<module>\u001b[0;34m\u001b[0m\n\u001b[1;32m      1\u001b[0m \u001b[0;31m# Evaluate optimal policy using MC learning\u001b[0m\u001b[0;34m\u001b[0m\u001b[0;34m\u001b[0m\u001b[0m\n\u001b[1;32m      2\u001b[0m \u001b[0;31m#optimal_policy = q_learning()\u001b[0m\u001b[0;34m\u001b[0m\u001b[0;34m\u001b[0m\u001b[0m\n\u001b[0;32m----> 3\u001b[0;31m \u001b[0moptimal_V\u001b[0m \u001b[0;34m=\u001b[0m \u001b[0mmc_evaluation\u001b[0m\u001b[0;34m(\u001b[0m\u001b[0moptimal_policy\u001b[0m\u001b[0;34m)\u001b[0m\u001b[0;34m\u001b[0m\u001b[0;34m\u001b[0m\u001b[0m\n\u001b[0m\u001b[1;32m      4\u001b[0m \u001b[0mprint\u001b[0m\u001b[0;34m(\u001b[0m\u001b[0;34m\"Optimal Policy Value:\\n\"\u001b[0m\u001b[0;34m,\u001b[0m \u001b[0mnp\u001b[0m\u001b[0;34m.\u001b[0m\u001b[0mreshape\u001b[0m\u001b[0;34m(\u001b[0m\u001b[0moptimal_V\u001b[0m\u001b[0;34m,\u001b[0m \u001b[0;34m(\u001b[0m\u001b[0;36m4\u001b[0m\u001b[0;34m,\u001b[0m \u001b[0;36m4\u001b[0m\u001b[0;34m)\u001b[0m\u001b[0;34m)\u001b[0m\u001b[0;34m)\u001b[0m\u001b[0;34m\u001b[0m\u001b[0;34m\u001b[0m\u001b[0m\n",
            "\u001b[0;32m<ipython-input-258-c246cdc3fc3a>\u001b[0m in \u001b[0;36mmc_evaluation\u001b[0;34m(policy, num_episodes, gamma)\u001b[0m\n\u001b[1;32m     23\u001b[0m     \u001b[0;31m# Generate episodes and update returns and visit counts\u001b[0m\u001b[0;34m\u001b[0m\u001b[0;34m\u001b[0m\u001b[0m\n\u001b[1;32m     24\u001b[0m     \u001b[0;32mfor\u001b[0m \u001b[0mi\u001b[0m \u001b[0;32min\u001b[0m \u001b[0mrange\u001b[0m\u001b[0;34m(\u001b[0m\u001b[0mnum_episodes\u001b[0m\u001b[0;34m)\u001b[0m\u001b[0;34m:\u001b[0m\u001b[0;34m\u001b[0m\u001b[0;34m\u001b[0m\u001b[0m\n\u001b[0;32m---> 25\u001b[0;31m         \u001b[0mepisode\u001b[0m \u001b[0;34m=\u001b[0m \u001b[0mgenerate_episode\u001b[0m\u001b[0;34m(\u001b[0m\u001b[0mpolicy\u001b[0m\u001b[0;34m)\u001b[0m\u001b[0;34m\u001b[0m\u001b[0;34m\u001b[0m\u001b[0m\n\u001b[0m\u001b[1;32m     26\u001b[0m         \u001b[0mG\u001b[0m \u001b[0;34m=\u001b[0m \u001b[0;36m0\u001b[0m\u001b[0;34m\u001b[0m\u001b[0;34m\u001b[0m\u001b[0m\n\u001b[1;32m     27\u001b[0m         \u001b[0;32mfor\u001b[0m \u001b[0mt\u001b[0m \u001b[0;32min\u001b[0m \u001b[0mrange\u001b[0m\u001b[0;34m(\u001b[0m\u001b[0mlen\u001b[0m\u001b[0;34m(\u001b[0m\u001b[0mepisode\u001b[0m\u001b[0;34m)\u001b[0m\u001b[0;34m-\u001b[0m\u001b[0;36m1\u001b[0m\u001b[0;34m,\u001b[0m \u001b[0;34m-\u001b[0m\u001b[0;36m1\u001b[0m\u001b[0;34m,\u001b[0m \u001b[0;34m-\u001b[0m\u001b[0;36m1\u001b[0m\u001b[0;34m)\u001b[0m\u001b[0;34m:\u001b[0m\u001b[0;34m\u001b[0m\u001b[0;34m\u001b[0m\u001b[0m\n",
            "\u001b[0;32m<ipython-input-258-c246cdc3fc3a>\u001b[0m in \u001b[0;36mgenerate_episode\u001b[0;34m(policy)\u001b[0m\n\u001b[1;32m     10\u001b[0m     \u001b[0mdone\u001b[0m \u001b[0;34m=\u001b[0m \u001b[0;32mFalse\u001b[0m\u001b[0;34m\u001b[0m\u001b[0;34m\u001b[0m\u001b[0m\n\u001b[1;32m     11\u001b[0m     \u001b[0;32mwhile\u001b[0m \u001b[0;32mnot\u001b[0m \u001b[0mdone\u001b[0m\u001b[0;34m:\u001b[0m\u001b[0;34m\u001b[0m\u001b[0;34m\u001b[0m\u001b[0m\n\u001b[0;32m---> 12\u001b[0;31m         \u001b[0maction\u001b[0m \u001b[0;34m=\u001b[0m \u001b[0mnp\u001b[0m\u001b[0;34m.\u001b[0m\u001b[0mrandom\u001b[0m\u001b[0;34m.\u001b[0m\u001b[0mchoice\u001b[0m\u001b[0;34m(\u001b[0m\u001b[0menv\u001b[0m\u001b[0;34m.\u001b[0m\u001b[0maction_space\u001b[0m\u001b[0;34m.\u001b[0m\u001b[0mn\u001b[0m\u001b[0;34m,\u001b[0m \u001b[0mp\u001b[0m\u001b[0;34m=\u001b[0m\u001b[0mpolicy\u001b[0m\u001b[0;34m[\u001b[0m\u001b[0mstate\u001b[0m\u001b[0;34m]\u001b[0m\u001b[0;34m)\u001b[0m\u001b[0;34m\u001b[0m\u001b[0;34m\u001b[0m\u001b[0m\n\u001b[0m\u001b[1;32m     13\u001b[0m         \u001b[0mnext_state\u001b[0m\u001b[0;34m,\u001b[0m \u001b[0mreward\u001b[0m\u001b[0;34m,\u001b[0m \u001b[0mdone\u001b[0m\u001b[0;34m,\u001b[0m \u001b[0m_\u001b[0m \u001b[0;34m=\u001b[0m \u001b[0menv\u001b[0m\u001b[0;34m.\u001b[0m\u001b[0mstep\u001b[0m\u001b[0;34m(\u001b[0m\u001b[0maction\u001b[0m\u001b[0;34m)\u001b[0m\u001b[0;34m\u001b[0m\u001b[0;34m\u001b[0m\u001b[0m\n\u001b[1;32m     14\u001b[0m         \u001b[0mepisode\u001b[0m\u001b[0;34m.\u001b[0m\u001b[0mappend\u001b[0m\u001b[0;34m(\u001b[0m\u001b[0;34m(\u001b[0m\u001b[0mstate\u001b[0m\u001b[0;34m,\u001b[0m \u001b[0maction\u001b[0m\u001b[0;34m,\u001b[0m \u001b[0mreward\u001b[0m\u001b[0;34m)\u001b[0m\u001b[0;34m)\u001b[0m\u001b[0;34m\u001b[0m\u001b[0;34m\u001b[0m\u001b[0m\n",
            "\u001b[0;32mmtrand.pyx\u001b[0m in \u001b[0;36mnumpy.random.mtrand.RandomState.choice\u001b[0;34m()\u001b[0m\n",
            "\u001b[0;31mValueError\u001b[0m: probabilities do not sum to 1"
          ]
        }
      ]
    },
    {
      "cell_type": "code",
      "source": [
        "# Evaluate random policy using MC learning\n",
        "random_policy = np.ones((env.observation_space.n, env.action_space.n)) / env.action_space.n\n",
        "random_V = mc_evaluation(random_policy)\n",
        "print(\"Random Policy Value:\\n\", np.reshape(random_V, (4, 4)))"
      ],
      "metadata": {
        "colab": {
          "base_uri": "https://localhost:8080/"
        },
        "id": "lFRMQaUGoRlQ",
        "outputId": "8b28f2a4-2201-4504-83cf-fd41300b8c2d"
      },
      "execution_count": 261,
      "outputs": [
        {
          "output_type": "stream",
          "name": "stdout",
          "text": [
            "Random Policy Value:\n",
            " [[0.00949222 0.0121035  0.02190134 0.01795507]\n",
            " [0.00819679 0.         0.04468844 0.        ]\n",
            " [0.02544995 0.0741976  0.14820774 0.        ]\n",
            " [0.         0.22175752 0.4656349  0.        ]]\n"
          ]
        }
      ]
    },
    {
      "cell_type": "code",
      "source": [
        "random_policy"
      ],
      "metadata": {
        "colab": {
          "base_uri": "https://localhost:8080/"
        },
        "id": "WIrc6N-qosZD",
        "outputId": "01460e0c-5466-4c55-8099-530042a68c71"
      },
      "execution_count": 248,
      "outputs": [
        {
          "output_type": "execute_result",
          "data": {
            "text/plain": [
              "array([[0.25, 0.25, 0.25, 0.25],\n",
              "       [0.25, 0.25, 0.25, 0.25],\n",
              "       [0.25, 0.25, 0.25, 0.25],\n",
              "       [0.25, 0.25, 0.25, 0.25],\n",
              "       [0.25, 0.25, 0.25, 0.25],\n",
              "       [0.25, 0.25, 0.25, 0.25],\n",
              "       [0.25, 0.25, 0.25, 0.25],\n",
              "       [0.25, 0.25, 0.25, 0.25],\n",
              "       [0.25, 0.25, 0.25, 0.25],\n",
              "       [0.25, 0.25, 0.25, 0.25],\n",
              "       [0.25, 0.25, 0.25, 0.25],\n",
              "       [0.25, 0.25, 0.25, 0.25],\n",
              "       [0.25, 0.25, 0.25, 0.25],\n",
              "       [0.25, 0.25, 0.25, 0.25],\n",
              "       [0.25, 0.25, 0.25, 0.25],\n",
              "       [0.25, 0.25, 0.25, 0.25]])"
            ]
          },
          "metadata": {},
          "execution_count": 248
        }
      ]
    },
    {
      "cell_type": "code",
      "source": [
        "random_policy = np.ones((env.observation_space.n, env.action_space.n)) / env.action_space.n\n",
        "type(random_policy)"
      ],
      "metadata": {
        "colab": {
          "base_uri": "https://localhost:8080/"
        },
        "id": "ulsSTSOWtYmX",
        "outputId": "5e0923a9-9aef-40f9-9c35-25aca44625ce"
      },
      "execution_count": 263,
      "outputs": [
        {
          "output_type": "execute_result",
          "data": {
            "text/plain": [
              "numpy.ndarray"
            ]
          },
          "metadata": {},
          "execution_count": 263
        }
      ]
    },
    {
      "cell_type": "code",
      "source": [
        "type(optimal_policy)"
      ],
      "metadata": {
        "colab": {
          "base_uri": "https://localhost:8080/"
        },
        "id": "DcNZVzJetiEx",
        "outputId": "6093638c-2ab5-445c-821f-15ee5866806d"
      },
      "execution_count": 265,
      "outputs": [
        {
          "output_type": "execute_result",
          "data": {
            "text/plain": [
              "list"
            ]
          },
          "metadata": {},
          "execution_count": 265
        }
      ]
    },
    {
      "cell_type": "code",
      "source": [
        "type(random_policy[0])"
      ],
      "metadata": {
        "colab": {
          "base_uri": "https://localhost:8080/"
        },
        "id": "hCUe5cXotyIF",
        "outputId": "a9ffa05f-7226-48cc-893c-b0a616177a54"
      },
      "execution_count": 271,
      "outputs": [
        {
          "output_type": "execute_result",
          "data": {
            "text/plain": [
              "numpy.ndarray"
            ]
          },
          "metadata": {},
          "execution_count": 271
        }
      ]
    },
    {
      "cell_type": "code",
      "source": [
        "type(optimal_policy[0])"
      ],
      "metadata": {
        "colab": {
          "base_uri": "https://localhost:8080/"
        },
        "id": "xGZZalbEtz1v",
        "outputId": "f3b96716-06f2-4921-885a-5b658be8d460"
      },
      "execution_count": 273,
      "outputs": [
        {
          "output_type": "execute_result",
          "data": {
            "text/plain": [
              "numpy.ndarray"
            ]
          },
          "metadata": {},
          "execution_count": 273
        }
      ]
    },
    {
      "cell_type": "code",
      "source": [
        "# Initialize the environment\n",
        "env = gym.make('FrozenLake-v1', desc=None, map_name=\"4x4\", is_slippery=True)\n",
        "\n",
        "# Set hyperparameters\n",
        "num_episodes = 10000\n",
        "discount_factor = 0.99\n",
        "learning_rate = 0.1\n",
        "\n",
        "# Initialize value function\n",
        "V = np.zeros(env.observation_space.n)\n",
        "\n",
        "# Define policies\n",
        "optimal_policy = np.array(optimal_policy)\n",
        "random_policy = np.ones((env.observation_space.n, env.action_space.n)) / env.action_space.n\n",
        "\n",
        "# # TD learning for optimal policy\n",
        "# for episode in range(num_episodes):\n",
        "#     state = env.reset()\n",
        "#     done = False\n",
        "#     while not done:\n",
        "#         # Choose action according to optimal policy\n",
        "#         action = optimal_policy[state]\n",
        "        \n",
        "#         # Take action and observe next state and reward\n",
        "#         next_state, reward, done, _ = env.step(action)\n",
        "        \n",
        "#         # Update value function using TD(0) update\n",
        "#         td_target = reward + discount_factor * V[next_state]\n",
        "#         td_error = td_target - V[state]\n",
        "#         V[state] += learning_rate * td_error\n",
        "        \n",
        "#         state = next_state\n",
        "    \n",
        "# # Print final value function for optimal policy\n",
        "# print(\"Value function for optimal policy:\")\n",
        "# print(V.reshape((4,4)))\n",
        "\n",
        "# TD learning for random policy\n",
        "V = np.zeros(env.observation_space.n) # reset value function\n",
        "for episode in range(num_episodes):\n",
        "    state = env.reset()\n",
        "    done = False\n",
        "    while not done:\n",
        "        # Choose action according to random policy\n",
        "        action = np.random.choice(env.action_space.n, p=random_policy[state])\n",
        "        \n",
        "        # Take action and observe next state and reward\n",
        "        next_state, reward, done, _ = env.step(action)\n",
        "        \n",
        "        # Update value function using TD(0) update\n",
        "        td_target = reward + discount_factor * V[next_state]\n",
        "        td_error = td_target - V[state]\n",
        "        V[state] += learning_rate * td_error\n",
        "        \n",
        "        state = next_state\n",
        "    \n",
        "# Print final value function for random policy\n",
        "print(\"Value function for random policy:\")\n",
        "print(V.reshape((4,4)))"
      ],
      "metadata": {
        "colab": {
          "base_uri": "https://localhost:8080/"
        },
        "id": "zdMlaaDJk4YU",
        "outputId": "2503b1a0-e217-4542-944f-8ced0fb873de"
      },
      "execution_count": 279,
      "outputs": [
        {
          "output_type": "stream",
          "name": "stdout",
          "text": [
            "Value function for random policy:\n",
            "[[0.01168926 0.01287905 0.02266877 0.01017451]\n",
            " [0.00910294 0.         0.04309842 0.        ]\n",
            " [0.02174535 0.08188076 0.11552854 0.        ]\n",
            " [0.         0.09420507 0.3607312  0.        ]]\n"
          ]
        }
      ]
    },
    {
      "cell_type": "code",
      "source": [
        "V_mc_optimal"
      ],
      "metadata": {
        "colab": {
          "base_uri": "https://localhost:8080/"
        },
        "id": "IhDR9LjJk4cB",
        "outputId": "649a633d-f4c9-401b-ebe4-c04cf4d6410e"
      },
      "execution_count": 240,
      "outputs": [
        {
          "output_type": "execute_result",
          "data": {
            "text/plain": [
              "[0, 3, 0, 0, 0, 0, 0, 0, 0.0, 1, 0, 0, 0, 2, 1, 0]"
            ]
          },
          "metadata": {},
          "execution_count": 240
        }
      ]
    },
    {
      "cell_type": "code",
      "source": [],
      "metadata": {
        "id": "JhEyimn6k4gm"
      },
      "execution_count": null,
      "outputs": []
    },
    {
      "cell_type": "code",
      "source": [
        "import gym\n",
        "import numpy as np\n",
        "\n",
        "# Initialize the environment\n",
        "env = gym.make('FrozenLake-v1', desc=None, map_name=\"4x4\", is_slippery=True)\n",
        "\n",
        "# Set hyperparameters\n",
        "num_episodes = 10000\n",
        "discount_factor = 0.99\n",
        "epsilon = 0.1\n",
        "learning_rate = 0.8\n",
        "\n",
        "# Initialize value function\n",
        "V = np.zeros(env.observation_space.n)\n",
        "\n",
        "# Define function to run TD-learning for a given policy\n",
        "def run_td_learning(policy):\n",
        "    # Initialize value function\n",
        "    V = np.zeros(env.observation_space.n)\n",
        "    \n",
        "    # Run TD-learning for num_episodes\n",
        "    for episode in range(num_episodes):\n",
        "        state = env.reset()\n",
        "        done = False\n",
        "        while not done:\n",
        "            # Choose action using given policy\n",
        "            if policy == 'optimal':\n",
        "                action = np.argmax(QVI_values[state])\n",
        "            elif policy == 'random':\n",
        "                action = env.action_space.sample()\n",
        "                \n",
        "            # Take action and observe next state and reward\n",
        "            next_state, reward, done, _ = env.step(action)\n",
        "            \n",
        "            # Update value function using TD-learning\n",
        "            td_target = reward + discount_factor * V[next_state]\n",
        "            td_error = td_target - V[state]\n",
        "            V[state] += learning_rate * td_error\n",
        "            \n",
        "            state = next_state\n",
        "    \n",
        "    return V"
      ],
      "metadata": {
        "id": "0W1d4r5fiaAB"
      },
      "execution_count": 223,
      "outputs": []
    },
    {
      "cell_type": "code",
      "source": [
        "optimal_value_function[0]"
      ],
      "metadata": {
        "colab": {
          "base_uri": "https://localhost:8080/"
        },
        "id": "hLlOmLMOjbgP",
        "outputId": "2dc1335c-6d72-4724-e380-5109cf789cfb"
      },
      "execution_count": 226,
      "outputs": [
        {
          "output_type": "execute_result",
          "data": {
            "text/plain": [
              "array([0.06889059, 0.06141431, 0.07440957, 0.05580711, 0.09185426,\n",
              "       0.        , 0.1122081 , 0.        , 0.14543612, 0.2474968 ,\n",
              "       0.29961748, 0.        , 0.        , 0.37993579, 0.63902009,\n",
              "       0.        ])"
            ]
          },
          "metadata": {},
          "execution_count": 226
        }
      ]
    },
    {
      "cell_type": "code",
      "source": [
        "# Learn the value of optimal policy using TD-learning\n",
        "QVI_values = optimal_value_function[0]\n",
        "TD_optimal_values = run_td_learning('optimal')\n",
        "\n",
        "# Learn the value of random policy using TD-learning\n",
        "TD_random_values = run_td_learning('random')"
      ],
      "metadata": {
        "id": "vs3UgIsviaD6"
      },
      "execution_count": 227,
      "outputs": []
    },
    {
      "cell_type": "code",
      "source": [
        "TD_optimal_values"
      ],
      "metadata": {
        "colab": {
          "base_uri": "https://localhost:8080/"
        },
        "id": "6VrlngbUiaIe",
        "outputId": "9bb177ff-dc16-4d2a-aae5-cf63e3a81c6e"
      },
      "execution_count": 228,
      "outputs": [
        {
          "output_type": "execute_result",
          "data": {
            "text/plain": [
              "array([0., 0., 0., 0., 0., 0., 0., 0., 0., 0., 0., 0., 0., 0., 0., 0.])"
            ]
          },
          "metadata": {},
          "execution_count": 228
        }
      ]
    },
    {
      "cell_type": "code",
      "source": [
        "TD_random_values"
      ],
      "metadata": {
        "colab": {
          "base_uri": "https://localhost:8080/"
        },
        "id": "7BtSqdd4iaNK",
        "outputId": "8649bf6f-ed62-4271-c375-f5310f616e7e"
      },
      "execution_count": 229,
      "outputs": [
        {
          "output_type": "execute_result",
          "data": {
            "text/plain": [
              "array([9.84836485e-03, 9.30304498e-06, 1.00072084e-05, 3.02476485e-05,\n",
              "       1.02039855e-02, 0.00000000e+00, 1.03706872e-06, 0.00000000e+00,\n",
              "       3.33778085e-01, 7.72464715e-01, 4.22080883e-03, 0.00000000e+00,\n",
              "       0.00000000e+00, 1.72017109e-01, 2.09685005e-01, 0.00000000e+00])"
            ]
          },
          "metadata": {},
          "execution_count": 229
        }
      ]
    },
    {
      "cell_type": "markdown",
      "source": [
        "Monte Carlo (MC) and Temporal Difference (TD) learning are two widely used algorithms in reinforcement learning. MC and TD have their strengths and weaknesses, and the choice between them depends on the nature of the problem and the available data.\n",
        "\n",
        "MC learning has the following trade-offs:\n",
        "\n",
        "Advantages:\n",
        "\n",
        "- MC methods are model-free and don't require any knowledge of the underlying MDP structure. This makes them useful in a variety of problems where the model is unknown or hard to specify.\n",
        "- MC methods can learn from incomplete trajectories, making them useful in problems where only a subset of the state-action space is visited.\n",
        "\n",
        "Disadvantages:\n",
        "\n",
        "- MC methods suffer from high variance, as they rely on a single roll-out to estimate the value of a state. This variance can be reduced by averaging over a large number of roll-outs, but this can be computationally expensive.\n",
        "- MC methods require the agent to reach a terminal state before the value of a state can be updated, which can lead to slow convergence.\n",
        "\n",
        "TD learning has the following trade-offs:\n",
        "\n",
        "Advantages:\n",
        "\n",
        "- TD methods are model-free and don't require any knowledge of the underlying MDP structure. This makes them useful in a variety of problems where the model is unknown or hard to specify.\n",
        "- TD methods can update the value of a state after every time-step, allowing them to learn online and converge faster than MC methods.\n",
        "- TD methods are less susceptible to high variance than MC methods, as they update the value of a state based on a single transition, rather than a full trajectory.\n",
        "\n",
        "Disadvantages:\n",
        "\n",
        "- TD methods can be biased, as they use bootstrapping to estimate the value of a state. This bias can be reduced by using a smaller learning rate or a more accurate estimate of the value function.\n",
        "- TD methods require the agent to have some initial knowledge of the value function, which can lead to slower convergence in the early stages of learning."
      ],
      "metadata": {
        "id": "uDtThOvS5446"
      }
    }
  ]
}